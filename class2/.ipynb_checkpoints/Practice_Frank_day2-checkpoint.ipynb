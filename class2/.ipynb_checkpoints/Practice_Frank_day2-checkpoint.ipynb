{
 "cells": [
  {
   "cell_type": "code",
   "execution_count": 2,
   "metadata": {},
   "outputs": [],
   "source": [
    "#run this part before doing the practice\n",
    "\n",
    "def nacci(length):\n",
    "    fib = [1, 1]\n",
    "    i = 2\n",
    "    while i < length:\n",
    "        fib += [fib[-1] + fib[-2]]\n",
    "        i += 1\n",
    "    return fib\n",
    "\n",
    "import hashlib\n",
    "\n",
    "def generate_dict():\n",
    "    keys = [\"hello\", \"there\", \"hello_there\", \"hello there\", \"dictionaries are cool\"]\n",
    "    return {key: hashlib.md5(key.encode('utf-8')).hexdigest() for key in keys}\n",
    "\n"
   ]
  },
  {
   "cell_type": "code",
   "execution_count": 12,
   "metadata": {},
   "outputs": [
    {
     "data": {
      "text/plain": [
       "int"
      ]
     },
     "execution_count": 12,
     "metadata": {},
     "output_type": "execute_result"
    }
   ],
   "source": [
    "#run this part before doing the practice\n",
    "fibolist = nacci(50)\n",
    "demodict1 = generate_dict()\n",
    "type(fibolist[-1])"
   ]
  },
  {
   "cell_type": "code",
   "execution_count": 14,
   "metadata": {},
   "outputs": [
    {
     "name": "stdout",
     "output_type": "stream",
     "text": [
      "The last element of fibo_list is 12586269025\n",
      "Fibonacci sequence of length 50 has 12586269025 as its last element\n"
     ]
    }
   ],
   "source": [
    "fibo_last = fibolist[-1]\n",
    "print(\"The last element of fibo_list is {0:d}\".format(fibolist[-1]))\n",
    "print(\"Fibonacci sequence of length {0:d} has {1:d} as its last element\".format(len(fibolist),fibolist[-1]))"
   ]
  },
  {
   "cell_type": "code",
   "execution_count": 15,
   "metadata": {},
   "outputs": [
    {
     "name": "stdout",
     "output_type": "stream",
     "text": [
      "Fibonacci sequesce of length 50 has 12586269025 as it's last element\n"
     ]
    }
   ],
   "source": [
    "#1. Find the last element of fibolist:\n",
    "\n",
    "\n",
    "\n",
    "\n",
    "\n",
    "\n",
    "\n",
    "\n",
    "\n",
    "fibolist_last = fibolist[-1]\n",
    "print(\"Fibonacci sequesce of length {0:d} has {1:d} as it's last element\".format(len(fibolist),fibolist_last))"
   ]
  },
  {
   "cell_type": "code",
   "execution_count": 17,
   "metadata": {},
   "outputs": [],
   "source": [
    "#2. Find the sum of all even entries (indices 0, 2, 4,...) of fibolist:"
   ]
  },
  {
   "cell_type": "code",
   "execution_count": 21,
   "metadata": {},
   "outputs": [
    {
     "name": "stdout",
     "output_type": "stream",
     "text": [
      "12586269025\n"
     ]
    }
   ],
   "source": [
    "even_number = []\n",
    "sum_even_number = 0\n",
    "\n",
    "for index, number in enumerate(fibolist):\n",
    "    if index %2 == 0:\n",
    "        sum_even_number = sum_even_number + number\n",
    "\n",
    "        \n",
    "print(sum_even_number)"
   ]
  },
  {
   "cell_type": "code",
   "execution_count": 22,
   "metadata": {},
   "outputs": [
    {
     "name": "stdout",
     "output_type": "stream",
     "text": [
      "Sum of all even entries in fibolist: 12586269025\n"
     ]
    }
   ],
   "source": [
    "fibolist_even_entries_sum = sum(fibolist[::2])\n",
    "print(\"Sum of all even entries in fibolist: {0:d}\".format(fibolist_even_entries_sum))"
   ]
  },
  {
   "cell_type": "code",
   "execution_count": null,
   "metadata": {},
   "outputs": [],
   "source": []
  },
  {
   "cell_type": "code",
   "execution_count": null,
   "metadata": {},
   "outputs": [],
   "source": []
  },
  {
   "cell_type": "code",
   "execution_count": null,
   "metadata": {},
   "outputs": [],
   "source": []
  },
  {
   "cell_type": "code",
   "execution_count": 23,
   "metadata": {},
   "outputs": [
    {
     "name": "stdout",
     "output_type": "stream",
     "text": [
      "Sum of all even entries in fibolist: 12586269025\n"
     ]
    }
   ],
   "source": [
    "#2. Find the sum of all even entries (indices 0, 2, 4,...) of fibolist:\n",
    "fibolist_even_entries_sum = sum(fibolist[::2])\n",
    "print(\"Sum of all even entries in fibolist: {0:d}\".format(fibolist_even_entries_sum))"
   ]
  },
  {
   "cell_type": "code",
   "execution_count": 26,
   "metadata": {},
   "outputs": [],
   "source": [
    "#3. Lists can be extended. The next fibonacci number is 20365011074, add it to fibolist.\n",
    "fibolist.append(23365011074)"
   ]
  },
  {
   "cell_type": "code",
   "execution_count": 16,
   "metadata": {},
   "outputs": [
    {
     "data": {
      "text/plain": [
       "[1,\n",
       " 1,\n",
       " 2,\n",
       " 3,\n",
       " 5,\n",
       " 8,\n",
       " 13,\n",
       " 21,\n",
       " 34,\n",
       " 55,\n",
       " 89,\n",
       " 144,\n",
       " 233,\n",
       " 377,\n",
       " 610,\n",
       " 987,\n",
       " 1597,\n",
       " 2584,\n",
       " 4181,\n",
       " 6765,\n",
       " 10946,\n",
       " 17711,\n",
       " 28657,\n",
       " 46368,\n",
       " 75025,\n",
       " 121393,\n",
       " 196418,\n",
       " 317811,\n",
       " 514229,\n",
       " 832040,\n",
       " 1346269,\n",
       " 2178309,\n",
       " 3524578,\n",
       " 5702887,\n",
       " 9227465,\n",
       " 14930352,\n",
       " 24157817,\n",
       " 39088169,\n",
       " 63245986,\n",
       " 102334155,\n",
       " 165580141,\n",
       " 267914296,\n",
       " 433494437,\n",
       " 701408733,\n",
       " 1134903170,\n",
       " 1836311903,\n",
       " 2971215073,\n",
       " 4807526976,\n",
       " 7778742049,\n",
       " 12586269025,\n",
       " 20365011074]"
      ]
     },
     "execution_count": 16,
     "metadata": {},
     "output_type": "execute_result"
    }
   ],
   "source": [
    "#3. Lists can be extended. The next fibonacci number is 20365011074, add it to fibolist.\n",
    "fibolist.append(20365011074)\n",
    "fibolist"
   ]
  },
  {
   "cell_type": "code",
   "execution_count": 32,
   "metadata": {},
   "outputs": [],
   "source": [
    "#4. Can you put a reversed copy of fibolist into fibolist_reversed without changing fibolist in place?"
   ]
  },
  {
   "cell_type": "code",
   "execution_count": 43,
   "metadata": {},
   "outputs": [],
   "source": [
    "import copy\n",
    "fibolist_copy = copy.deepcopy(fibolist)\n",
    "fibolist_copy.reverse() \n",
    "print(fibolist_copy)"
   ]
  },
  {
   "cell_type": "code",
   "execution_count": 46,
   "metadata": {},
   "outputs": [
    {
     "name": "stdout",
     "output_type": "stream",
     "text": [
      "[23365011074, 23365011074, 23365011074, 12586269025, 7778742049, 4807526976, 2971215073, 1836311903, 1134903170, 701408733, 433494437, 267914296, 165580141, 102334155, 63245986, 39088169, 24157817, 14930352, 9227465, 5702887, 3524578, 2178309, 1346269, 832040, 514229, 317811, 196418, 121393, 75025, 46368, 28657, 17711, 10946, 6765, 4181, 2584, 1597, 987, 610, 377, 233, 144, 89, 55, 34, 21, 13, 8, 5, 3, 2, 1, 1]\n"
     ]
    }
   ],
   "source": [
    "#4. Can you put a reversed copy of fibolist into fibolist_reversed without changing fibolist in place?\n",
    "fibolist_reversed = fibolist.copy()\n",
    "fibolist_reversed.reverse()\n",
    "print(fibolist_reversed)"
   ]
  },
  {
   "cell_type": "code",
   "execution_count": 50,
   "metadata": {},
   "outputs": [],
   "source": [
    "A = [1, 2, 3, 4, 5]\n",
    "B = [\"a\", \"b\", \"c\", \"d\", \"e\"]\n",
    "#5. Two lists can be concatenated with +. Concatenate A and B together, and store the result in A_and_B.\n",
    "A_and_B = A + B"
   ]
  },
  {
   "cell_type": "code",
   "execution_count": 52,
   "metadata": {},
   "outputs": [
    {
     "data": {
      "text/plain": [
       "[1, 2, 3, 4, 5, 'a', 'b', 'c', 'd', 'e']"
      ]
     },
     "execution_count": 52,
     "metadata": {},
     "output_type": "execute_result"
    }
   ],
   "source": [
    "A = [1, 2, 3, 4, 5]\n",
    "B = [\"a\", \"b\", \"c\", \"d\", \"e\"]\n",
    "#5. Two lists can be concatenated with +. Concatenate A and B together, and store the result in A_and_B.\n",
    "A_and_B = A + B\n",
    "A_and_B"
   ]
  },
  {
   "cell_type": "code",
   "execution_count": 58,
   "metadata": {},
   "outputs": [
    {
     "name": "stdout",
     "output_type": "stream",
     "text": [
      "is 1337 in the fibo list? False\n"
     ]
    }
   ],
   "source": [
    "#6. Check if 1337 is in fibolist. If it is, make is_1337_fibo True, otherwise make it False.\n",
    "  \n",
    "is_1337_fibo = 1337 in set(fibolist)\n",
    "print(\"is 1337 in the fibo list? {0}\".format(is_1337_fibo))"
   ]
  },
  {
   "cell_type": "code",
   "execution_count": 59,
   "metadata": {},
   "outputs": [
    {
     "name": "stdout",
     "output_type": "stream",
     "text": [
      "is 1337 in the fibo list? False\n"
     ]
    }
   ],
   "source": [
    "#6. Check if 1337 is in fibolist. If it is, make is_1337_fibo True, otherwise make it False.\n",
    "is_1337_fibo = 1337 in set(fibolist)\n",
    "print(\"is 1337 in the fibo list? {0}\".format(is_1337_fibo))"
   ]
  },
  {
   "cell_type": "code",
   "execution_count": 68,
   "metadata": {},
   "outputs": [
    {
     "data": {
      "text/plain": [
       "(0, 2, 'hello', 5, 7, 9, 1, 1, 91)"
      ]
     },
     "execution_count": 68,
     "metadata": {},
     "output_type": "execute_result"
    }
   ],
   "source": [
    "#####Tuples!#####\n",
    "maybe_your_first_tuple = (0, 1, 2, 3, \"hello\", 4, 5, 6, 7, 8, 9, 10, 1, 4, 1, 1, 91)\n",
    "\n",
    "#7. Tuples also support slicing like lists. Find the even- and odd-indexed entries of the tuple:\n",
    "odd_indexed_entries = maybe_your_first_tuple[::2]\n",
    "odd_indexed_entries"
   ]
  },
  {
   "cell_type": "code",
   "execution_count": 69,
   "metadata": {},
   "outputs": [
    {
     "data": {
      "text/plain": [
       "(1, 3, 4, 6, 8, 10, 4, 1)"
      ]
     },
     "execution_count": 69,
     "metadata": {},
     "output_type": "execute_result"
    }
   ],
   "source": [
    "even_indexed_entries = maybe_your_first_tuple[1::2]\n",
    "even_indexed_entries"
   ]
  },
  {
   "cell_type": "code",
   "execution_count": null,
   "metadata": {},
   "outputs": [],
   "source": []
  },
  {
   "cell_type": "code",
   "execution_count": null,
   "metadata": {},
   "outputs": [],
   "source": []
  },
  {
   "cell_type": "code",
   "execution_count": 72,
   "metadata": {},
   "outputs": [],
   "source": [
    "#####Tuples!#####\n",
    "maybe_your_first_tuple = (0, 1, 2, 3, \"hello\", 4, 5, 6, 7, 8, 9, 10, 1, 4, 1, 1, 91)\n",
    "\n",
    "#7. Tuples also support slicing like lists. Find the even- and odd-indexed entries of the tuple:\n",
    "your_first_tuple_evens = maybe_your_first_tuple[::2]\n",
    "your_first_tuple_odds = maybe_your_first_tuple[1::2]"
   ]
  },
  {
   "cell_type": "code",
   "execution_count": 73,
   "metadata": {},
   "outputs": [
    {
     "data": {
      "text/plain": [
       "(1, 3, 4, 6, 8, 10, 4, 1)"
      ]
     },
     "execution_count": 73,
     "metadata": {},
     "output_type": "execute_result"
    }
   ],
   "source": [
    "your_first_tuple_odds"
   ]
  },
  {
   "cell_type": "code",
   "execution_count": 74,
   "metadata": {},
   "outputs": [
    {
     "data": {
      "text/plain": [
       "(0, 2, 'hello', 5, 7, 9, 1, 1, 91)"
      ]
     },
     "execution_count": 74,
     "metadata": {},
     "output_type": "execute_result"
    }
   ],
   "source": [
    "your_first_tuple_evens"
   ]
  },
  {
   "cell_type": "code",
   "execution_count": 81,
   "metadata": {},
   "outputs": [
    {
     "data": {
      "text/plain": [
       "{1, 2, 3, 4, 5, 6, 7, 8, 45, 52, 234, 243, 345, 523, 2345}"
      ]
     },
     "execution_count": 81,
     "metadata": {},
     "output_type": "execute_result"
    }
   ],
   "source": [
    "#####Sets!#####\n",
    "\n",
    "#8. Sets are often used to find the distinct elements of a list. Find the distinct elements below:\n",
    "some_repeats = [1,1,1,1,1,1,2,2,2,2,3,4,5,6,7,8,2345,345,2,52,243,5,2,345,523,45,5,4,2,2,3,5,234,2345]\n",
    "\n",
    "set_some_repeats = set(some_repeats)\n",
    "set_some_repeats"
   ]
  },
  {
   "cell_type": "code",
   "execution_count": null,
   "metadata": {},
   "outputs": [],
   "source": []
  },
  {
   "cell_type": "code",
   "execution_count": null,
   "metadata": {},
   "outputs": [],
   "source": []
  },
  {
   "cell_type": "code",
   "execution_count": 82,
   "metadata": {},
   "outputs": [
    {
     "data": {
      "text/plain": [
       "{1, 2, 3, 4, 5, 6, 7, 8, 45, 52, 234, 243, 345, 523, 2345}"
      ]
     },
     "execution_count": 82,
     "metadata": {},
     "output_type": "execute_result"
    }
   ],
   "source": [
    "#####Sets!#####\n",
    "\n",
    "#8. Sets are often used to find the distinct elements of a list. Find the distinct elements below:\n",
    "some_repeats = [1,1,1,1,1,1,2,2,2,2,3,4,5,6,7,8,2345,345,2,52,243,5,2,345,523,45,5,4,2,2,3,5,234,2345]\n",
    "distinct_elements = set(some_repeats)\n",
    "distinct_elements"
   ]
  },
  {
   "cell_type": "code",
   "execution_count": 87,
   "metadata": {},
   "outputs": [],
   "source": [
    "set_A = set(range(100))\n",
    "set_B = set(range(0,200,2))\n",
    "\n",
    "#9. Apply the union and intersection operations to set_A and set_B as indicated:\n",
    "A_union_B = set_A | set_B\n",
    "A_intersection_B = set_A & set_B\n"
   ]
  },
  {
   "cell_type": "code",
   "execution_count": null,
   "metadata": {},
   "outputs": [],
   "source": []
  },
  {
   "cell_type": "code",
   "execution_count": 27,
   "metadata": {},
   "outputs": [],
   "source": [
    "set_A = set(range(100))\n",
    "set_B = set(range(0,200,2))\n",
    "\n",
    "#9. Apply the union and intersection operations to set_A and set_B as indicated:\n",
    "A_union_B = set_A | set_B\n",
    "A_intersection_B = set_A & set_B"
   ]
  },
  {
   "cell_type": "code",
   "execution_count": 29,
   "metadata": {},
   "outputs": [
    {
     "data": {
      "text/plain": [
       "{0,\n",
       " 1,\n",
       " 2,\n",
       " 3,\n",
       " 4,\n",
       " 5,\n",
       " 6,\n",
       " 7,\n",
       " 8,\n",
       " 9,\n",
       " 10,\n",
       " 11,\n",
       " 12,\n",
       " 13,\n",
       " 14,\n",
       " 15,\n",
       " 16,\n",
       " 17,\n",
       " 18,\n",
       " 19,\n",
       " 20,\n",
       " 21,\n",
       " 22,\n",
       " 23,\n",
       " 24,\n",
       " 25,\n",
       " 26,\n",
       " 27,\n",
       " 28,\n",
       " 29,\n",
       " 30,\n",
       " 31,\n",
       " 32,\n",
       " 33,\n",
       " 34,\n",
       " 35,\n",
       " 36,\n",
       " 37,\n",
       " 38,\n",
       " 39,\n",
       " 40,\n",
       " 41,\n",
       " 42,\n",
       " 43,\n",
       " 44,\n",
       " 45,\n",
       " 46,\n",
       " 47,\n",
       " 48,\n",
       " 49,\n",
       " 50,\n",
       " 51,\n",
       " 52,\n",
       " 53,\n",
       " 54,\n",
       " 55,\n",
       " 56,\n",
       " 57,\n",
       " 58,\n",
       " 59,\n",
       " 60,\n",
       " 61,\n",
       " 62,\n",
       " 63,\n",
       " 64,\n",
       " 65,\n",
       " 66,\n",
       " 67,\n",
       " 68,\n",
       " 69,\n",
       " 70,\n",
       " 71,\n",
       " 72,\n",
       " 73,\n",
       " 74,\n",
       " 75,\n",
       " 76,\n",
       " 77,\n",
       " 78,\n",
       " 79,\n",
       " 80,\n",
       " 81,\n",
       " 82,\n",
       " 83,\n",
       " 84,\n",
       " 85,\n",
       " 86,\n",
       " 87,\n",
       " 88,\n",
       " 89,\n",
       " 90,\n",
       " 91,\n",
       " 92,\n",
       " 93,\n",
       " 94,\n",
       " 95,\n",
       " 96,\n",
       " 97,\n",
       " 98,\n",
       " 99,\n",
       " 100,\n",
       " 102,\n",
       " 104,\n",
       " 106,\n",
       " 108,\n",
       " 110,\n",
       " 112,\n",
       " 114,\n",
       " 116,\n",
       " 118,\n",
       " 120,\n",
       " 122,\n",
       " 124,\n",
       " 126,\n",
       " 128,\n",
       " 130,\n",
       " 132,\n",
       " 134,\n",
       " 136,\n",
       " 138,\n",
       " 140,\n",
       " 142,\n",
       " 144,\n",
       " 146,\n",
       " 148,\n",
       " 150,\n",
       " 152,\n",
       " 154,\n",
       " 156,\n",
       " 158,\n",
       " 160,\n",
       " 162,\n",
       " 164,\n",
       " 166,\n",
       " 168,\n",
       " 170,\n",
       " 172,\n",
       " 174,\n",
       " 176,\n",
       " 178,\n",
       " 180,\n",
       " 182,\n",
       " 184,\n",
       " 186,\n",
       " 188,\n",
       " 190,\n",
       " 192,\n",
       " 194,\n",
       " 196,\n",
       " 198}"
      ]
     },
     "execution_count": 29,
     "metadata": {},
     "output_type": "execute_result"
    }
   ],
   "source": [
    "A_union_B"
   ]
  },
  {
   "cell_type": "code",
   "execution_count": 88,
   "metadata": {},
   "outputs": [
    {
     "data": {
      "text/plain": [
       "{0,\n",
       " 2,\n",
       " 4,\n",
       " 6,\n",
       " 8,\n",
       " 10,\n",
       " 12,\n",
       " 14,\n",
       " 16,\n",
       " 18,\n",
       " 20,\n",
       " 22,\n",
       " 24,\n",
       " 26,\n",
       " 28,\n",
       " 30,\n",
       " 32,\n",
       " 34,\n",
       " 36,\n",
       " 38,\n",
       " 40,\n",
       " 42,\n",
       " 44,\n",
       " 46,\n",
       " 48,\n",
       " 50,\n",
       " 52,\n",
       " 54,\n",
       " 56,\n",
       " 58,\n",
       " 60,\n",
       " 62,\n",
       " 64,\n",
       " 66,\n",
       " 68,\n",
       " 70,\n",
       " 72,\n",
       " 74,\n",
       " 76,\n",
       " 78,\n",
       " 80,\n",
       " 82,\n",
       " 84,\n",
       " 86,\n",
       " 88,\n",
       " 90,\n",
       " 92,\n",
       " 94,\n",
       " 96,\n",
       " 98}"
      ]
     },
     "execution_count": 88,
     "metadata": {},
     "output_type": "execute_result"
    }
   ],
   "source": [
    "A_intersection_B "
   ]
  },
  {
   "cell_type": "code",
   "execution_count": 89,
   "metadata": {},
   "outputs": [
    {
     "data": {
      "text/plain": [
       "'161bc25962da8fed6d2f59922fb642aa'"
      ]
     },
     "execution_count": 89,
     "metadata": {},
     "output_type": "execute_result"
    }
   ],
   "source": [
    "#####Dictionaries!#####\n",
    "\n",
    "# Dictionary elements are accessed by key rather than position.\n",
    "#10. Try it here - get the value of key \"hello there\" in the dictionary demodict1 (created at the top of this script):\n",
    "demodict1[\"hello there\"]"
   ]
  },
  {
   "cell_type": "code",
   "execution_count": 90,
   "metadata": {},
   "outputs": [],
   "source": [
    "del demodict1[\"there\"]"
   ]
  },
  {
   "cell_type": "code",
   "execution_count": 93,
   "metadata": {},
   "outputs": [
    {
     "data": {
      "text/plain": [
       "{'hello_there': '290e1c9cc54995453b810dfb15b853a1',\n",
       " 'hello there': '161bc25962da8fed6d2f59922fb642aa',\n",
       " 'dictionaries are cool': '6b011c7572cef2d3759c11ff1602ed9c'}"
      ]
     },
     "execution_count": 93,
     "metadata": {},
     "output_type": "execute_result"
    }
   ],
   "source": [
    "demodict1"
   ]
  },
  {
   "cell_type": "code",
   "execution_count": 92,
   "metadata": {},
   "outputs": [],
   "source": [
    "del demodict1['hello']"
   ]
  },
  {
   "cell_type": "code",
   "execution_count": null,
   "metadata": {},
   "outputs": [],
   "source": []
  },
  {
   "cell_type": "code",
   "execution_count": null,
   "metadata": {},
   "outputs": [],
   "source": []
  },
  {
   "cell_type": "code",
   "execution_count": null,
   "metadata": {},
   "outputs": [],
   "source": []
  },
  {
   "cell_type": "code",
   "execution_count": 30,
   "metadata": {},
   "outputs": [],
   "source": [
    "#####Dictionaries!#####\n",
    "\n",
    "# Dictionary elements are accessed by key rather than position.\n",
    "#10. Try it here - get the value of key \"hello there\" in the dictionary demodict1 (created at the top of this script):\n",
    "hello_there_value = demodict1[\"hello there\"]"
   ]
  },
  {
   "cell_type": "code",
   "execution_count": 31,
   "metadata": {},
   "outputs": [],
   "source": [
    "#11. remove the key \"there\" from demodict1:\n",
    "del demodict1[\"there\"]"
   ]
  },
  {
   "cell_type": "code",
   "execution_count": 32,
   "metadata": {},
   "outputs": [
    {
     "data": {
      "text/plain": [
       "{'hello': '5d41402abc4b2a76b9719d911017c592',\n",
       " 'hello_there': '290e1c9cc54995453b810dfb15b853a1',\n",
       " 'hello there': '161bc25962da8fed6d2f59922fb642aa',\n",
       " 'dictionaries are cool': '6b011c7572cef2d3759c11ff1602ed9c'}"
      ]
     },
     "execution_count": 32,
     "metadata": {},
     "output_type": "execute_result"
    }
   ],
   "source": [
    "demodict1"
   ]
  },
  {
   "cell_type": "code",
   "execution_count": 137,
   "metadata": {},
   "outputs": [],
   "source": [
    "#run this part before doing the practice\n",
    "import random\n",
    "random.seed(13789)\n",
    "account_id_list = range(1,51)\n",
    "account_balance_list = [random.randint(-2000,2000) for id in account_id_list]"
   ]
  },
  {
   "cell_type": "code",
   "execution_count": 98,
   "metadata": {},
   "outputs": [
    {
     "data": {
      "text/plain": [
       "258"
      ]
     },
     "execution_count": 98,
     "metadata": {},
     "output_type": "execute_result"
    }
   ],
   "source": [
    "#12. Set total_balance equal to the sum of all the items in\n",
    "# account_balance_list.\n",
    "\n",
    "total_balance = sum(account_balance_list)\n",
    "total_balance"
   ]
  },
  {
   "cell_type": "code",
   "execution_count": 102,
   "metadata": {},
   "outputs": [
    {
     "data": {
      "text/plain": [
       "258"
      ]
     },
     "execution_count": 102,
     "metadata": {},
     "output_type": "execute_result"
    }
   ],
   "source": [
    "#12. Set total_balance equal to the sum of all the items in\n",
    "# account_balance_list.\n",
    "total_balance = 0\n",
    "for balance in account_balance_list:\n",
    "    total_balance = total_balance + balance\n",
    "\n",
    "total_balance"
   ]
  },
  {
   "cell_type": "code",
   "execution_count": 107,
   "metadata": {},
   "outputs": [
    {
     "name": "stdout",
     "output_type": "stream",
     "text": [
      "30410\n",
      "23\n"
     ]
    }
   ],
   "source": [
    "#13. Set total_credit_balance equal to the sum of all the items\n",
    "# in account_balance_list that are greater than or equal to zero.\n",
    "# Additionally, set num_accounts_with_credit equal to the number\n",
    "# of items that meet this criteria.\n",
    "\n",
    "total_credit_balance = 0\n",
    "num_accounts_with_credit = 0\n",
    "\n",
    "for balance in account_balance_list:\n",
    "    if balance >= 0:\n",
    "        total_credit_balance = total_credit_balance + balance\n",
    "        num_accounts_with_credit = num_accounts_with_credit + 1 \n",
    "        \n",
    "print(total_credit_balance)\n",
    "print(num_accounts_with_credit)\n"
   ]
  },
  {
   "cell_type": "code",
   "execution_count": null,
   "metadata": {},
   "outputs": [],
   "source": []
  },
  {
   "cell_type": "code",
   "execution_count": null,
   "metadata": {},
   "outputs": [],
   "source": []
  },
  {
   "cell_type": "code",
   "execution_count": 108,
   "metadata": {},
   "outputs": [],
   "source": [
    "#13. Set total_credit_balance equal to the sum of all the items\n",
    "# in account_balance_list that are greater than or equal to zero.\n",
    "# Additionally, set num_accounts_with_credit equal to the number\n",
    "# of items that meet this criteria.\n",
    "\n",
    "total_credit_balance = 0\n",
    "num_accounts_with_credit = 0\n",
    "for b in account_balance_list:\n",
    "   if b >= 0 :\n",
    "        total_credit_balance = total_credit_balance + b\n",
    "        num_accounts_with_credit = num_accounts_with_credit + 1\n"
   ]
  },
  {
   "cell_type": "code",
   "execution_count": 109,
   "metadata": {},
   "outputs": [
    {
     "data": {
      "text/plain": [
       "30410"
      ]
     },
     "execution_count": 109,
     "metadata": {},
     "output_type": "execute_result"
    }
   ],
   "source": [
    "total_credit_balance"
   ]
  },
  {
   "cell_type": "code",
   "execution_count": 111,
   "metadata": {},
   "outputs": [
    {
     "data": {
      "text/plain": [
       "23"
      ]
     },
     "execution_count": 111,
     "metadata": {},
     "output_type": "execute_result"
    }
   ],
   "source": [
    "num_accounts_with_credit"
   ]
  },
  {
   "cell_type": "code",
   "execution_count": 112,
   "metadata": {},
   "outputs": [],
   "source": [
    "# 14. Make account_id_debt_list a list of all elements \n",
    "#     in account_id_list that correspond to elements in account_balance_list that are\n",
    "#     thare are less than zero\n",
    "\n",
    "account_id_debt_list = list()"
   ]
  },
  {
   "cell_type": "code",
   "execution_count": 120,
   "metadata": {},
   "outputs": [],
   "source": [
    "for i in account_id_list:\n",
    "    if account_balance_list[i-1] < 0:\n",
    "        account_id_debt_list.append(i)\n",
    "        "
   ]
  },
  {
   "cell_type": "code",
   "execution_count": 132,
   "metadata": {},
   "outputs": [],
   "source": [
    "#15. Set all balances less than zero to be zero in account_balance_list.\n",
    "# account_balance_list = None\n",
    "\n",
    "account_balance_list\n",
    "\n",
    "for i in range(len(account_balance_list)):\n",
    "    if account_balance_list[i] < 0:\n",
    "        account_balance_list[i] == 0\n"
   ]
  },
  {
   "cell_type": "code",
   "execution_count": 133,
   "metadata": {},
   "outputs": [
    {
     "name": "stdout",
     "output_type": "stream",
     "text": [
      "[1901, 1783, 0, 0, 472, 0, 1691, 1989, 1441, 0, 1340, 0, 0, 1524, 0, 0, 0, 704, 655, 0, 0, 751, 0, 1110, 0, 1962, 0, 907, 0, 1356, 0, 0, 1710, 1122, 0, 1827, 0, 0, 0, 0, 1726, 0, 0, 1258, 32, 0, 1177, 1972, 0, 0]\n"
     ]
    }
   ],
   "source": [
    "print(account_balance_list)"
   ]
  },
  {
   "cell_type": "code",
   "execution_count": 128,
   "metadata": {},
   "outputs": [],
   "source": [
    "for i in account_id_list:\n",
    "    if account_balance_list[i-1] < 0:\n",
    "        account_balance_list[i-1] = 0"
   ]
  },
  {
   "cell_type": "code",
   "execution_count": 129,
   "metadata": {},
   "outputs": [
    {
     "data": {
      "text/plain": [
       "[1901,\n",
       " 1783,\n",
       " 0,\n",
       " 0,\n",
       " 472,\n",
       " 0,\n",
       " 1691,\n",
       " 1989,\n",
       " 1441,\n",
       " 0,\n",
       " 1340,\n",
       " 0,\n",
       " 0,\n",
       " 1524,\n",
       " 0,\n",
       " 0,\n",
       " 0,\n",
       " 704,\n",
       " 655,\n",
       " 0,\n",
       " 0,\n",
       " 751,\n",
       " 0,\n",
       " 1110,\n",
       " 0,\n",
       " 1962,\n",
       " 0,\n",
       " 907,\n",
       " 0,\n",
       " 1356,\n",
       " 0,\n",
       " 0,\n",
       " 1710,\n",
       " 1122,\n",
       " 0,\n",
       " 1827,\n",
       " 0,\n",
       " 0,\n",
       " 0,\n",
       " 0,\n",
       " 1726,\n",
       " 0,\n",
       " 0,\n",
       " 1258,\n",
       " 32,\n",
       " 0,\n",
       " 1177,\n",
       " 1972,\n",
       " 0,\n",
       " 0]"
      ]
     },
     "execution_count": 129,
     "metadata": {},
     "output_type": "execute_result"
    }
   ],
   "source": [
    "account_balance_list"
   ]
  },
  {
   "cell_type": "code",
   "execution_count": null,
   "metadata": {},
   "outputs": [],
   "source": []
  }
 ],
 "metadata": {
  "kernelspec": {
   "display_name": "Python 3",
   "language": "python",
   "name": "python3"
  },
  "language_info": {
   "codemirror_mode": {
    "name": "ipython",
    "version": 3
   },
   "file_extension": ".py",
   "mimetype": "text/x-python",
   "name": "python",
   "nbconvert_exporter": "python",
   "pygments_lexer": "ipython3",
   "version": "3.6.5"
  }
 },
 "nbformat": 4,
 "nbformat_minor": 2
}
