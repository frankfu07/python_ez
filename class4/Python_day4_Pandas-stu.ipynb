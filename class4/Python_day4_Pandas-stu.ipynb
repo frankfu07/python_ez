{
 "cells": [
  {
   "cell_type": "code",
   "execution_count": 1,
   "metadata": {},
   "outputs": [],
   "source": [
    "# import packages\n",
    "import numpy as np # numpy allows us to structure data in two-dimensional arrays\n",
    "import pandas as pd # pandas provides indexing structure and data manipulation functionality on top of numpy arrays\n",
    "import matplotlib.pyplot as plt # matplotlib is a plotting package\n",
    "%matplotlib inline \n",
    "# configures iPython to show plots in the notebook"
   ]
  },
  {
   "cell_type": "markdown",
   "metadata": {},
   "source": [
    "## 4. Basic Pandas concepts\n",
    "\n",
    "Pandas stands for “Python Data Analysis Library”. It is a high-level data manipulation tool developed by Wes McKinney. It is built on the Numpy package and its key data structure is called the DataFrame. DataFrames allow you to store and manipulate tabular data in rows of observations and columns of variables.\n",
    "\n",
    "### 4.1 Pandas Series\n",
    "A Series is the foundational data structure of Pandas. It contains two types of information: index and values. Indexes identify the position of the values within the Series. The default index is `[0,1,2,3....n]`.\n",
    "\n",
    "The code below creates a Series with the values `\"a\",\"b\",\"c\"`. No index is assigned so the default `[0,1,2]` is used."
   ]
  },
  {
   "cell_type": "code",
   "execution_count": 2,
   "metadata": {},
   "outputs": [
    {
     "data": {
      "text/plain": [
       "0    a\n",
       "1    b\n",
       "2    c\n",
       "dtype: object"
      ]
     },
     "execution_count": 2,
     "metadata": {},
     "output_type": "execute_result"
    }
   ],
   "source": [
    "basic_series = pd.Series([\"a\",\"b\",\"c\"])\n",
    "basic_series"
   ]
  },
  {
   "cell_type": "markdown",
   "metadata": {},
   "source": [
    "To retrieve a certain value, specify the index."
   ]
  },
  {
   "cell_type": "code",
   "execution_count": 3,
   "metadata": {},
   "outputs": [
    {
     "data": {
      "text/plain": [
       "'a'"
      ]
     },
     "execution_count": 3,
     "metadata": {},
     "output_type": "execute_result"
    }
   ],
   "source": [
    "basic_series[0]"
   ]
  },
  {
   "cell_type": "markdown",
   "metadata": {},
   "source": [
    "### 4.2 Pandas DataFrame\n",
    "A Pandas DataFrame (df) is multiple Series combined together with a common index. The individual Series are called columns. \n",
    "\n",
    "Data types can be mixed across the columns of a df, but we recommend keeping the same datatype *within* a column e.g. all numeric floats or all strings. If you have a background in relational data, you likely think this way already.\n",
    "\n",
    "There are a few different ways to create a df from scratch. The code below uses a dictionary. Each key in the dictionary `(\"Instructors\", \"Heights\", \"Locations\")` becomes a column name and the values from each key are the values of the respective columns. No index is specified so the default `[0,1,2]` is used."
   ]
  },
  {
   "cell_type": "code",
   "execution_count": 4,
   "metadata": {},
   "outputs": [
    {
     "data": {
      "text/html": [
       "<div>\n",
       "<style scoped>\n",
       "    .dataframe tbody tr th:only-of-type {\n",
       "        vertical-align: middle;\n",
       "    }\n",
       "\n",
       "    .dataframe tbody tr th {\n",
       "        vertical-align: top;\n",
       "    }\n",
       "\n",
       "    .dataframe thead th {\n",
       "        text-align: right;\n",
       "    }\n",
       "</style>\n",
       "<table border=\"1\" class=\"dataframe\">\n",
       "  <thead>\n",
       "    <tr style=\"text-align: right;\">\n",
       "      <th></th>\n",
       "      <th>Instructors</th>\n",
       "      <th>Heights</th>\n",
       "      <th>Locations</th>\n",
       "    </tr>\n",
       "  </thead>\n",
       "  <tbody>\n",
       "    <tr>\n",
       "      <th>0</th>\n",
       "      <td>Ken</td>\n",
       "      <td>80</td>\n",
       "      <td>ON</td>\n",
       "    </tr>\n",
       "    <tr>\n",
       "      <th>1</th>\n",
       "      <td>Steven</td>\n",
       "      <td>70</td>\n",
       "      <td>BC</td>\n",
       "    </tr>\n",
       "    <tr>\n",
       "      <th>2</th>\n",
       "      <td>Xing</td>\n",
       "      <td>68</td>\n",
       "      <td>QC</td>\n",
       "    </tr>\n",
       "  </tbody>\n",
       "</table>\n",
       "</div>"
      ],
      "text/plain": [
       "  Instructors  Heights Locations\n",
       "0         Ken       80        ON\n",
       "1      Steven       70        BC\n",
       "2        Xing       68        QC"
      ]
     },
     "execution_count": 4,
     "metadata": {},
     "output_type": "execute_result"
    }
   ],
   "source": [
    "sample_df = pd.DataFrame({\"Instructors\": [\"Ken\",\"Steven\", \"Xing\"], \"Heights\": [80,70,68], \"Locations\": [\"ON\", \"BC\", \"QC\"]})\n",
    "sample_df"
   ]
  },
  {
   "cell_type": "markdown",
   "metadata": {},
   "source": [
    "To select a single column from a dataframe, use the dataframe name along with brackets containing the column name like `df['column_name']`.\n",
    "\n",
    "Since a dataframe is simply multiple Series combined together, **selecting a single column produces a Series.** This characteristic is important to remember, as the suite of methods available to single DataFrame columns is that of Series, not DataFrames."
   ]
  },
  {
   "cell_type": "code",
   "execution_count": 5,
   "metadata": {},
   "outputs": [
    {
     "data": {
      "text/plain": [
       "0    ON\n",
       "1    BC\n",
       "2    QC\n",
       "Name: Locations, dtype: object"
      ]
     },
     "execution_count": 5,
     "metadata": {},
     "output_type": "execute_result"
    }
   ],
   "source": [
    "sample_df['Locations']"
   ]
  },
  {
   "cell_type": "markdown",
   "metadata": {},
   "source": [
    "#### Practice 1\n",
    "\n",
    "1. Create a dataframe called `first_df` with the column names`[\"staff\",\"colors\",\"age\"]` and the respective values `[\"Leo\",\"Dan\",\"Cindy\"]`, `[\"blue\",\"green\",\"red\"]`, and `[29,21,20]`. Use the default index.\n",
    "\n",
    "2. Assign the `staff` column from `my_first_df` to a new variable called `staff_new`."
   ]
  },
  {
   "cell_type": "code",
   "execution_count": 6,
   "metadata": {},
   "outputs": [],
   "source": [
    "# your code for step 1\n"
   ]
  },
  {
   "cell_type": "code",
   "execution_count": 7,
   "metadata": {},
   "outputs": [
    {
     "data": {
      "text/plain": [
       "0      Leo\n",
       "1      Dan\n",
       "2    Cindy\n",
       "Name: staff, dtype: object"
      ]
     },
     "execution_count": 7,
     "metadata": {},
     "output_type": "execute_result"
    }
   ],
   "source": [
    "# your code for step 2\n"
   ]
  },
  {
   "cell_type": "markdown",
   "metadata": {},
   "source": [
    "### 4.3 Indexes\n",
    "\n",
    "In the examples above, no index was specified so the default sequential index was used. You can easily assign a custom index, as we demonstrate below.\n",
    "\n",
    "Here's a reminder of the dataframe we created above."
   ]
  },
  {
   "cell_type": "code",
   "execution_count": 8,
   "metadata": {},
   "outputs": [
    {
     "data": {
      "text/html": [
       "<div>\n",
       "<style scoped>\n",
       "    .dataframe tbody tr th:only-of-type {\n",
       "        vertical-align: middle;\n",
       "    }\n",
       "\n",
       "    .dataframe tbody tr th {\n",
       "        vertical-align: top;\n",
       "    }\n",
       "\n",
       "    .dataframe thead th {\n",
       "        text-align: right;\n",
       "    }\n",
       "</style>\n",
       "<table border=\"1\" class=\"dataframe\">\n",
       "  <thead>\n",
       "    <tr style=\"text-align: right;\">\n",
       "      <th></th>\n",
       "      <th>Instructors</th>\n",
       "      <th>Heights</th>\n",
       "      <th>Locations</th>\n",
       "    </tr>\n",
       "  </thead>\n",
       "  <tbody>\n",
       "    <tr>\n",
       "      <th>0</th>\n",
       "      <td>Ken</td>\n",
       "      <td>80</td>\n",
       "      <td>ON</td>\n",
       "    </tr>\n",
       "    <tr>\n",
       "      <th>1</th>\n",
       "      <td>Steven</td>\n",
       "      <td>70</td>\n",
       "      <td>BC</td>\n",
       "    </tr>\n",
       "    <tr>\n",
       "      <th>2</th>\n",
       "      <td>Xing</td>\n",
       "      <td>68</td>\n",
       "      <td>QC</td>\n",
       "    </tr>\n",
       "  </tbody>\n",
       "</table>\n",
       "</div>"
      ],
      "text/plain": [
       "  Instructors  Heights Locations\n",
       "0         Ken       80        ON\n",
       "1      Steven       70        BC\n",
       "2        Xing       68        QC"
      ]
     },
     "execution_count": 8,
     "metadata": {},
     "output_type": "execute_result"
    }
   ],
   "source": [
    "sample_df"
   ]
  },
  {
   "cell_type": "markdown",
   "metadata": {},
   "source": [
    "Here's the same example, but the instructors' names are now assigned as the index instead of as a column."
   ]
  },
  {
   "cell_type": "code",
   "execution_count": 9,
   "metadata": {},
   "outputs": [
    {
     "data": {
      "text/html": [
       "<div>\n",
       "<style scoped>\n",
       "    .dataframe tbody tr th:only-of-type {\n",
       "        vertical-align: middle;\n",
       "    }\n",
       "\n",
       "    .dataframe tbody tr th {\n",
       "        vertical-align: top;\n",
       "    }\n",
       "\n",
       "    .dataframe thead th {\n",
       "        text-align: right;\n",
       "    }\n",
       "</style>\n",
       "<table border=\"1\" class=\"dataframe\">\n",
       "  <thead>\n",
       "    <tr style=\"text-align: right;\">\n",
       "      <th></th>\n",
       "      <th>Heights</th>\n",
       "      <th>Locations</th>\n",
       "    </tr>\n",
       "    <tr>\n",
       "      <th>Instructors</th>\n",
       "      <th></th>\n",
       "      <th></th>\n",
       "    </tr>\n",
       "  </thead>\n",
       "  <tbody>\n",
       "    <tr>\n",
       "      <th>Ken</th>\n",
       "      <td>80</td>\n",
       "      <td>ON</td>\n",
       "    </tr>\n",
       "    <tr>\n",
       "      <th>Steven</th>\n",
       "      <td>70</td>\n",
       "      <td>BC</td>\n",
       "    </tr>\n",
       "    <tr>\n",
       "      <th>Xing</th>\n",
       "      <td>68</td>\n",
       "      <td>QC</td>\n",
       "    </tr>\n",
       "  </tbody>\n",
       "</table>\n",
       "</div>"
      ],
      "text/plain": [
       "             Heights Locations\n",
       "Instructors                   \n",
       "Ken               80        ON\n",
       "Steven            70        BC\n",
       "Xing              68        QC"
      ]
     },
     "execution_count": 9,
     "metadata": {},
     "output_type": "execute_result"
    }
   ],
   "source": [
    "sample_df_with_index = pd.DataFrame({\"Heights\": [80,70,68], \"Locations\": [\"ON\", \"BC\", \"QC\"]}, index=[\"Ken\",\"Steven\", \"Xing\"])\n",
    "sample_df_with_index.index.name = \"Instructors\"\n",
    "sample_df_with_index"
   ]
  },
  {
   "cell_type": "markdown",
   "metadata": {},
   "source": [
    "In the output directly above, do you see the \"row\" that has \"Instructors\" on the left side and then all blank cells? This is NOT a row, but a specific format displayed by ipython notebook. It indicates \"Instructors\" is not a column like the other data, but is the index. Anytime you see this format, that means you have a custom index.\n",
    "\n",
    "Rather than creating dataframes from scratch, a typical analyst will likely use Pandas on data imported from a SQL relational database. In this case, you *may* want to assign the identifier from your data as the custom index. e.g. customer_id for each customer\n",
    "\n",
    "*Benefit of assigning a custom index:* Speed! E.g. if you need to retrive data for specific customer_id, code will run much faster if customer_id is the index. "
   ]
  },
  {
   "cell_type": "markdown",
   "metadata": {},
   "source": [
    "### 4.4 Reading data\n",
    "Remember that local python runs in memory. If you're on a Windows machine, you can open the task manager to the memory tab and then run the below section. You should see a big spike in your memory usage as the dataframe loads.\n",
    "\n",
    "We recommend your data be in csv format if you're working with pandas. The `read_csv` function makes it really easy to read in data. File name is the only required argument.\n",
    "\n",
    "The code below includes two optional arguments for the `read_csv` function:\n",
    "\n",
    "1. `nrows` controls how many rows of the file are read\n",
    "2. `index_col` assigns the specified columns from the csv as the custom index of the DataFrame"
   ]
  },
  {
   "cell_type": "code",
   "execution_count": 10,
   "metadata": {},
   "outputs": [
    {
     "data": {
      "text/html": [
       "<div>\n",
       "<style scoped>\n",
       "    .dataframe tbody tr th:only-of-type {\n",
       "        vertical-align: middle;\n",
       "    }\n",
       "\n",
       "    .dataframe tbody tr th {\n",
       "        vertical-align: top;\n",
       "    }\n",
       "\n",
       "    .dataframe thead th {\n",
       "        text-align: right;\n",
       "    }\n",
       "</style>\n",
       "<table border=\"1\" class=\"dataframe\">\n",
       "  <thead>\n",
       "    <tr style=\"text-align: right;\">\n",
       "      <th></th>\n",
       "      <th>SK_ID_PREV</th>\n",
       "      <th>SK_ID_CURR</th>\n",
       "      <th>NAME_CONTRACT_TYPE</th>\n",
       "      <th>AMT_ANNUITY</th>\n",
       "      <th>AMT_APPLICATION</th>\n",
       "      <th>AMT_CREDIT</th>\n",
       "      <th>AMT_DOWN_PAYMENT</th>\n",
       "      <th>AMT_GOODS_PRICE</th>\n",
       "      <th>WEEKDAY_APPR_PROCESS_START</th>\n",
       "      <th>HOUR_APPR_PROCESS_START</th>\n",
       "      <th>...</th>\n",
       "      <th>NAME_SELLER_INDUSTRY</th>\n",
       "      <th>CNT_PAYMENT</th>\n",
       "      <th>NAME_YIELD_GROUP</th>\n",
       "      <th>PRODUCT_COMBINATION</th>\n",
       "      <th>DAYS_FIRST_DRAWING</th>\n",
       "      <th>DAYS_FIRST_DUE</th>\n",
       "      <th>DAYS_LAST_DUE_1ST_VERSION</th>\n",
       "      <th>DAYS_LAST_DUE</th>\n",
       "      <th>DAYS_TERMINATION</th>\n",
       "      <th>NFLAG_INSURED_ON_APPROVAL</th>\n",
       "    </tr>\n",
       "  </thead>\n",
       "  <tbody>\n",
       "    <tr>\n",
       "      <th>0</th>\n",
       "      <td>2030495</td>\n",
       "      <td>271877</td>\n",
       "      <td>Consumer loans</td>\n",
       "      <td>1730.430</td>\n",
       "      <td>17145</td>\n",
       "      <td>17145.0</td>\n",
       "      <td>0.0</td>\n",
       "      <td>17145</td>\n",
       "      <td>SATURDAY</td>\n",
       "      <td>15</td>\n",
       "      <td>...</td>\n",
       "      <td>Connectivity</td>\n",
       "      <td>12</td>\n",
       "      <td>middle</td>\n",
       "      <td>POS mobile with interest</td>\n",
       "      <td>365243.0</td>\n",
       "      <td>-42.0</td>\n",
       "      <td>300.0</td>\n",
       "      <td>-42.0</td>\n",
       "      <td>-37.0</td>\n",
       "      <td>0.0</td>\n",
       "    </tr>\n",
       "    <tr>\n",
       "      <th>1</th>\n",
       "      <td>2802425</td>\n",
       "      <td>108129</td>\n",
       "      <td>Cash loans</td>\n",
       "      <td>25188.615</td>\n",
       "      <td>607500</td>\n",
       "      <td>679671.0</td>\n",
       "      <td>NaN</td>\n",
       "      <td>607500</td>\n",
       "      <td>THURSDAY</td>\n",
       "      <td>11</td>\n",
       "      <td>...</td>\n",
       "      <td>XNA</td>\n",
       "      <td>36</td>\n",
       "      <td>low_action</td>\n",
       "      <td>Cash X-Sell: low</td>\n",
       "      <td>365243.0</td>\n",
       "      <td>-134.0</td>\n",
       "      <td>916.0</td>\n",
       "      <td>365243.0</td>\n",
       "      <td>365243.0</td>\n",
       "      <td>1.0</td>\n",
       "    </tr>\n",
       "    <tr>\n",
       "      <th>2</th>\n",
       "      <td>2523466</td>\n",
       "      <td>122040</td>\n",
       "      <td>Cash loans</td>\n",
       "      <td>15060.735</td>\n",
       "      <td>112500</td>\n",
       "      <td>136444.5</td>\n",
       "      <td>NaN</td>\n",
       "      <td>112500</td>\n",
       "      <td>TUESDAY</td>\n",
       "      <td>11</td>\n",
       "      <td>...</td>\n",
       "      <td>XNA</td>\n",
       "      <td>12</td>\n",
       "      <td>high</td>\n",
       "      <td>Cash X-Sell: high</td>\n",
       "      <td>365243.0</td>\n",
       "      <td>-271.0</td>\n",
       "      <td>59.0</td>\n",
       "      <td>365243.0</td>\n",
       "      <td>365243.0</td>\n",
       "      <td>1.0</td>\n",
       "    </tr>\n",
       "    <tr>\n",
       "      <th>3</th>\n",
       "      <td>2819243</td>\n",
       "      <td>176158</td>\n",
       "      <td>Cash loans</td>\n",
       "      <td>47041.335</td>\n",
       "      <td>450000</td>\n",
       "      <td>470790.0</td>\n",
       "      <td>NaN</td>\n",
       "      <td>450000</td>\n",
       "      <td>MONDAY</td>\n",
       "      <td>7</td>\n",
       "      <td>...</td>\n",
       "      <td>XNA</td>\n",
       "      <td>12</td>\n",
       "      <td>middle</td>\n",
       "      <td>Cash X-Sell: middle</td>\n",
       "      <td>365243.0</td>\n",
       "      <td>-482.0</td>\n",
       "      <td>-152.0</td>\n",
       "      <td>-182.0</td>\n",
       "      <td>-177.0</td>\n",
       "      <td>1.0</td>\n",
       "    </tr>\n",
       "    <tr>\n",
       "      <th>4</th>\n",
       "      <td>1784265</td>\n",
       "      <td>202054</td>\n",
       "      <td>Cash loans</td>\n",
       "      <td>31924.395</td>\n",
       "      <td>337500</td>\n",
       "      <td>404055.0</td>\n",
       "      <td>NaN</td>\n",
       "      <td>337500</td>\n",
       "      <td>THURSDAY</td>\n",
       "      <td>9</td>\n",
       "      <td>...</td>\n",
       "      <td>XNA</td>\n",
       "      <td>24</td>\n",
       "      <td>high</td>\n",
       "      <td>Cash Street: high</td>\n",
       "      <td>NaN</td>\n",
       "      <td>NaN</td>\n",
       "      <td>NaN</td>\n",
       "      <td>NaN</td>\n",
       "      <td>NaN</td>\n",
       "      <td>NaN</td>\n",
       "    </tr>\n",
       "  </tbody>\n",
       "</table>\n",
       "<p>5 rows × 37 columns</p>\n",
       "</div>"
      ],
      "text/plain": [
       "   SK_ID_PREV  SK_ID_CURR NAME_CONTRACT_TYPE  AMT_ANNUITY  AMT_APPLICATION  \\\n",
       "0     2030495      271877     Consumer loans     1730.430            17145   \n",
       "1     2802425      108129         Cash loans    25188.615           607500   \n",
       "2     2523466      122040         Cash loans    15060.735           112500   \n",
       "3     2819243      176158         Cash loans    47041.335           450000   \n",
       "4     1784265      202054         Cash loans    31924.395           337500   \n",
       "\n",
       "   AMT_CREDIT  AMT_DOWN_PAYMENT  AMT_GOODS_PRICE WEEKDAY_APPR_PROCESS_START  \\\n",
       "0     17145.0               0.0            17145                   SATURDAY   \n",
       "1    679671.0               NaN           607500                   THURSDAY   \n",
       "2    136444.5               NaN           112500                    TUESDAY   \n",
       "3    470790.0               NaN           450000                     MONDAY   \n",
       "4    404055.0               NaN           337500                   THURSDAY   \n",
       "\n",
       "   HOUR_APPR_PROCESS_START            ...            NAME_SELLER_INDUSTRY  \\\n",
       "0                       15            ...                    Connectivity   \n",
       "1                       11            ...                             XNA   \n",
       "2                       11            ...                             XNA   \n",
       "3                        7            ...                             XNA   \n",
       "4                        9            ...                             XNA   \n",
       "\n",
       "   CNT_PAYMENT  NAME_YIELD_GROUP       PRODUCT_COMBINATION  \\\n",
       "0           12            middle  POS mobile with interest   \n",
       "1           36        low_action          Cash X-Sell: low   \n",
       "2           12              high         Cash X-Sell: high   \n",
       "3           12            middle       Cash X-Sell: middle   \n",
       "4           24              high         Cash Street: high   \n",
       "\n",
       "   DAYS_FIRST_DRAWING DAYS_FIRST_DUE DAYS_LAST_DUE_1ST_VERSION  DAYS_LAST_DUE  \\\n",
       "0            365243.0          -42.0                     300.0          -42.0   \n",
       "1            365243.0         -134.0                     916.0       365243.0   \n",
       "2            365243.0         -271.0                      59.0       365243.0   \n",
       "3            365243.0         -482.0                    -152.0         -182.0   \n",
       "4                 NaN            NaN                       NaN            NaN   \n",
       "\n",
       "  DAYS_TERMINATION NFLAG_INSURED_ON_APPROVAL  \n",
       "0            -37.0                       0.0  \n",
       "1         365243.0                       1.0  \n",
       "2         365243.0                       1.0  \n",
       "3           -177.0                       1.0  \n",
       "4              NaN                       NaN  \n",
       "\n",
       "[5 rows x 37 columns]"
      ]
     },
     "execution_count": 10,
     "metadata": {},
     "output_type": "execute_result"
    }
   ],
   "source": [
    "# view a df based on the first five rows of our data\n",
    "pd.read_csv(\"previous_application.csv\", nrows=5)"
   ]
  },
  {
   "cell_type": "code",
   "execution_count": 11,
   "metadata": {},
   "outputs": [
    {
     "data": {
      "text/html": [
       "<div>\n",
       "<style scoped>\n",
       "    .dataframe tbody tr th:only-of-type {\n",
       "        vertical-align: middle;\n",
       "    }\n",
       "\n",
       "    .dataframe tbody tr th {\n",
       "        vertical-align: top;\n",
       "    }\n",
       "\n",
       "    .dataframe thead th {\n",
       "        text-align: right;\n",
       "    }\n",
       "</style>\n",
       "<table border=\"1\" class=\"dataframe\">\n",
       "  <thead>\n",
       "    <tr style=\"text-align: right;\">\n",
       "      <th></th>\n",
       "      <th></th>\n",
       "      <th>NAME_CONTRACT_TYPE</th>\n",
       "      <th>AMT_ANNUITY</th>\n",
       "      <th>AMT_APPLICATION</th>\n",
       "      <th>AMT_CREDIT</th>\n",
       "      <th>AMT_DOWN_PAYMENT</th>\n",
       "      <th>AMT_GOODS_PRICE</th>\n",
       "      <th>WEEKDAY_APPR_PROCESS_START</th>\n",
       "      <th>HOUR_APPR_PROCESS_START</th>\n",
       "      <th>FLAG_LAST_APPL_PER_CONTRACT</th>\n",
       "      <th>NFLAG_LAST_APPL_IN_DAY</th>\n",
       "      <th>...</th>\n",
       "      <th>NAME_SELLER_INDUSTRY</th>\n",
       "      <th>CNT_PAYMENT</th>\n",
       "      <th>NAME_YIELD_GROUP</th>\n",
       "      <th>PRODUCT_COMBINATION</th>\n",
       "      <th>DAYS_FIRST_DRAWING</th>\n",
       "      <th>DAYS_FIRST_DUE</th>\n",
       "      <th>DAYS_LAST_DUE_1ST_VERSION</th>\n",
       "      <th>DAYS_LAST_DUE</th>\n",
       "      <th>DAYS_TERMINATION</th>\n",
       "      <th>NFLAG_INSURED_ON_APPROVAL</th>\n",
       "    </tr>\n",
       "    <tr>\n",
       "      <th>SK_ID_CURR</th>\n",
       "      <th>SK_ID_PREV</th>\n",
       "      <th></th>\n",
       "      <th></th>\n",
       "      <th></th>\n",
       "      <th></th>\n",
       "      <th></th>\n",
       "      <th></th>\n",
       "      <th></th>\n",
       "      <th></th>\n",
       "      <th></th>\n",
       "      <th></th>\n",
       "      <th></th>\n",
       "      <th></th>\n",
       "      <th></th>\n",
       "      <th></th>\n",
       "      <th></th>\n",
       "      <th></th>\n",
       "      <th></th>\n",
       "      <th></th>\n",
       "      <th></th>\n",
       "      <th></th>\n",
       "      <th></th>\n",
       "    </tr>\n",
       "  </thead>\n",
       "  <tbody>\n",
       "    <tr>\n",
       "      <th>271877</th>\n",
       "      <th>2030495</th>\n",
       "      <td>Consumer loans</td>\n",
       "      <td>1730.430</td>\n",
       "      <td>17145</td>\n",
       "      <td>17145.0</td>\n",
       "      <td>0.0</td>\n",
       "      <td>17145</td>\n",
       "      <td>SATURDAY</td>\n",
       "      <td>15</td>\n",
       "      <td>Y</td>\n",
       "      <td>1</td>\n",
       "      <td>...</td>\n",
       "      <td>Connectivity</td>\n",
       "      <td>12</td>\n",
       "      <td>middle</td>\n",
       "      <td>POS mobile with interest</td>\n",
       "      <td>365243.0</td>\n",
       "      <td>-42.0</td>\n",
       "      <td>300.0</td>\n",
       "      <td>-42.0</td>\n",
       "      <td>-37.0</td>\n",
       "      <td>0.0</td>\n",
       "    </tr>\n",
       "    <tr>\n",
       "      <th>108129</th>\n",
       "      <th>2802425</th>\n",
       "      <td>Cash loans</td>\n",
       "      <td>25188.615</td>\n",
       "      <td>607500</td>\n",
       "      <td>679671.0</td>\n",
       "      <td>NaN</td>\n",
       "      <td>607500</td>\n",
       "      <td>THURSDAY</td>\n",
       "      <td>11</td>\n",
       "      <td>Y</td>\n",
       "      <td>1</td>\n",
       "      <td>...</td>\n",
       "      <td>XNA</td>\n",
       "      <td>36</td>\n",
       "      <td>low_action</td>\n",
       "      <td>Cash X-Sell: low</td>\n",
       "      <td>365243.0</td>\n",
       "      <td>-134.0</td>\n",
       "      <td>916.0</td>\n",
       "      <td>365243.0</td>\n",
       "      <td>365243.0</td>\n",
       "      <td>1.0</td>\n",
       "    </tr>\n",
       "    <tr>\n",
       "      <th>122040</th>\n",
       "      <th>2523466</th>\n",
       "      <td>Cash loans</td>\n",
       "      <td>15060.735</td>\n",
       "      <td>112500</td>\n",
       "      <td>136444.5</td>\n",
       "      <td>NaN</td>\n",
       "      <td>112500</td>\n",
       "      <td>TUESDAY</td>\n",
       "      <td>11</td>\n",
       "      <td>Y</td>\n",
       "      <td>1</td>\n",
       "      <td>...</td>\n",
       "      <td>XNA</td>\n",
       "      <td>12</td>\n",
       "      <td>high</td>\n",
       "      <td>Cash X-Sell: high</td>\n",
       "      <td>365243.0</td>\n",
       "      <td>-271.0</td>\n",
       "      <td>59.0</td>\n",
       "      <td>365243.0</td>\n",
       "      <td>365243.0</td>\n",
       "      <td>1.0</td>\n",
       "    </tr>\n",
       "    <tr>\n",
       "      <th>176158</th>\n",
       "      <th>2819243</th>\n",
       "      <td>Cash loans</td>\n",
       "      <td>47041.335</td>\n",
       "      <td>450000</td>\n",
       "      <td>470790.0</td>\n",
       "      <td>NaN</td>\n",
       "      <td>450000</td>\n",
       "      <td>MONDAY</td>\n",
       "      <td>7</td>\n",
       "      <td>Y</td>\n",
       "      <td>1</td>\n",
       "      <td>...</td>\n",
       "      <td>XNA</td>\n",
       "      <td>12</td>\n",
       "      <td>middle</td>\n",
       "      <td>Cash X-Sell: middle</td>\n",
       "      <td>365243.0</td>\n",
       "      <td>-482.0</td>\n",
       "      <td>-152.0</td>\n",
       "      <td>-182.0</td>\n",
       "      <td>-177.0</td>\n",
       "      <td>1.0</td>\n",
       "    </tr>\n",
       "    <tr>\n",
       "      <th>202054</th>\n",
       "      <th>1784265</th>\n",
       "      <td>Cash loans</td>\n",
       "      <td>31924.395</td>\n",
       "      <td>337500</td>\n",
       "      <td>404055.0</td>\n",
       "      <td>NaN</td>\n",
       "      <td>337500</td>\n",
       "      <td>THURSDAY</td>\n",
       "      <td>9</td>\n",
       "      <td>Y</td>\n",
       "      <td>1</td>\n",
       "      <td>...</td>\n",
       "      <td>XNA</td>\n",
       "      <td>24</td>\n",
       "      <td>high</td>\n",
       "      <td>Cash Street: high</td>\n",
       "      <td>NaN</td>\n",
       "      <td>NaN</td>\n",
       "      <td>NaN</td>\n",
       "      <td>NaN</td>\n",
       "      <td>NaN</td>\n",
       "      <td>NaN</td>\n",
       "    </tr>\n",
       "  </tbody>\n",
       "</table>\n",
       "<p>5 rows × 35 columns</p>\n",
       "</div>"
      ],
      "text/plain": [
       "                      NAME_CONTRACT_TYPE  AMT_ANNUITY  AMT_APPLICATION  \\\n",
       "SK_ID_CURR SK_ID_PREV                                                    \n",
       "271877     2030495        Consumer loans     1730.430            17145   \n",
       "108129     2802425            Cash loans    25188.615           607500   \n",
       "122040     2523466            Cash loans    15060.735           112500   \n",
       "176158     2819243            Cash loans    47041.335           450000   \n",
       "202054     1784265            Cash loans    31924.395           337500   \n",
       "\n",
       "                       AMT_CREDIT  AMT_DOWN_PAYMENT  AMT_GOODS_PRICE  \\\n",
       "SK_ID_CURR SK_ID_PREV                                                  \n",
       "271877     2030495        17145.0               0.0            17145   \n",
       "108129     2802425       679671.0               NaN           607500   \n",
       "122040     2523466       136444.5               NaN           112500   \n",
       "176158     2819243       470790.0               NaN           450000   \n",
       "202054     1784265       404055.0               NaN           337500   \n",
       "\n",
       "                      WEEKDAY_APPR_PROCESS_START  HOUR_APPR_PROCESS_START  \\\n",
       "SK_ID_CURR SK_ID_PREV                                                       \n",
       "271877     2030495                      SATURDAY                       15   \n",
       "108129     2802425                      THURSDAY                       11   \n",
       "122040     2523466                       TUESDAY                       11   \n",
       "176158     2819243                        MONDAY                        7   \n",
       "202054     1784265                      THURSDAY                        9   \n",
       "\n",
       "                      FLAG_LAST_APPL_PER_CONTRACT  NFLAG_LAST_APPL_IN_DAY  \\\n",
       "SK_ID_CURR SK_ID_PREV                                                       \n",
       "271877     2030495                              Y                       1   \n",
       "108129     2802425                              Y                       1   \n",
       "122040     2523466                              Y                       1   \n",
       "176158     2819243                              Y                       1   \n",
       "202054     1784265                              Y                       1   \n",
       "\n",
       "                                 ...             NAME_SELLER_INDUSTRY  \\\n",
       "SK_ID_CURR SK_ID_PREV            ...                                    \n",
       "271877     2030495               ...                     Connectivity   \n",
       "108129     2802425               ...                              XNA   \n",
       "122040     2523466               ...                              XNA   \n",
       "176158     2819243               ...                              XNA   \n",
       "202054     1784265               ...                              XNA   \n",
       "\n",
       "                       CNT_PAYMENT  NAME_YIELD_GROUP  \\\n",
       "SK_ID_CURR SK_ID_PREV                                  \n",
       "271877     2030495              12            middle   \n",
       "108129     2802425              36        low_action   \n",
       "122040     2523466              12              high   \n",
       "176158     2819243              12            middle   \n",
       "202054     1784265              24              high   \n",
       "\n",
       "                            PRODUCT_COMBINATION DAYS_FIRST_DRAWING  \\\n",
       "SK_ID_CURR SK_ID_PREV                                                \n",
       "271877     2030495     POS mobile with interest           365243.0   \n",
       "108129     2802425             Cash X-Sell: low           365243.0   \n",
       "122040     2523466            Cash X-Sell: high           365243.0   \n",
       "176158     2819243          Cash X-Sell: middle           365243.0   \n",
       "202054     1784265            Cash Street: high                NaN   \n",
       "\n",
       "                       DAYS_FIRST_DUE DAYS_LAST_DUE_1ST_VERSION DAYS_LAST_DUE  \\\n",
       "SK_ID_CURR SK_ID_PREV                                                           \n",
       "271877     2030495              -42.0                     300.0         -42.0   \n",
       "108129     2802425             -134.0                     916.0      365243.0   \n",
       "122040     2523466             -271.0                      59.0      365243.0   \n",
       "176158     2819243             -482.0                    -152.0        -182.0   \n",
       "202054     1784265                NaN                       NaN           NaN   \n",
       "\n",
       "                      DAYS_TERMINATION NFLAG_INSURED_ON_APPROVAL  \n",
       "SK_ID_CURR SK_ID_PREV                                             \n",
       "271877     2030495               -37.0                       0.0  \n",
       "108129     2802425            365243.0                       1.0  \n",
       "122040     2523466            365243.0                       1.0  \n",
       "176158     2819243              -177.0                       1.0  \n",
       "202054     1784265                 NaN                       NaN  \n",
       "\n",
       "[5 rows x 35 columns]"
      ]
     },
     "execution_count": 11,
     "metadata": {},
     "output_type": "execute_result"
    }
   ],
   "source": [
    "# view a df based on the first five rows of our data with SK_ID_CURR and SK_ID_PREV as the index\n",
    "pd.read_csv(\"previous_application.csv\", nrows=5, index_col=[\"SK_ID_CURR\",\"SK_ID_PREV\"])"
   ]
  },
  {
   "cell_type": "markdown",
   "metadata": {},
   "source": [
    "Just like the `sample_df_with_index` df we created from scratch, this output contains blank cells which indicate SK_ID_CURR and SK_ID_PREV are indexes. \n",
    "\n",
    "Okay, now we're ready to read our entire dataset. Using two or more values as the index is called a *multi-index*. Multi-indexes can be confusing to use, so for simplicity we're going to use the default index for now and sacrifice some performance"
   ]
  },
  {
   "cell_type": "code",
   "execution_count": 12,
   "metadata": {},
   "outputs": [],
   "source": [
    "# turn the csv file into a dataframe\n",
    "pre_data = pd.read_csv(\"previous_application.csv\")"
   ]
  },
  {
   "cell_type": "markdown",
   "metadata": {},
   "source": [
    "### 4.5 Examine the data\n",
    "\n",
    "`.shape` is an *attribute* of a DataFrame object. This means it's a built-it in characteristic automatically available for all DataFrames.\n",
    "\n",
    "Specifically, `.shape` shows the dimensions of the df as rows, columns. In python, rows are axis=0 and columns are axis=1."
   ]
  },
  {
   "cell_type": "code",
   "execution_count": 13,
   "metadata": {},
   "outputs": [
    {
     "data": {
      "text/plain": [
       "(4050, 37)"
      ]
     },
     "execution_count": 13,
     "metadata": {},
     "output_type": "execute_result"
    }
   ],
   "source": [
    "pre_data.shape"
   ]
  },
  {
   "cell_type": "markdown",
   "metadata": {},
   "source": [
    "`.columns` shows the names of the columns in your dataframe.\n",
    "You can tell *attributes* and *methods* apart because the latter requires `()`.\n",
    "\n",
    "*Note:* .columns returns an index object, which does not have great formatting when displayed. Lists have better default formatting. As the name implies, `tolist()` converts the `columns` result to a list."
   ]
  },
  {
   "cell_type": "code",
   "execution_count": 14,
   "metadata": {},
   "outputs": [
    {
     "data": {
      "text/plain": [
       "Index(['SK_ID_PREV', 'SK_ID_CURR', 'NAME_CONTRACT_TYPE', 'AMT_ANNUITY',\n",
       "       'AMT_APPLICATION', 'AMT_CREDIT', 'AMT_DOWN_PAYMENT', 'AMT_GOODS_PRICE',\n",
       "       'WEEKDAY_APPR_PROCESS_START', 'HOUR_APPR_PROCESS_START',\n",
       "       'FLAG_LAST_APPL_PER_CONTRACT', 'NFLAG_LAST_APPL_IN_DAY',\n",
       "       'RATE_DOWN_PAYMENT', 'RATE_INTEREST_PRIMARY',\n",
       "       'RATE_INTEREST_PRIVILEGED', 'NAME_CASH_LOAN_PURPOSE',\n",
       "       'NAME_CONTRACT_STATUS', 'DAYS_DECISION', 'NAME_PAYMENT_TYPE',\n",
       "       'CODE_REJECT_REASON', 'NAME_TYPE_SUITE', 'NAME_CLIENT_TYPE',\n",
       "       'NAME_GOODS_CATEGORY', 'NAME_PORTFOLIO', 'NAME_PRODUCT_TYPE',\n",
       "       'CHANNEL_TYPE', 'SELLERPLACE_AREA', 'NAME_SELLER_INDUSTRY',\n",
       "       'CNT_PAYMENT', 'NAME_YIELD_GROUP', 'PRODUCT_COMBINATION',\n",
       "       'DAYS_FIRST_DRAWING', 'DAYS_FIRST_DUE', 'DAYS_LAST_DUE_1ST_VERSION',\n",
       "       'DAYS_LAST_DUE', 'DAYS_TERMINATION', 'NFLAG_INSURED_ON_APPROVAL'],\n",
       "      dtype='object')"
      ]
     },
     "execution_count": 14,
     "metadata": {},
     "output_type": "execute_result"
    }
   ],
   "source": [
    "pre_data.columns"
   ]
  },
  {
   "cell_type": "code",
   "execution_count": 15,
   "metadata": {},
   "outputs": [
    {
     "data": {
      "text/plain": [
       "['SK_ID_PREV',\n",
       " 'SK_ID_CURR',\n",
       " 'NAME_CONTRACT_TYPE',\n",
       " 'AMT_ANNUITY',\n",
       " 'AMT_APPLICATION',\n",
       " 'AMT_CREDIT',\n",
       " 'AMT_DOWN_PAYMENT',\n",
       " 'AMT_GOODS_PRICE',\n",
       " 'WEEKDAY_APPR_PROCESS_START',\n",
       " 'HOUR_APPR_PROCESS_START',\n",
       " 'FLAG_LAST_APPL_PER_CONTRACT',\n",
       " 'NFLAG_LAST_APPL_IN_DAY',\n",
       " 'RATE_DOWN_PAYMENT',\n",
       " 'RATE_INTEREST_PRIMARY',\n",
       " 'RATE_INTEREST_PRIVILEGED',\n",
       " 'NAME_CASH_LOAN_PURPOSE',\n",
       " 'NAME_CONTRACT_STATUS',\n",
       " 'DAYS_DECISION',\n",
       " 'NAME_PAYMENT_TYPE',\n",
       " 'CODE_REJECT_REASON',\n",
       " 'NAME_TYPE_SUITE',\n",
       " 'NAME_CLIENT_TYPE',\n",
       " 'NAME_GOODS_CATEGORY',\n",
       " 'NAME_PORTFOLIO',\n",
       " 'NAME_PRODUCT_TYPE',\n",
       " 'CHANNEL_TYPE',\n",
       " 'SELLERPLACE_AREA',\n",
       " 'NAME_SELLER_INDUSTRY',\n",
       " 'CNT_PAYMENT',\n",
       " 'NAME_YIELD_GROUP',\n",
       " 'PRODUCT_COMBINATION',\n",
       " 'DAYS_FIRST_DRAWING',\n",
       " 'DAYS_FIRST_DUE',\n",
       " 'DAYS_LAST_DUE_1ST_VERSION',\n",
       " 'DAYS_LAST_DUE',\n",
       " 'DAYS_TERMINATION',\n",
       " 'NFLAG_INSURED_ON_APPROVAL']"
      ]
     },
     "execution_count": 15,
     "metadata": {},
     "output_type": "execute_result"
    }
   ],
   "source": [
    "# look at the column names\n",
    "pre_data.columns.tolist()"
   ]
  },
  {
   "cell_type": "markdown",
   "metadata": {},
   "source": [
    "In a single line of code, `.info()` provides the same descriptive information as the two methods above plus the column data types and memory usage of the dataframe. If you only need to view this information and don't need to store the output into a tuple or list, `.info()` is a more convenient way.\n",
    "\n",
    "If your dataframe has more columns than iPython notebook's default (usually 60), use the `verbose=True` option to force the output to contain full column details. Otherwise, `.info()` will print a summary."
   ]
  },
  {
   "cell_type": "code",
   "execution_count": 16,
   "metadata": {},
   "outputs": [
    {
     "name": "stdout",
     "output_type": "stream",
     "text": [
      "<class 'pandas.core.frame.DataFrame'>\n",
      "RangeIndex: 4050 entries, 0 to 4049\n",
      "Data columns (total 37 columns):\n",
      "SK_ID_PREV                     4050 non-null int64\n",
      "SK_ID_CURR                     4050 non-null int64\n",
      "NAME_CONTRACT_TYPE             4050 non-null object\n",
      "AMT_ANNUITY                    3275 non-null float64\n",
      "AMT_APPLICATION                4050 non-null float64\n",
      "AMT_CREDIT                     4050 non-null float64\n",
      "AMT_DOWN_PAYMENT               2239 non-null float64\n",
      "AMT_GOODS_PRICE                3256 non-null float64\n",
      "WEEKDAY_APPR_PROCESS_START     4050 non-null object\n",
      "HOUR_APPR_PROCESS_START        4050 non-null int64\n",
      "FLAG_LAST_APPL_PER_CONTRACT    4050 non-null object\n",
      "NFLAG_LAST_APPL_IN_DAY         4050 non-null int64\n",
      "RATE_DOWN_PAYMENT              2239 non-null float64\n",
      "RATE_INTEREST_PRIMARY          18 non-null float64\n",
      "RATE_INTEREST_PRIVILEGED       18 non-null float64\n",
      "NAME_CASH_LOAN_PURPOSE         4050 non-null object\n",
      "NAME_CONTRACT_STATUS           4050 non-null object\n",
      "DAYS_DECISION                  4050 non-null int64\n",
      "NAME_PAYMENT_TYPE              4050 non-null object\n",
      "CODE_REJECT_REASON             4050 non-null object\n",
      "NAME_TYPE_SUITE                2113 non-null object\n",
      "NAME_CLIENT_TYPE               4050 non-null object\n",
      "NAME_GOODS_CATEGORY            4050 non-null object\n",
      "NAME_PORTFOLIO                 4050 non-null object\n",
      "NAME_PRODUCT_TYPE              4050 non-null object\n",
      "CHANNEL_TYPE                   4050 non-null object\n",
      "SELLERPLACE_AREA               4050 non-null int64\n",
      "NAME_SELLER_INDUSTRY           4050 non-null object\n",
      "CNT_PAYMENT                    3275 non-null float64\n",
      "NAME_YIELD_GROUP               4050 non-null object\n",
      "PRODUCT_COMBINATION            4050 non-null object\n",
      "DAYS_FIRST_DRAWING             2587 non-null float64\n",
      "DAYS_FIRST_DUE                 2587 non-null float64\n",
      "DAYS_LAST_DUE_1ST_VERSION      2587 non-null float64\n",
      "DAYS_LAST_DUE                  2587 non-null float64\n",
      "DAYS_TERMINATION               2587 non-null float64\n",
      "NFLAG_INSURED_ON_APPROVAL      2587 non-null float64\n",
      "dtypes: float64(15), int64(6), object(16)\n",
      "memory usage: 1.1+ MB\n"
     ]
    }
   ],
   "source": [
    "pre_data.info(verbose=True)"
   ]
  },
  {
   "cell_type": "markdown",
   "metadata": {},
   "source": [
    "`.head(n)` shows the first n rows of the dataframe. If you omit n, it will return the first 5 rows.\n",
    "\n",
    "By default, ipython notebook shows 60 rows and 20 columns when you preview a pandas dataframe. To modify this default, use `pd.set_option()`, e.g. `pd.set_option(\"display.max_rows\",100)` or `pd.set_option(\"display.max_columns\",100)`"
   ]
  },
  {
   "cell_type": "code",
   "execution_count": 17,
   "metadata": {
    "scrolled": true
   },
   "outputs": [
    {
     "data": {
      "text/html": [
       "<div>\n",
       "<style scoped>\n",
       "    .dataframe tbody tr th:only-of-type {\n",
       "        vertical-align: middle;\n",
       "    }\n",
       "\n",
       "    .dataframe tbody tr th {\n",
       "        vertical-align: top;\n",
       "    }\n",
       "\n",
       "    .dataframe thead th {\n",
       "        text-align: right;\n",
       "    }\n",
       "</style>\n",
       "<table border=\"1\" class=\"dataframe\">\n",
       "  <thead>\n",
       "    <tr style=\"text-align: right;\">\n",
       "      <th></th>\n",
       "      <th>SK_ID_PREV</th>\n",
       "      <th>SK_ID_CURR</th>\n",
       "      <th>NAME_CONTRACT_TYPE</th>\n",
       "      <th>AMT_ANNUITY</th>\n",
       "      <th>AMT_APPLICATION</th>\n",
       "      <th>AMT_CREDIT</th>\n",
       "      <th>AMT_DOWN_PAYMENT</th>\n",
       "      <th>AMT_GOODS_PRICE</th>\n",
       "      <th>WEEKDAY_APPR_PROCESS_START</th>\n",
       "      <th>HOUR_APPR_PROCESS_START</th>\n",
       "      <th>...</th>\n",
       "      <th>NAME_SELLER_INDUSTRY</th>\n",
       "      <th>CNT_PAYMENT</th>\n",
       "      <th>NAME_YIELD_GROUP</th>\n",
       "      <th>PRODUCT_COMBINATION</th>\n",
       "      <th>DAYS_FIRST_DRAWING</th>\n",
       "      <th>DAYS_FIRST_DUE</th>\n",
       "      <th>DAYS_LAST_DUE_1ST_VERSION</th>\n",
       "      <th>DAYS_LAST_DUE</th>\n",
       "      <th>DAYS_TERMINATION</th>\n",
       "      <th>NFLAG_INSURED_ON_APPROVAL</th>\n",
       "    </tr>\n",
       "  </thead>\n",
       "  <tbody>\n",
       "    <tr>\n",
       "      <th>0</th>\n",
       "      <td>2030495</td>\n",
       "      <td>271877</td>\n",
       "      <td>Consumer loans</td>\n",
       "      <td>1730.430</td>\n",
       "      <td>17145.0</td>\n",
       "      <td>17145.0</td>\n",
       "      <td>0.0</td>\n",
       "      <td>17145.0</td>\n",
       "      <td>SATURDAY</td>\n",
       "      <td>15</td>\n",
       "      <td>...</td>\n",
       "      <td>Connectivity</td>\n",
       "      <td>12.0</td>\n",
       "      <td>middle</td>\n",
       "      <td>POS mobile with interest</td>\n",
       "      <td>365243.0</td>\n",
       "      <td>-42.0</td>\n",
       "      <td>300.0</td>\n",
       "      <td>-42.0</td>\n",
       "      <td>-37.0</td>\n",
       "      <td>0.0</td>\n",
       "    </tr>\n",
       "    <tr>\n",
       "      <th>1</th>\n",
       "      <td>2802425</td>\n",
       "      <td>108129</td>\n",
       "      <td>Cash loans</td>\n",
       "      <td>25188.615</td>\n",
       "      <td>607500.0</td>\n",
       "      <td>679671.0</td>\n",
       "      <td>NaN</td>\n",
       "      <td>607500.0</td>\n",
       "      <td>THURSDAY</td>\n",
       "      <td>11</td>\n",
       "      <td>...</td>\n",
       "      <td>XNA</td>\n",
       "      <td>36.0</td>\n",
       "      <td>low_action</td>\n",
       "      <td>Cash X-Sell: low</td>\n",
       "      <td>365243.0</td>\n",
       "      <td>-134.0</td>\n",
       "      <td>916.0</td>\n",
       "      <td>365243.0</td>\n",
       "      <td>365243.0</td>\n",
       "      <td>1.0</td>\n",
       "    </tr>\n",
       "    <tr>\n",
       "      <th>2</th>\n",
       "      <td>2523466</td>\n",
       "      <td>122040</td>\n",
       "      <td>Cash loans</td>\n",
       "      <td>15060.735</td>\n",
       "      <td>112500.0</td>\n",
       "      <td>136444.5</td>\n",
       "      <td>NaN</td>\n",
       "      <td>112500.0</td>\n",
       "      <td>TUESDAY</td>\n",
       "      <td>11</td>\n",
       "      <td>...</td>\n",
       "      <td>XNA</td>\n",
       "      <td>12.0</td>\n",
       "      <td>high</td>\n",
       "      <td>Cash X-Sell: high</td>\n",
       "      <td>365243.0</td>\n",
       "      <td>-271.0</td>\n",
       "      <td>59.0</td>\n",
       "      <td>365243.0</td>\n",
       "      <td>365243.0</td>\n",
       "      <td>1.0</td>\n",
       "    </tr>\n",
       "    <tr>\n",
       "      <th>3</th>\n",
       "      <td>2819243</td>\n",
       "      <td>176158</td>\n",
       "      <td>Cash loans</td>\n",
       "      <td>47041.335</td>\n",
       "      <td>450000.0</td>\n",
       "      <td>470790.0</td>\n",
       "      <td>NaN</td>\n",
       "      <td>450000.0</td>\n",
       "      <td>MONDAY</td>\n",
       "      <td>7</td>\n",
       "      <td>...</td>\n",
       "      <td>XNA</td>\n",
       "      <td>12.0</td>\n",
       "      <td>middle</td>\n",
       "      <td>Cash X-Sell: middle</td>\n",
       "      <td>365243.0</td>\n",
       "      <td>-482.0</td>\n",
       "      <td>-152.0</td>\n",
       "      <td>-182.0</td>\n",
       "      <td>-177.0</td>\n",
       "      <td>1.0</td>\n",
       "    </tr>\n",
       "    <tr>\n",
       "      <th>4</th>\n",
       "      <td>1784265</td>\n",
       "      <td>202054</td>\n",
       "      <td>Cash loans</td>\n",
       "      <td>31924.395</td>\n",
       "      <td>337500.0</td>\n",
       "      <td>404055.0</td>\n",
       "      <td>NaN</td>\n",
       "      <td>337500.0</td>\n",
       "      <td>THURSDAY</td>\n",
       "      <td>9</td>\n",
       "      <td>...</td>\n",
       "      <td>XNA</td>\n",
       "      <td>24.0</td>\n",
       "      <td>high</td>\n",
       "      <td>Cash Street: high</td>\n",
       "      <td>NaN</td>\n",
       "      <td>NaN</td>\n",
       "      <td>NaN</td>\n",
       "      <td>NaN</td>\n",
       "      <td>NaN</td>\n",
       "      <td>NaN</td>\n",
       "    </tr>\n",
       "  </tbody>\n",
       "</table>\n",
       "<p>5 rows × 37 columns</p>\n",
       "</div>"
      ],
      "text/plain": [
       "   SK_ID_PREV  SK_ID_CURR NAME_CONTRACT_TYPE  AMT_ANNUITY  AMT_APPLICATION  \\\n",
       "0     2030495      271877     Consumer loans     1730.430          17145.0   \n",
       "1     2802425      108129         Cash loans    25188.615         607500.0   \n",
       "2     2523466      122040         Cash loans    15060.735         112500.0   \n",
       "3     2819243      176158         Cash loans    47041.335         450000.0   \n",
       "4     1784265      202054         Cash loans    31924.395         337500.0   \n",
       "\n",
       "   AMT_CREDIT  AMT_DOWN_PAYMENT  AMT_GOODS_PRICE WEEKDAY_APPR_PROCESS_START  \\\n",
       "0     17145.0               0.0          17145.0                   SATURDAY   \n",
       "1    679671.0               NaN         607500.0                   THURSDAY   \n",
       "2    136444.5               NaN         112500.0                    TUESDAY   \n",
       "3    470790.0               NaN         450000.0                     MONDAY   \n",
       "4    404055.0               NaN         337500.0                   THURSDAY   \n",
       "\n",
       "   HOUR_APPR_PROCESS_START            ...            NAME_SELLER_INDUSTRY  \\\n",
       "0                       15            ...                    Connectivity   \n",
       "1                       11            ...                             XNA   \n",
       "2                       11            ...                             XNA   \n",
       "3                        7            ...                             XNA   \n",
       "4                        9            ...                             XNA   \n",
       "\n",
       "   CNT_PAYMENT  NAME_YIELD_GROUP       PRODUCT_COMBINATION  \\\n",
       "0         12.0            middle  POS mobile with interest   \n",
       "1         36.0        low_action          Cash X-Sell: low   \n",
       "2         12.0              high         Cash X-Sell: high   \n",
       "3         12.0            middle       Cash X-Sell: middle   \n",
       "4         24.0              high         Cash Street: high   \n",
       "\n",
       "   DAYS_FIRST_DRAWING DAYS_FIRST_DUE DAYS_LAST_DUE_1ST_VERSION  DAYS_LAST_DUE  \\\n",
       "0            365243.0          -42.0                     300.0          -42.0   \n",
       "1            365243.0         -134.0                     916.0       365243.0   \n",
       "2            365243.0         -271.0                      59.0       365243.0   \n",
       "3            365243.0         -482.0                    -152.0         -182.0   \n",
       "4                 NaN            NaN                       NaN            NaN   \n",
       "\n",
       "  DAYS_TERMINATION NFLAG_INSURED_ON_APPROVAL  \n",
       "0            -37.0                       0.0  \n",
       "1         365243.0                       1.0  \n",
       "2         365243.0                       1.0  \n",
       "3           -177.0                       1.0  \n",
       "4              NaN                       NaN  \n",
       "\n",
       "[5 rows x 37 columns]"
      ]
     },
     "execution_count": 17,
     "metadata": {},
     "output_type": "execute_result"
    }
   ],
   "source": [
    "# look at the data\n",
    "pre_data.head()"
   ]
  },
  {
   "cell_type": "markdown",
   "metadata": {},
   "source": [
    "`.describe()` provides summary statistics for both numeric and non-numeric data."
   ]
  },
  {
   "cell_type": "code",
   "execution_count": 18,
   "metadata": {},
   "outputs": [
    {
     "data": {
      "text/plain": [
       "count    4.050000e+03\n",
       "mean     1.691863e+05\n",
       "std      2.813868e+05\n",
       "min      0.000000e+00\n",
       "25%      2.871000e+04\n",
       "50%      7.488000e+04\n",
       "75%      1.716952e+05\n",
       "max      3.020760e+06\n",
       "Name: AMT_CREDIT, dtype: float64"
      ]
     },
     "execution_count": 18,
     "metadata": {},
     "output_type": "execute_result"
    }
   ],
   "source": [
    "# look at the summary info for AMT_CREDIT\n",
    "pre_data[\"AMT_CREDIT\"].describe()"
   ]
  },
  {
   "cell_type": "code",
   "execution_count": 19,
   "metadata": {},
   "outputs": [
    {
     "data": {
      "text/plain": [
       "count               4050\n",
       "unique                 3\n",
       "top       Consumer loans\n",
       "freq                2159\n",
       "Name: NAME_CONTRACT_TYPE, dtype: object"
      ]
     },
     "execution_count": 19,
     "metadata": {},
     "output_type": "execute_result"
    }
   ],
   "source": [
    "# let's try describe on a non-numeric column\n",
    "pre_data[\"NAME_CONTRACT_TYPE\"].describe()"
   ]
  },
  {
   "cell_type": "markdown",
   "metadata": {},
   "source": [
    "For categorical fields or numeric fields with a small number of values, you can use `value_counts()` to see unique values and their frequency. "
   ]
  },
  {
   "cell_type": "code",
   "execution_count": 20,
   "metadata": {},
   "outputs": [
    {
     "data": {
      "text/plain": [
       "Consumer loans     2159\n",
       "Cash loans         1430\n",
       "Revolving loans     461\n",
       "Name: NAME_CONTRACT_TYPE, dtype: int64"
      ]
     },
     "execution_count": 20,
     "metadata": {},
     "output_type": "execute_result"
    }
   ],
   "source": [
    "pre_data[\"NAME_CONTRACT_TYPE\"].value_counts()"
   ]
  },
  {
   "cell_type": "markdown",
   "metadata": {},
   "source": [
    "If you don't care about the frequency and just want an easily readable list of the values from a categorical field, use `.unique()`"
   ]
  },
  {
   "cell_type": "code",
   "execution_count": 21,
   "metadata": {},
   "outputs": [
    {
     "data": {
      "text/plain": [
       "array(['Consumer loans', 'Cash loans', 'Revolving loans'], dtype=object)"
      ]
     },
     "execution_count": 21,
     "metadata": {},
     "output_type": "execute_result"
    }
   ],
   "source": [
    "# find out what statement ranges are covered in our data\n",
    "pre_data[\"NAME_CONTRACT_TYPE\"].unique()"
   ]
  },
  {
   "cell_type": "markdown",
   "metadata": {},
   "source": [
    "### 4.6 Identify missings"
   ]
  },
  {
   "cell_type": "markdown",
   "metadata": {},
   "source": [
    "A key disadvantage of `.describe()` is that it **does not return information on missings.**\n",
    "Run the cell below and look the results. You would have to notice  the `count` field lower than the dataframe length to detect any missings. If this field had very few missings, they could be easily overlooked."
   ]
  },
  {
   "cell_type": "code",
   "execution_count": 22,
   "metadata": {},
   "outputs": [
    {
     "data": {
      "text/plain": [
       "count      2239.000000\n",
       "mean       6111.609419\n",
       "std       15337.516766\n",
       "min           0.000000\n",
       "25%           0.000000\n",
       "50%        1615.500000\n",
       "75%        7650.000000\n",
       "max      489600.000000\n",
       "Name: AMT_DOWN_PAYMENT, dtype: float64"
      ]
     },
     "execution_count": 22,
     "metadata": {},
     "output_type": "execute_result"
    }
   ],
   "source": [
    "pre_data[\"AMT_DOWN_PAYMENT\"].describe()"
   ]
  },
  {
   "cell_type": "markdown",
   "metadata": {},
   "source": [
    "The handling of missings in Pandas is an extremely powerful feature, but it can be confusing. The main things to know are:\n",
    "\n",
    "1. There are two types of missings in Pandas (and python generally): `NaN` and `None`. They have different characteristics but the details aren't critical to learn as a beginner\n",
    "\n",
    "2. A logical test for whether a missing value is missing will fail. For example, `np.nan == np.nan` will yield `False`. In Pandas, this holds true for both `Nan` and `None`. This characteristic is critical to remember when comparing data\n",
    "\n",
    "3. By default, many pandas methods exclude missings from the results. Some methods don't even have an option to include them (like `.describe()` above)\n",
    "\n",
    "4. The good news is Pandas has plenty of built-in methods for working with missings"
   ]
  },
  {
   "cell_type": "markdown",
   "metadata": {},
   "source": [
    "`.isnull()` is a method that returns true if values are null.\n",
    "\n",
    "The code below:\n",
    "1. Creates a boolean dataframe with True for null values and False for non-null values\n",
    "2. Sums the number of True's by column (in python True=1 and False=0)\n",
    "\n",
    "*Note:* If you're confused by the \"boolean dataframe\" concept, don't worry. There's a refresher on it when we discuss filtering in detail later on."
   ]
  },
  {
   "cell_type": "code",
   "execution_count": 23,
   "metadata": {},
   "outputs": [
    {
     "data": {
      "text/plain": [
       "SK_ID_PREV                        0\n",
       "SK_ID_CURR                        0\n",
       "NAME_CONTRACT_TYPE                0\n",
       "AMT_ANNUITY                     775\n",
       "AMT_APPLICATION                   0\n",
       "AMT_CREDIT                        0\n",
       "AMT_DOWN_PAYMENT               1811\n",
       "AMT_GOODS_PRICE                 794\n",
       "WEEKDAY_APPR_PROCESS_START        0\n",
       "HOUR_APPR_PROCESS_START           0\n",
       "FLAG_LAST_APPL_PER_CONTRACT       0\n",
       "NFLAG_LAST_APPL_IN_DAY            0\n",
       "RATE_DOWN_PAYMENT              1811\n",
       "RATE_INTEREST_PRIMARY          4032\n",
       "RATE_INTEREST_PRIVILEGED       4032\n",
       "NAME_CASH_LOAN_PURPOSE            0\n",
       "NAME_CONTRACT_STATUS              0\n",
       "DAYS_DECISION                     0\n",
       "NAME_PAYMENT_TYPE                 0\n",
       "CODE_REJECT_REASON                0\n",
       "NAME_TYPE_SUITE                1937\n",
       "NAME_CLIENT_TYPE                  0\n",
       "NAME_GOODS_CATEGORY               0\n",
       "NAME_PORTFOLIO                    0\n",
       "NAME_PRODUCT_TYPE                 0\n",
       "CHANNEL_TYPE                      0\n",
       "SELLERPLACE_AREA                  0\n",
       "NAME_SELLER_INDUSTRY              0\n",
       "CNT_PAYMENT                     775\n",
       "NAME_YIELD_GROUP                  0\n",
       "PRODUCT_COMBINATION               0\n",
       "DAYS_FIRST_DRAWING             1463\n",
       "DAYS_FIRST_DUE                 1463\n",
       "DAYS_LAST_DUE_1ST_VERSION      1463\n",
       "DAYS_LAST_DUE                  1463\n",
       "DAYS_TERMINATION               1463\n",
       "NFLAG_INSURED_ON_APPROVAL      1463\n",
       "dtype: int64"
      ]
     },
     "execution_count": 23,
     "metadata": {},
     "output_type": "execute_result"
    }
   ],
   "source": [
    "# check if any columns have missings\n",
    "pre_data.isnull().sum()"
   ]
  },
  {
   "cell_type": "markdown",
   "metadata": {},
   "source": [
    "`value_counts()` has the option `dropna=False` to include missings in the results. But like we said above, this method only makes sense for categorical fields or numeric fields with a small number of values."
   ]
  },
  {
   "cell_type": "code",
   "execution_count": 24,
   "metadata": {},
   "outputs": [
    {
     "data": {
      "text/plain": [
       "NaN           1811\n",
       " 0.000        1060\n",
       " 4500.000       59\n",
       " 9000.000       44\n",
       " 6750.000       29\n",
       " 22500.000      27\n",
       " 13500.000      25\n",
       " 18000.000      18\n",
       " 45000.000      17\n",
       " 2250.000       17\n",
       " 2700.000       12\n",
       " 4950.000        9\n",
       " 2475.000        9\n",
       " 3600.000        6\n",
       " 5400.000        6\n",
       " 31500.000       6\n",
       " 6300.000        6\n",
       " 2925.000        6\n",
       " 11250.000       6\n",
       " 3150.000        5\n",
       " 36000.000       5\n",
       " 7200.000        5\n",
       " 4.095           5\n",
       " 6295.500        4\n",
       " 1350.000        4\n",
       " 11700.000       4\n",
       " 1890.000        4\n",
       " 5850.000        4\n",
       " 8100.000        4\n",
       " 4.050           4\n",
       "              ... \n",
       " 3438.000        1\n",
       " 2281.500        1\n",
       " 8698.500        1\n",
       " 7263.000        1\n",
       " 30339.000       1\n",
       " 8207.595        1\n",
       " 13000.500       1\n",
       " 2407.500        1\n",
       " 10021.500       1\n",
       " 6547.500        1\n",
       " 6588.000        1\n",
       " 20375.550       1\n",
       " 2506.500        1\n",
       " 6749.550        1\n",
       " 8505.000        1\n",
       " 9922.275        1\n",
       " 900.000         1\n",
       " 2556.000        1\n",
       " 8640.000        1\n",
       " 1512.000        1\n",
       " 12739.500       1\n",
       " 8365.500        1\n",
       " 9985.950        1\n",
       " 2497.500        1\n",
       " 3159.000        1\n",
       " 5233.500        1\n",
       " 4222.800        1\n",
       " 2587.500        1\n",
       " 3802.500        1\n",
       " 5895.000        1\n",
       "Name: AMT_DOWN_PAYMENT, Length: 743, dtype: int64"
      ]
     },
     "execution_count": 24,
     "metadata": {},
     "output_type": "execute_result"
    }
   ],
   "source": [
    "pre_data[\"AMT_DOWN_PAYMENT\"].value_counts(dropna=False)"
   ]
  },
  {
   "cell_type": "markdown",
   "metadata": {},
   "source": [
    "#### Practice 2\n",
    "For the below exercise, we want you to use the techniques taught above to explore another dataset. "
   ]
  },
  {
   "cell_type": "markdown",
   "metadata": {},
   "source": [
    "Step 1\n",
    "Create a dataframe called app from the csv file application.csv"
   ]
  },
  {
   "cell_type": "code",
   "execution_count": 34,
   "metadata": {},
   "outputs": [],
   "source": [
    "# put your code for step 1 here\n"
   ]
  },
  {
   "cell_type": "markdown",
   "metadata": {},
   "source": [
    "Step 2 How many rows and columns does app have?"
   ]
  },
  {
   "cell_type": "code",
   "execution_count": 35,
   "metadata": {},
   "outputs": [
    {
     "data": {
      "text/plain": [
       "(3551, 122)"
      ]
     },
     "execution_count": 35,
     "metadata": {},
     "output_type": "execute_result"
    }
   ],
   "source": [
    "# put your code for step 2 here\n"
   ]
  },
  {
   "cell_type": "markdown",
   "metadata": {},
   "source": [
    "Step 3 What is the value of AMT_INCOME_TOTAL for the row with an index of 4 (SK_ID_CURR=100007)?"
   ]
  },
  {
   "cell_type": "code",
   "execution_count": 28,
   "metadata": {},
   "outputs": [
    {
     "data": {
      "text/html": [
       "<div>\n",
       "<style scoped>\n",
       "    .dataframe tbody tr th:only-of-type {\n",
       "        vertical-align: middle;\n",
       "    }\n",
       "\n",
       "    .dataframe tbody tr th {\n",
       "        vertical-align: top;\n",
       "    }\n",
       "\n",
       "    .dataframe thead th {\n",
       "        text-align: right;\n",
       "    }\n",
       "</style>\n",
       "<table border=\"1\" class=\"dataframe\">\n",
       "  <thead>\n",
       "    <tr style=\"text-align: right;\">\n",
       "      <th></th>\n",
       "      <th>SK_ID_CURR</th>\n",
       "      <th>TARGET</th>\n",
       "      <th>NAME_CONTRACT_TYPE</th>\n",
       "      <th>CODE_GENDER</th>\n",
       "      <th>FLAG_OWN_CAR</th>\n",
       "      <th>FLAG_OWN_REALTY</th>\n",
       "      <th>CNT_CHILDREN</th>\n",
       "      <th>AMT_INCOME_TOTAL</th>\n",
       "      <th>AMT_CREDIT</th>\n",
       "      <th>AMT_ANNUITY</th>\n",
       "      <th>...</th>\n",
       "      <th>FLAG_DOCUMENT_18</th>\n",
       "      <th>FLAG_DOCUMENT_19</th>\n",
       "      <th>FLAG_DOCUMENT_20</th>\n",
       "      <th>FLAG_DOCUMENT_21</th>\n",
       "      <th>AMT_REQ_CREDIT_BUREAU_HOUR</th>\n",
       "      <th>AMT_REQ_CREDIT_BUREAU_DAY</th>\n",
       "      <th>AMT_REQ_CREDIT_BUREAU_WEEK</th>\n",
       "      <th>AMT_REQ_CREDIT_BUREAU_MON</th>\n",
       "      <th>AMT_REQ_CREDIT_BUREAU_QRT</th>\n",
       "      <th>AMT_REQ_CREDIT_BUREAU_YEAR</th>\n",
       "    </tr>\n",
       "  </thead>\n",
       "  <tbody>\n",
       "    <tr>\n",
       "      <th>0</th>\n",
       "      <td>100002</td>\n",
       "      <td>1</td>\n",
       "      <td>Cash loans</td>\n",
       "      <td>M</td>\n",
       "      <td>N</td>\n",
       "      <td>Y</td>\n",
       "      <td>0</td>\n",
       "      <td>202500.0</td>\n",
       "      <td>406597.5</td>\n",
       "      <td>24700.5</td>\n",
       "      <td>...</td>\n",
       "      <td>0</td>\n",
       "      <td>0</td>\n",
       "      <td>0</td>\n",
       "      <td>0</td>\n",
       "      <td>0.0</td>\n",
       "      <td>0.0</td>\n",
       "      <td>0.0</td>\n",
       "      <td>0.0</td>\n",
       "      <td>0.0</td>\n",
       "      <td>1.0</td>\n",
       "    </tr>\n",
       "    <tr>\n",
       "      <th>1</th>\n",
       "      <td>100003</td>\n",
       "      <td>0</td>\n",
       "      <td>Cash loans</td>\n",
       "      <td>F</td>\n",
       "      <td>N</td>\n",
       "      <td>N</td>\n",
       "      <td>0</td>\n",
       "      <td>270000.0</td>\n",
       "      <td>1293502.5</td>\n",
       "      <td>35698.5</td>\n",
       "      <td>...</td>\n",
       "      <td>0</td>\n",
       "      <td>0</td>\n",
       "      <td>0</td>\n",
       "      <td>0</td>\n",
       "      <td>0.0</td>\n",
       "      <td>0.0</td>\n",
       "      <td>0.0</td>\n",
       "      <td>0.0</td>\n",
       "      <td>0.0</td>\n",
       "      <td>0.0</td>\n",
       "    </tr>\n",
       "    <tr>\n",
       "      <th>2</th>\n",
       "      <td>100004</td>\n",
       "      <td>0</td>\n",
       "      <td>Revolving loans</td>\n",
       "      <td>M</td>\n",
       "      <td>Y</td>\n",
       "      <td>Y</td>\n",
       "      <td>0</td>\n",
       "      <td>67500.0</td>\n",
       "      <td>135000.0</td>\n",
       "      <td>6750.0</td>\n",
       "      <td>...</td>\n",
       "      <td>0</td>\n",
       "      <td>0</td>\n",
       "      <td>0</td>\n",
       "      <td>0</td>\n",
       "      <td>0.0</td>\n",
       "      <td>0.0</td>\n",
       "      <td>0.0</td>\n",
       "      <td>0.0</td>\n",
       "      <td>0.0</td>\n",
       "      <td>0.0</td>\n",
       "    </tr>\n",
       "    <tr>\n",
       "      <th>3</th>\n",
       "      <td>100006</td>\n",
       "      <td>0</td>\n",
       "      <td>Cash loans</td>\n",
       "      <td>F</td>\n",
       "      <td>N</td>\n",
       "      <td>Y</td>\n",
       "      <td>0</td>\n",
       "      <td>135000.0</td>\n",
       "      <td>312682.5</td>\n",
       "      <td>29686.5</td>\n",
       "      <td>...</td>\n",
       "      <td>0</td>\n",
       "      <td>0</td>\n",
       "      <td>0</td>\n",
       "      <td>0</td>\n",
       "      <td>NaN</td>\n",
       "      <td>NaN</td>\n",
       "      <td>NaN</td>\n",
       "      <td>NaN</td>\n",
       "      <td>NaN</td>\n",
       "      <td>NaN</td>\n",
       "    </tr>\n",
       "    <tr>\n",
       "      <th>4</th>\n",
       "      <td>100007</td>\n",
       "      <td>0</td>\n",
       "      <td>Cash loans</td>\n",
       "      <td>M</td>\n",
       "      <td>N</td>\n",
       "      <td>Y</td>\n",
       "      <td>0</td>\n",
       "      <td>121500.0</td>\n",
       "      <td>513000.0</td>\n",
       "      <td>21865.5</td>\n",
       "      <td>...</td>\n",
       "      <td>0</td>\n",
       "      <td>0</td>\n",
       "      <td>0</td>\n",
       "      <td>0</td>\n",
       "      <td>0.0</td>\n",
       "      <td>0.0</td>\n",
       "      <td>0.0</td>\n",
       "      <td>0.0</td>\n",
       "      <td>0.0</td>\n",
       "      <td>0.0</td>\n",
       "    </tr>\n",
       "    <tr>\n",
       "      <th>5</th>\n",
       "      <td>100008</td>\n",
       "      <td>0</td>\n",
       "      <td>Cash loans</td>\n",
       "      <td>M</td>\n",
       "      <td>N</td>\n",
       "      <td>Y</td>\n",
       "      <td>0</td>\n",
       "      <td>99000.0</td>\n",
       "      <td>490495.5</td>\n",
       "      <td>27517.5</td>\n",
       "      <td>...</td>\n",
       "      <td>0</td>\n",
       "      <td>0</td>\n",
       "      <td>0</td>\n",
       "      <td>0</td>\n",
       "      <td>0.0</td>\n",
       "      <td>0.0</td>\n",
       "      <td>0.0</td>\n",
       "      <td>0.0</td>\n",
       "      <td>1.0</td>\n",
       "      <td>1.0</td>\n",
       "    </tr>\n",
       "    <tr>\n",
       "      <th>6</th>\n",
       "      <td>100009</td>\n",
       "      <td>0</td>\n",
       "      <td>Cash loans</td>\n",
       "      <td>F</td>\n",
       "      <td>Y</td>\n",
       "      <td>Y</td>\n",
       "      <td>1</td>\n",
       "      <td>171000.0</td>\n",
       "      <td>1560726.0</td>\n",
       "      <td>41301.0</td>\n",
       "      <td>...</td>\n",
       "      <td>0</td>\n",
       "      <td>0</td>\n",
       "      <td>0</td>\n",
       "      <td>0</td>\n",
       "      <td>0.0</td>\n",
       "      <td>0.0</td>\n",
       "      <td>0.0</td>\n",
       "      <td>1.0</td>\n",
       "      <td>1.0</td>\n",
       "      <td>2.0</td>\n",
       "    </tr>\n",
       "    <tr>\n",
       "      <th>7</th>\n",
       "      <td>100010</td>\n",
       "      <td>0</td>\n",
       "      <td>Cash loans</td>\n",
       "      <td>M</td>\n",
       "      <td>Y</td>\n",
       "      <td>Y</td>\n",
       "      <td>0</td>\n",
       "      <td>360000.0</td>\n",
       "      <td>1530000.0</td>\n",
       "      <td>42075.0</td>\n",
       "      <td>...</td>\n",
       "      <td>0</td>\n",
       "      <td>0</td>\n",
       "      <td>0</td>\n",
       "      <td>0</td>\n",
       "      <td>0.0</td>\n",
       "      <td>0.0</td>\n",
       "      <td>0.0</td>\n",
       "      <td>0.0</td>\n",
       "      <td>0.0</td>\n",
       "      <td>0.0</td>\n",
       "    </tr>\n",
       "    <tr>\n",
       "      <th>8</th>\n",
       "      <td>100011</td>\n",
       "      <td>0</td>\n",
       "      <td>Cash loans</td>\n",
       "      <td>F</td>\n",
       "      <td>N</td>\n",
       "      <td>Y</td>\n",
       "      <td>0</td>\n",
       "      <td>112500.0</td>\n",
       "      <td>1019610.0</td>\n",
       "      <td>33826.5</td>\n",
       "      <td>...</td>\n",
       "      <td>0</td>\n",
       "      <td>0</td>\n",
       "      <td>0</td>\n",
       "      <td>0</td>\n",
       "      <td>0.0</td>\n",
       "      <td>0.0</td>\n",
       "      <td>0.0</td>\n",
       "      <td>0.0</td>\n",
       "      <td>0.0</td>\n",
       "      <td>1.0</td>\n",
       "    </tr>\n",
       "    <tr>\n",
       "      <th>9</th>\n",
       "      <td>100012</td>\n",
       "      <td>0</td>\n",
       "      <td>Revolving loans</td>\n",
       "      <td>M</td>\n",
       "      <td>N</td>\n",
       "      <td>Y</td>\n",
       "      <td>0</td>\n",
       "      <td>135000.0</td>\n",
       "      <td>405000.0</td>\n",
       "      <td>20250.0</td>\n",
       "      <td>...</td>\n",
       "      <td>0</td>\n",
       "      <td>0</td>\n",
       "      <td>0</td>\n",
       "      <td>0</td>\n",
       "      <td>NaN</td>\n",
       "      <td>NaN</td>\n",
       "      <td>NaN</td>\n",
       "      <td>NaN</td>\n",
       "      <td>NaN</td>\n",
       "      <td>NaN</td>\n",
       "    </tr>\n",
       "  </tbody>\n",
       "</table>\n",
       "<p>10 rows × 122 columns</p>\n",
       "</div>"
      ],
      "text/plain": [
       "   SK_ID_CURR  TARGET NAME_CONTRACT_TYPE CODE_GENDER FLAG_OWN_CAR  \\\n",
       "0      100002       1         Cash loans           M            N   \n",
       "1      100003       0         Cash loans           F            N   \n",
       "2      100004       0    Revolving loans           M            Y   \n",
       "3      100006       0         Cash loans           F            N   \n",
       "4      100007       0         Cash loans           M            N   \n",
       "5      100008       0         Cash loans           M            N   \n",
       "6      100009       0         Cash loans           F            Y   \n",
       "7      100010       0         Cash loans           M            Y   \n",
       "8      100011       0         Cash loans           F            N   \n",
       "9      100012       0    Revolving loans           M            N   \n",
       "\n",
       "  FLAG_OWN_REALTY  CNT_CHILDREN  AMT_INCOME_TOTAL  AMT_CREDIT  AMT_ANNUITY  \\\n",
       "0               Y             0          202500.0    406597.5      24700.5   \n",
       "1               N             0          270000.0   1293502.5      35698.5   \n",
       "2               Y             0           67500.0    135000.0       6750.0   \n",
       "3               Y             0          135000.0    312682.5      29686.5   \n",
       "4               Y             0          121500.0    513000.0      21865.5   \n",
       "5               Y             0           99000.0    490495.5      27517.5   \n",
       "6               Y             1          171000.0   1560726.0      41301.0   \n",
       "7               Y             0          360000.0   1530000.0      42075.0   \n",
       "8               Y             0          112500.0   1019610.0      33826.5   \n",
       "9               Y             0          135000.0    405000.0      20250.0   \n",
       "\n",
       "              ...              FLAG_DOCUMENT_18 FLAG_DOCUMENT_19  \\\n",
       "0             ...                             0                0   \n",
       "1             ...                             0                0   \n",
       "2             ...                             0                0   \n",
       "3             ...                             0                0   \n",
       "4             ...                             0                0   \n",
       "5             ...                             0                0   \n",
       "6             ...                             0                0   \n",
       "7             ...                             0                0   \n",
       "8             ...                             0                0   \n",
       "9             ...                             0                0   \n",
       "\n",
       "  FLAG_DOCUMENT_20 FLAG_DOCUMENT_21 AMT_REQ_CREDIT_BUREAU_HOUR  \\\n",
       "0                0                0                        0.0   \n",
       "1                0                0                        0.0   \n",
       "2                0                0                        0.0   \n",
       "3                0                0                        NaN   \n",
       "4                0                0                        0.0   \n",
       "5                0                0                        0.0   \n",
       "6                0                0                        0.0   \n",
       "7                0                0                        0.0   \n",
       "8                0                0                        0.0   \n",
       "9                0                0                        NaN   \n",
       "\n",
       "  AMT_REQ_CREDIT_BUREAU_DAY  AMT_REQ_CREDIT_BUREAU_WEEK  \\\n",
       "0                       0.0                         0.0   \n",
       "1                       0.0                         0.0   \n",
       "2                       0.0                         0.0   \n",
       "3                       NaN                         NaN   \n",
       "4                       0.0                         0.0   \n",
       "5                       0.0                         0.0   \n",
       "6                       0.0                         0.0   \n",
       "7                       0.0                         0.0   \n",
       "8                       0.0                         0.0   \n",
       "9                       NaN                         NaN   \n",
       "\n",
       "   AMT_REQ_CREDIT_BUREAU_MON  AMT_REQ_CREDIT_BUREAU_QRT  \\\n",
       "0                        0.0                        0.0   \n",
       "1                        0.0                        0.0   \n",
       "2                        0.0                        0.0   \n",
       "3                        NaN                        NaN   \n",
       "4                        0.0                        0.0   \n",
       "5                        0.0                        1.0   \n",
       "6                        1.0                        1.0   \n",
       "7                        0.0                        0.0   \n",
       "8                        0.0                        0.0   \n",
       "9                        NaN                        NaN   \n",
       "\n",
       "   AMT_REQ_CREDIT_BUREAU_YEAR  \n",
       "0                         1.0  \n",
       "1                         0.0  \n",
       "2                         0.0  \n",
       "3                         NaN  \n",
       "4                         0.0  \n",
       "5                         1.0  \n",
       "6                         2.0  \n",
       "7                         0.0  \n",
       "8                         1.0  \n",
       "9                         NaN  \n",
       "\n",
       "[10 rows x 122 columns]"
      ]
     },
     "execution_count": 28,
     "metadata": {},
     "output_type": "execute_result"
    }
   ],
   "source": [
    "# put your code for step 3 here\n"
   ]
  },
  {
   "cell_type": "markdown",
   "metadata": {},
   "source": [
    "Step 4 How many applicants' CONTRACT TYPE in app_data fall into the Cash loans?"
   ]
  },
  {
   "cell_type": "code",
   "execution_count": 30,
   "metadata": {},
   "outputs": [
    {
     "data": {
      "text/plain": [
       "Cash loans         3210\n",
       "Revolving loans     341\n",
       "Name: NAME_CONTRACT_TYPE, dtype: int64"
      ]
     },
     "execution_count": 30,
     "metadata": {},
     "output_type": "execute_result"
    }
   ],
   "source": [
    "# put your code for step 4 here\n"
   ]
  },
  {
   "cell_type": "markdown",
   "metadata": {},
   "source": [
    "Step 5 How many missings does the OWN_CAR_AGE field contain?"
   ]
  },
  {
   "cell_type": "code",
   "execution_count": 33,
   "metadata": {},
   "outputs": [
    {
     "data": {
      "text/plain": [
       "2352"
      ]
     },
     "execution_count": 33,
     "metadata": {},
     "output_type": "execute_result"
    }
   ],
   "source": [
    "# put your code for step 5 here \n"
   ]
  },
  {
   "cell_type": "markdown",
   "metadata": {},
   "source": [
    "### 4.7 Copy dataframes\n",
    "\n",
    "One small, but crucially important, thing to know about Pandas is how to copy a DataFrame. If you want to make a copy that's fully independent from the original, **use the `.copy()` method. Using *only* the equal sign `=` to assign an existing df to a new variable will not produce the results you intend!**\n",
    "\n",
    "**Good:** dataframe_new = dataframe_old.copy()\n",
    "\n",
    "**Bad:** dataframe_new = dataframe_old"
   ]
  },
  {
   "cell_type": "markdown",
   "metadata": {},
   "source": [
    "### 4.8 Reshape data\n",
    "\n",
    "Pandas has several methods and functions to reshape data. The most basic method is `pivot()` which reshapes data from long-to-wide format. For example, the pre_data dataframe containing SPR data is *long* format because it's structured as one row per statement per acct_id. Transforming pre_data into *wide* format means structuring the data as one row per acct_id, with individual columns for each statement.\n",
    "\n",
    "`pivot()` accepts three arguments: `index`, `columns`, and `values`. All three arguments are technically optional, but in practice **always** specify the `index` and `columns` arguments or the results will be unusual. "
   ]
  },
  {
   "cell_type": "code",
   "execution_count": null,
   "metadata": {},
   "outputs": [],
   "source": [
    "pre_data.head()"
   ]
  },
  {
   "cell_type": "code",
   "execution_count": null,
   "metadata": {},
   "outputs": [],
   "source": [
    "# note the index is being sorted in the result\n",
    "pre_data.pivot(index='SK_ID_PREV', columns='WEEKDAY_APPR_PROCESS_START', values='AMT_APPLICATION')"
   ]
  },
  {
   "cell_type": "markdown",
   "metadata": {},
   "source": [
    "### 4.9 Group\n",
    "\n",
    "`.Groupby` lets you group data, which is very powerful for analysis.  A few things to know:\n",
    "\n",
    "1. `.groupby()` returns a groupby object which then needs to be aggregated with count, sum, mean, median etc.\n",
    "2. By default, `.groupby()` turns the column you group on into the index for the grouped data\n",
    "3. `.groupby()` excludes missings!\n",
    "\n",
    "The format for `.groupby()` is `dataframe.groupby(\"column to group on\")[\"column to summarize\"].summary_function()`. Both the `\"column to group on\"` and the `\"column to summarize\"` arguments can take more than one column if you input them as **a list**."
   ]
  },
  {
   "cell_type": "code",
   "execution_count": null,
   "metadata": {},
   "outputs": [],
   "source": [
    "# count the number of SK_ID_PREV by NAME_CONTRACT_TYPE\n",
    "pre_data.groupby([\"NAME_CONTRACT_TYPE\"])[\"SK_ID_PREV\"].count()"
   ]
  },
  {
   "cell_type": "markdown",
   "metadata": {},
   "source": [
    "Eek! This result is not well-formatted because a single-column DataFrame is a Series. To get the nice DataFrame formatting from ipython notebook, put the `groupby()` inside `pd.DataFrame()`."
   ]
  },
  {
   "cell_type": "code",
   "execution_count": null,
   "metadata": {},
   "outputs": [],
   "source": [
    "# same groupby as above but turning results into a dataframe\n",
    "pd.DataFrame(pre_data.groupby([\"NAME_CONTRACT_TYPE\"])[\"SK_ID_PREV\"].count())"
   ]
  },
  {
   "cell_type": "markdown",
   "metadata": {},
   "source": [
    "See above how there's a blank cell to the right of NAME_CONTRACT_TYPE? As we talked about above, that format means NAME_CONTRACT_TYPE is the index."
   ]
  },
  {
   "cell_type": "markdown",
   "metadata": {},
   "source": [
    "The option `as_index=False` overrides the default `groupby` behavior of turning the column you group on into the index. \n",
    "\n",
    "The code below is the same as the code above except `as_index=False` in included. Notice the counts are identical, but the grouped data has the default index and NAME_CONTRACT_TYPE is a column."
   ]
  },
  {
   "cell_type": "code",
   "execution_count": null,
   "metadata": {},
   "outputs": [],
   "source": [
    "# count the number of acct_ids by statement and apply the default index\n",
    "pd.DataFrame(pre_data.groupby([\"NAME_CONTRACT_TYPE\"], as_index=False)[\"SK_ID_PREV\"].count())"
   ]
  },
  {
   "cell_type": "markdown",
   "metadata": {},
   "source": [
    "#### Practice 3\n",
    "\n",
    "Find the  mean of AMT_CREDIT by NAME_CONTRACT_TYPE and assign the output to a variable called mean_AMT_CREDIT_Con. Use the default index behavior for `groupby()`."
   ]
  },
  {
   "cell_type": "code",
   "execution_count": null,
   "metadata": {},
   "outputs": [],
   "source": [
    "# put your code for exercise 3 here\n"
   ]
  },
  {
   "cell_type": "markdown",
   "metadata": {},
   "source": [
    "Now let's create the code to do the following:\n",
    "\n",
    "1. Grabs SK_ID_CURR from the pre_data dataframe and keeps only unique values\n",
    "2. Sums the values of AMT_DOWN_PAYMENT for each unique SK_ID_CURR\n",
    "3. Produces a dataframe abc with SK_ID_CURR as the index and sum of AMT_DOWN_PAYMENT as the values"
   ]
  },
  {
   "cell_type": "code",
   "execution_count": null,
   "metadata": {
    "scrolled": true
   },
   "outputs": [],
   "source": []
  },
  {
   "cell_type": "markdown",
   "metadata": {},
   "source": [
    "### 4.10 Fliter data\n",
    "\n",
    "In Pandas, filtering data is called indexing, and there are several choices. In order to understand the pros and cons of each, it's important to understand the two ways to refer to data within a dataframe:\n",
    "1. *Labels* are a reference to the actual column names or values of the index. E.g. AMT_DOWN_PAYMENT or index=100 \n",
    "\n",
    "2. *Positions* are a reference to the location of the column or row within the dataframe. E.g. 3rd column or 10th row. You'll probably use this reference infrequently.\n",
    "\n",
    "In terms of filtering choices, we recommend the two methods that accept *either* labels or positions, not both:\n",
    "\n",
    "1. `.loc()` only accepts *label* inputs\n",
    "2. `.iloc()` only accepts *position* inputs. The syntax is the same as `.loc()` so it's easy to use once you get `.loc()`.\n",
    "\n",
    "If you've used Pandas in the past, you may have used an indexing choice involving two sets of brackets without calling an explicit method - for example, `df[df['column'] <=10]`. We strongly discourage this indexing choice! \n",
    "\n",
    "\n",
    "Back to `.loc()` and `iloc()`, here are some specific things to know:\n",
    "\n",
    "1. The format for both methods is `dataframe.method[row_logic, column_logic]`\n",
    "2. Boolean vectors can be used for both `row_logic` and `column_logic` (details below)\n",
    "3. If you only want to filter *rows*, leave out the 'column_logic` as it's optional\n",
    "4. If you only want to filter *columns*, use `:` as a placeholder e.g. `dataframe.method[:, column_logic]`."
   ]
  },
  {
   "cell_type": "markdown",
   "metadata": {},
   "source": [
    "#### Conditionals and boolean masks\n",
    "\n",
    "The basic idea of indexing in Pandas is that you *write* a conditional statement to *create* a boolean mask (i.e. a vector of True/False values). It's important to have a good gasp on booleans before writing any indexing code.\n",
    "\n",
    "- Conditional statements are written with the comparison operators `[<, >, <=, >=, ==]`. \n",
    "\n",
    "- When a conditional statement is applied to an existing data structure, a new data structure of identical shape called a boolean mask is created. The values are True and False representing the logical test of the conditional statement. \n",
    "\n",
    "- Lastly, applying this boolean mask back to the existing data structure will filter the data based on the conditional statement.\n",
    "\n",
    "Let's do a basic example:"
   ]
  },
  {
   "cell_type": "markdown",
   "metadata": {},
   "source": [
    "Step 1: Use a conditional statement to create a boolean mask.\n"
   ]
  },
  {
   "cell_type": "code",
   "execution_count": null,
   "metadata": {},
   "outputs": [],
   "source": [
    "# Create a boolean mask\n",
    "pre_data[\"AMT_DOWN_PAYMENT\"] <= 9000"
   ]
  },
  {
   "cell_type": "markdown",
   "metadata": {},
   "source": [
    "Step 2: Apply the boolean mask back to the original data structure. "
   ]
  },
  {
   "cell_type": "code",
   "execution_count": null,
   "metadata": {},
   "outputs": [],
   "source": [
    "# Filter pre_data\n",
    "pre_data.loc[pre_data[\"AMT_DOWN_PAYMENT\"] <= 9000].head(25)"
   ]
  },
  {
   "cell_type": "markdown",
   "metadata": {},
   "source": [
    "#### Practice 4\n",
    "\n",
    "1. Create a boolean mask called boolean_weekday to check whether WEEKDAY_APPR_PROCESS_START equals \"MONDAY\" for each row in pre_data.\n",
    "2. Create a dataframe called pre_data_monday containing only the rows from pre_data where WEEKDAY_APPR_PROCESS_START equals \"MONDAY\".\n",
    "3. For pre_data_monday, sum AMT_DOWN_PAYMENT by NAME_CONTRACT_TYPE\n",
    "4. Combine step 1 to step 3 into one step and store into a new dataframe comb"
   ]
  },
  {
   "cell_type": "code",
   "execution_count": null,
   "metadata": {},
   "outputs": [],
   "source": [
    "# step 1:\n"
   ]
  },
  {
   "cell_type": "code",
   "execution_count": null,
   "metadata": {},
   "outputs": [],
   "source": [
    "# step 2:\n"
   ]
  },
  {
   "cell_type": "code",
   "execution_count": null,
   "metadata": {},
   "outputs": [],
   "source": [
    "# step3:\n"
   ]
  },
  {
   "cell_type": "code",
   "execution_count": null,
   "metadata": {},
   "outputs": [],
   "source": [
    "# step4: \n"
   ]
  },
  {
   "cell_type": "markdown",
   "metadata": {},
   "source": [
    "### 4.10 Multiple filters\n",
    "\n",
    "The three things you know about using more than one filter are:\n",
    "1. Each filter must reference the data structure as if it was being used individually\n",
    "2. Each filter must be enclosed in parentheses, e.g. `df.loc[(df[\"col1\"]==1) & (df[\"col2\"]==5)]`\n",
    "3. Connect filters with the operators: ampersand (`&`) to represent \"AND\" or pipe (`|`) to repesent \"OR\".\n",
    "\n",
    "The code below:\n",
    "1. Creates a boolean series based on pre_data with values of True where WEEKDAY_APPR_PROCESS_START is MONDAY AND NAME_CONTRACT_TYPE is Consumer loans, and values of False otherwise\n",
    "2. Filters pre_data to view only the rows with True in the boolean series and assigns it to the dataframe new_df"
   ]
  },
  {
   "cell_type": "code",
   "execution_count": null,
   "metadata": {},
   "outputs": [],
   "source": [
    "new_df = pre_data.\\\n",
    "            loc[(pre_data[\"WEEKDAY_APPR_PROCESS_START\"]=='MONDAY') & (pre_data[\"NAME_CONTRACT_TYPE\"]=='Consumer loans')]\n",
    "\n",
    "new_df"
   ]
  },
  {
   "cell_type": "markdown",
   "metadata": {},
   "source": [
    "#### Practice 5:\n",
    "\n",
    "Create a dataframe called p5 containing only the rows from `pre_data` where `NAME_CONTRACT_TYPE` equals Consumer loans or Cash loans"
   ]
  },
  {
   "cell_type": "code",
   "execution_count": null,
   "metadata": {},
   "outputs": [],
   "source": [
    "# put your code to answer Exercise 5 here\n"
   ]
  },
  {
   "cell_type": "markdown",
   "metadata": {},
   "source": [
    "### 4.11 Merge\n",
    "\n",
    "Key things to know:\n",
    "1. Columns can't be renamed *during* the join. It must be done beforehand.\n",
    "2. `merge()` only accepts two dataframes. Joining more than two requires multiple merge statements.\n",
    "3. There are different keyword arguments depending on whether you are joining on the index or on specific columns. See below for more info.\n",
    "\n",
    "To use a *column* for a join, use the argument `left_on=COLUMN_NAME` or `right_on=COLUMN_NAME`. To use the index for a join, use the argument `left_index=True` or `right_index=True`\n",
    "\n",
    "The code below is to creates a new dataframe called `joined` that's an inner join of `app_data` and `pre_data`."
   ]
  },
  {
   "cell_type": "code",
   "execution_count": null,
   "metadata": {},
   "outputs": [],
   "source": [
    "pd.set_option(\"display.max_columns\",100)\n",
    "joined = pd.merge(app_data,pre_data,\n",
    "                    on='SK_ID_CURR',\n",
    "                    how=\"inner\")\n",
    "joined.head()"
   ]
  },
  {
   "cell_type": "markdown",
   "metadata": {},
   "source": [
    "### 4.12 Write data to a csv\n",
    "\n",
    "Just like reading data, pandas has a handy built-in function `to_csv` to write data. \n",
    "\n",
    "*Important note:* `to_csv` gives no warning if an existing file has the same name. It will overwrite existing data files unintentionally!"
   ]
  },
  {
   "cell_type": "code",
   "execution_count": null,
   "metadata": {},
   "outputs": [],
   "source": [
    "joined.to_csv('joined.csv')"
   ]
  },
  {
   "cell_type": "markdown",
   "metadata": {},
   "source": [
    "### 4.13 Add new columns\n",
    "\n",
    "Adding a new column in Pandas is super easy. The format is `existing_dataframe[\"new_column\"] = column_definition`. Please note you can overwrite data if you use an existing column name, so be careful."
   ]
  },
  {
   "cell_type": "code",
   "execution_count": null,
   "metadata": {},
   "outputs": [],
   "source": [
    "# create an indicator for high income customers\n",
    "app_data[\"HIGH_INCOME\"] = app_data[\"AMT_INCOME_TOTAL\"]>600000"
   ]
  },
  {
   "cell_type": "code",
   "execution_count": null,
   "metadata": {},
   "outputs": [],
   "source": [
    "# look at the frequency\n",
    "app_data[\"HIGH_INCOME\"].value_counts()"
   ]
  },
  {
   "cell_type": "code",
   "execution_count": null,
   "metadata": {},
   "outputs": [],
   "source": [
    "# verify all of the HIGH_INCOME have the value > 600000\n",
    "app_data[\"AMT_INCOME_TOTAL\"].loc[app_data[\"HIGH_INCOME\"]==True].describe()"
   ]
  },
  {
   "cell_type": "markdown",
   "metadata": {},
   "source": [
    "### 4.13 Plotting\n",
    "\n",
    "Jupyter notebook, pandas, and matplotlib integrate together to make lovely inline plots. "
   ]
  },
  {
   "cell_type": "code",
   "execution_count": null,
   "metadata": {},
   "outputs": [],
   "source": [
    "# look at the bad freq by LOB\n",
    "app_data.groupby(\"TARGET\")[\"AMT_INCOME_TOTAL\"].mean()"
   ]
  },
  {
   "cell_type": "code",
   "execution_count": null,
   "metadata": {},
   "outputs": [],
   "source": [
    "# put the result into a dataframe\n",
    "#Use Series: income_by_target= app_data.groupby(\"TARGET\")[\"AMT_INCOME_TOTAL\"].mean()\n",
    "income_by_target= pd.DataFrame(app_data.groupby(\"TARGET\", as_index=False)[\"AMT_INCOME_TOTAL\"].mean())\n",
    "income_by_target"
   ]
  },
  {
   "cell_type": "markdown",
   "metadata": {},
   "source": [
    "`.plot()` is a dataframe method based on matplot lib. The code below creates a bar chart"
   ]
  },
  {
   "cell_type": "code",
   "execution_count": null,
   "metadata": {},
   "outputs": [],
   "source": [
    "my_plot = income_by_target.plot(x=\"TARGET\", y=\"AMT_INCOME_TOTAL\",kind=\"bar\")"
   ]
  },
  {
   "cell_type": "markdown",
   "metadata": {},
   "source": [
    "`.hist()` specifically creates histogram plots"
   ]
  },
  {
   "cell_type": "code",
   "execution_count": null,
   "metadata": {},
   "outputs": [],
   "source": [
    "my_plot = app_data[\"AMT_INCOME_TOTAL\"].hist(bins=20)"
   ]
  },
  {
   "cell_type": "code",
   "execution_count": null,
   "metadata": {},
   "outputs": [],
   "source": [
    "# set up range(tuple or None, optional)\n",
    "my_plot = app_data[\"AMT_INCOME_TOTAL\"].hist(range=(0,750000), bins=20)"
   ]
  },
  {
   "cell_type": "code",
   "execution_count": null,
   "metadata": {},
   "outputs": [],
   "source": []
  }
 ],
 "metadata": {
  "anaconda-cloud": {},
  "kernelspec": {
   "display_name": "Python 3",
   "language": "python",
   "name": "python3"
  },
  "language_info": {
   "codemirror_mode": {
    "name": "ipython",
    "version": 3
   },
   "file_extension": ".py",
   "mimetype": "text/x-python",
   "name": "python",
   "nbconvert_exporter": "python",
   "pygments_lexer": "ipython3",
   "version": "3.7.0"
  }
 },
 "nbformat": 4,
 "nbformat_minor": 1
}
