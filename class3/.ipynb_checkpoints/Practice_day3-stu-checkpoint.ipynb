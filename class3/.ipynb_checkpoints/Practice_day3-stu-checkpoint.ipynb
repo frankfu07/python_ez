{
 "cells": [
  {
   "cell_type": "code",
   "execution_count": 1,
   "metadata": {},
   "outputs": [],
   "source": [
    "#1. Create the compute_monthly_interest function to return the monthly interest on a balance\n",
    "# at a give annual interest rate:\n",
    "def compute_monthly_interest(balance,annual_interest):\n",
    "    '''\n",
    "    Compute the monthly interest, based on a\n",
    "    balance and an annual interest rate\n",
    "    \n",
    "    Arguments:\n",
    "    balance: The balance of an account.\n",
    "    annual_interest: The annual interest rate as a percent (e.g. 29.99)\n",
    "    \n",
    "    Returns:\n",
    "    interest: The amount of monthly interest owed on the\n",
    "        balance, based on the annual interest rate\n",
    "    '''\n",
    " "
   ]
  },
  {
   "cell_type": "code",
   "execution_count": 2,
   "metadata": {},
   "outputs": [
    {
     "data": {
      "text/plain": [
       "241.66666666666666"
      ]
     },
     "execution_count": 2,
     "metadata": {},
     "output_type": "execute_result"
    }
   ],
   "source": [
    "compute_monthly_interest(10000,29)"
   ]
  },
  {
   "cell_type": "code",
   "execution_count": 15,
   "metadata": {},
   "outputs": [],
   "source": [
    "#2. Create the create_lambda function to return a lambda function that accepts a slope, intercept, \n",
    "# and x-value (in that order), and computes the corresponding y-value for a line:\n",
    "def create_lambda():\n",
    "    '''\n",
    "    Return a lambda function that takes in a\n",
    "    slope, intercept, and x-value (in that order),\n",
    "    and computes the corresponding y-value for the line.\n",
    "    \n",
    "    Arguments:\n",
    "    None\n",
    "    \n",
    "    Returns:\n",
    "    lambda_line_compute: the lambda.\n",
    "    \n",
    "    Note:\n",
    "    You can access this function using create_lambda()(slope,intercept,xval)\n",
    "    '''\n",
    "    "
   ]
  },
  {
   "cell_type": "code",
   "execution_count": 14,
   "metadata": {},
   "outputs": [
    {
     "data": {
      "text/plain": [
       "208"
      ]
     },
     "execution_count": 14,
     "metadata": {},
     "output_type": "execute_result"
    }
   ],
   "source": [
    "create_lambda()(2,8,100)"
   ]
  },
  {
   "cell_type": "code",
   "execution_count": 16,
   "metadata": {},
   "outputs": [],
   "source": [
    "#3. Edit the create_array function to return a numpy array that meets the requirements noted in the docstring.\n",
    "\n",
    "import numpy as np\n",
    "\n",
    "def create_array():\n",
    "    '''\n",
    "    Create and return a numpy array that meets the\n",
    "    following criteria:\n",
    "    1. Is one-dimensional.\n",
    "    2. Starts from zero, and contains every third number\n",
    "        (i.e. 0, 3, 6, 9...).\n",
    "    3. Ends with 1101.\n",
    "    4. Is an array of integers.\n",
    "    Arguments:\n",
    "    None\n",
    "    Returns:\n",
    "    output_array: An array meeting the specifications in this\n",
    "        docstring.\n",
    "    '''\n",
    "\n",
    "   "
   ]
  },
  {
   "cell_type": "code",
   "execution_count": 18,
   "metadata": {},
   "outputs": [
    {
     "data": {
      "text/plain": [
       "array([   0,    3,    6,    9,   12,   15,   18,   21,   24,   27,   30,\n",
       "         33,   36,   39,   42,   45,   48,   51,   54,   57,   60,   63,\n",
       "         66,   69,   72,   75,   78,   81,   84,   87,   90,   93,   96,\n",
       "         99,  102,  105,  108,  111,  114,  117,  120,  123,  126,  129,\n",
       "        132,  135,  138,  141,  144,  147,  150,  153,  156,  159,  162,\n",
       "        165,  168,  171,  174,  177,  180,  183,  186,  189,  192,  195,\n",
       "        198,  201,  204,  207,  210,  213,  216,  219,  222,  225,  228,\n",
       "        231,  234,  237,  240,  243,  246,  249,  252,  255,  258,  261,\n",
       "        264,  267,  270,  273,  276,  279,  282,  285,  288,  291,  294,\n",
       "        297,  300,  303,  306,  309,  312,  315,  318,  321,  324,  327,\n",
       "        330,  333,  336,  339,  342,  345,  348,  351,  354,  357,  360,\n",
       "        363,  366,  369,  372,  375,  378,  381,  384,  387,  390,  393,\n",
       "        396,  399,  402,  405,  408,  411,  414,  417,  420,  423,  426,\n",
       "        429,  432,  435,  438,  441,  444,  447,  450,  453,  456,  459,\n",
       "        462,  465,  468,  471,  474,  477,  480,  483,  486,  489,  492,\n",
       "        495,  498,  501,  504,  507,  510,  513,  516,  519,  522,  525,\n",
       "        528,  531,  534,  537,  540,  543,  546,  549,  552,  555,  558,\n",
       "        561,  564,  567,  570,  573,  576,  579,  582,  585,  588,  591,\n",
       "        594,  597,  600,  603,  606,  609,  612,  615,  618,  621,  624,\n",
       "        627,  630,  633,  636,  639,  642,  645,  648,  651,  654,  657,\n",
       "        660,  663,  666,  669,  672,  675,  678,  681,  684,  687,  690,\n",
       "        693,  696,  699,  702,  705,  708,  711,  714,  717,  720,  723,\n",
       "        726,  729,  732,  735,  738,  741,  744,  747,  750,  753,  756,\n",
       "        759,  762,  765,  768,  771,  774,  777,  780,  783,  786,  789,\n",
       "        792,  795,  798,  801,  804,  807,  810,  813,  816,  819,  822,\n",
       "        825,  828,  831,  834,  837,  840,  843,  846,  849,  852,  855,\n",
       "        858,  861,  864,  867,  870,  873,  876,  879,  882,  885,  888,\n",
       "        891,  894,  897,  900,  903,  906,  909,  912,  915,  918,  921,\n",
       "        924,  927,  930,  933,  936,  939,  942,  945,  948,  951,  954,\n",
       "        957,  960,  963,  966,  969,  972,  975,  978,  981,  984,  987,\n",
       "        990,  993,  996,  999, 1002, 1005, 1008, 1011, 1014, 1017, 1020,\n",
       "       1023, 1026, 1029, 1032, 1035, 1038, 1041, 1044, 1047, 1050, 1053,\n",
       "       1056, 1059, 1062, 1065, 1068, 1071, 1074, 1077, 1080, 1083, 1086,\n",
       "       1089, 1092, 1095, 1098, 1101])"
      ]
     },
     "execution_count": 18,
     "metadata": {},
     "output_type": "execute_result"
    }
   ],
   "source": [
    "a=create_array()\n",
    "a"
   ]
  },
  {
   "cell_type": "code",
   "execution_count": 19,
   "metadata": {},
   "outputs": [],
   "source": [
    "#4. Edit the compute_avg_length function to return the average length of the dimensions of an input array.\n",
    "def compute_avg_length(input_array):\n",
    "    '''\n",
    "    For any given numpy array, compute the average number\n",
    "    of elements along each axis. For example, if a 2D array\n",
    "    has a shape of (12,4), then the average number of elements\n",
    "    would be 8. If a 3D array has a shape of (12,4,14), then the\n",
    "    average number of elements would be 10.\n",
    "    Arguments:\n",
    "    input_array: The numpy array to get the average number of\n",
    "        elements of.\n",
    "    Returns:\n",
    "    avg_length: The average number of elements along each axis.\n",
    "    '''\n",
    "    "
   ]
  },
  {
   "cell_type": "code",
   "execution_count": 20,
   "metadata": {},
   "outputs": [
    {
     "data": {
      "text/plain": [
       "20.0"
      ]
     },
     "execution_count": 20,
     "metadata": {},
     "output_type": "execute_result"
    }
   ],
   "source": [
    "compute_avg_length(np.arange(20))"
   ]
  }
 ],
 "metadata": {
  "kernelspec": {
   "display_name": "Python 3",
   "language": "python",
   "name": "python3"
  },
  "language_info": {
   "codemirror_mode": {
    "name": "ipython",
    "version": 3
   },
   "file_extension": ".py",
   "mimetype": "text/x-python",
   "name": "python",
   "nbconvert_exporter": "python",
   "pygments_lexer": "ipython3",
   "version": "3.6.5"
  }
 },
 "nbformat": 4,
 "nbformat_minor": 2
}
