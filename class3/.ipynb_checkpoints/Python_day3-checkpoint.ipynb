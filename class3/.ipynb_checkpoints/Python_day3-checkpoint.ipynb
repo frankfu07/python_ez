{
 "cells": [
  {
   "cell_type": "markdown",
   "metadata": {},
   "source": [
    "# Python Functions\n",
    "\n",
    "Functions address two needs:\n",
    "\n",
    "- Complexity. A good function is a tidy chunk that we can refer to by name without getting bogged down in the details. We can design, develop, and debug separate functions far more easily than big balls of mud.\n",
    "\n",
    "- Reuse\n",
    "\n",
    "A Python function is a construct which takes in input (commonly called the “arguments” to the function), runs some code, and produces a result.\n",
    "\n",
    "We’ve seen built-in Python functions several times before in this course – print(), input(), and help() are all functions.\n",
    "\n",
    "Now let's create your owner function"
   ]
  },
  {
   "cell_type": "code",
   "execution_count": 2,
   "metadata": {},
   "outputs": [],
   "source": [
    "#define a funcion:\n",
    "def first_function(name):\n",
    "    print(\"Hello, {0}\".format(name))\n"
   ]
  },
  {
   "cell_type": "code",
   "execution_count": 3,
   "metadata": {},
   "outputs": [
    {
     "name": "stdout",
     "output_type": "stream",
     "text": [
      "Hello, ABC\n"
     ]
    }
   ],
   "source": [
    "#use the function:\n",
    "first_function('ABC')"
   ]
  },
  {
   "cell_type": "code",
   "execution_count": 4,
   "metadata": {},
   "outputs": [],
   "source": [
    "def print_all_the_names(name_list):\n",
    "    for i in name_list:\n",
    "        print(i)"
   ]
  },
  {
   "cell_type": "code",
   "execution_count": 4,
   "metadata": {},
   "outputs": [
    {
     "name": "stdout",
     "output_type": "stream",
     "text": [
      "jack\n",
      "jason\n",
      "kate\n",
      "mike\n"
     ]
    }
   ],
   "source": [
    "print_all_the_names(['jack','jason','kate','mike'])"
   ]
  },
  {
   "cell_type": "markdown",
   "metadata": {},
   "source": [
    "you can also make a function provide an output, using the **Return** statement:"
   ]
  },
  {
   "cell_type": "code",
   "execution_count": 13,
   "metadata": {},
   "outputs": [],
   "source": [
    "def sum_function(number_list):\n",
    "    running_total = 0\n",
    "    for number in number_list:\n",
    "        running_total  = running_total + number\n",
    "    return running_total"
   ]
  },
  {
   "cell_type": "code",
   "execution_count": 14,
   "metadata": {},
   "outputs": [
    {
     "data": {
      "text/plain": [
       "168"
      ]
     },
     "execution_count": 14,
     "metadata": {},
     "output_type": "execute_result"
    }
   ],
   "source": [
    "sum_function([1,3,4,6,9,0,2,66,77])"
   ]
  },
  {
   "cell_type": "code",
   "execution_count": 9,
   "metadata": {},
   "outputs": [],
   "source": [
    "#You can return multiple things from one function:\n",
    "def sum_avg_function(number_list):\n",
    "    running_total = 0\n",
    "    for number in number_list:\n",
    "        running_total = running_total + number\n",
    "    avg= float(running_total)/len(number_list)\n",
    "    return running_total,avg"
   ]
  },
  {
   "cell_type": "code",
   "execution_count": 10,
   "metadata": {},
   "outputs": [
    {
     "data": {
      "text/plain": [
       "(168, 18.666666666666668)"
      ]
     },
     "execution_count": 10,
     "metadata": {},
     "output_type": "execute_result"
    }
   ],
   "source": [
    "sum_avg_function([1,3,4,6,9,0,2,66,77])  #the returned values are in a tuple object."
   ]
  },
  {
   "cell_type": "markdown",
   "metadata": {},
   "source": [
    "Three ways to end the processing of a function:\n",
    "\n",
    "- A return expression statement. The value of the expression is the result of the function.\n",
    "- An empty return statement. The function processing is done. There’s no explicitly returned value. The special object None will be the result. The print() function works this way.\n",
    "- The end of the indented block inside the def statement. This is equivalent to a return statement with no expression.\n"
   ]
  },
  {
   "cell_type": "code",
   "execution_count": 15,
   "metadata": {},
   "outputs": [],
   "source": [
    "def sum_function(number_list):\n",
    "    running_total = 0\n",
    "    for number in number_list:\n",
    "        running_total  = running_total + number\n",
    "    return running_total # A return expression statement."
   ]
  },
  {
   "cell_type": "code",
   "execution_count": 16,
   "metadata": {},
   "outputs": [],
   "source": [
    "a=sum_function([1,3,4,6,9,0,2,66,77])"
   ]
  },
  {
   "cell_type": "code",
   "execution_count": 18,
   "metadata": {},
   "outputs": [
    {
     "data": {
      "text/plain": [
       "168"
      ]
     },
     "execution_count": 18,
     "metadata": {},
     "output_type": "execute_result"
    }
   ],
   "source": [
    "a is None"
   ]
  },
  {
   "cell_type": "code",
   "execution_count": 19,
   "metadata": {},
   "outputs": [],
   "source": [
    "def sum_function(number_list):\n",
    "    running_total = 0\n",
    "    for number in number_list:\n",
    "        running_total  = running_total + number\n",
    "    return "
   ]
  },
  {
   "cell_type": "code",
   "execution_count": 24,
   "metadata": {},
   "outputs": [],
   "source": [
    "a=sum_function([1,3,4,6,9,0,2,66,77])"
   ]
  },
  {
   "cell_type": "code",
   "execution_count": 21,
   "metadata": {},
   "outputs": [
    {
     "data": {
      "text/plain": [
       "True"
      ]
     },
     "execution_count": 21,
     "metadata": {},
     "output_type": "execute_result"
    }
   ],
   "source": [
    "a is None"
   ]
  },
  {
   "cell_type": "code",
   "execution_count": 28,
   "metadata": {},
   "outputs": [],
   "source": [
    "def sum_function(number_list):\n",
    "    running_total = 0\n",
    "    for number in number_list:\n",
    "        running_total  = running_total + number\n",
    "    print(running_total)"
   ]
  },
  {
   "cell_type": "code",
   "execution_count": 30,
   "metadata": {},
   "outputs": [
    {
     "name": "stdout",
     "output_type": "stream",
     "text": [
      "168\n"
     ]
    }
   ],
   "source": [
    "a=sum_function([1,3,4,6,9,0,2,66,77])"
   ]
  },
  {
   "cell_type": "code",
   "execution_count": 32,
   "metadata": {},
   "outputs": [],
   "source": [
    "a"
   ]
  },
  {
   "cell_type": "markdown",
   "metadata": {},
   "source": [
    "Functions can take an arbitrary number of parameters (including no parameters at all). Here’s a typical function with three parameters."
   ]
  },
  {
   "cell_type": "code",
   "execution_count": 35,
   "metadata": {},
   "outputs": [],
   "source": [
    "def print_customer_info(id, user, income):\n",
    "    print(\"Customer {0}: name is {1}, has ${2} income\".format(id, user, income))"
   ]
  },
  {
   "cell_type": "code",
   "execution_count": 36,
   "metadata": {},
   "outputs": [
    {
     "name": "stdout",
     "output_type": "stream",
     "text": [
      "Customer 2223: name is Steve, has $2000 income\n"
     ]
    }
   ],
   "source": [
    "print_customer_info(2223,\"Steve\", 2000)"
   ]
  },
  {
   "cell_type": "markdown",
   "metadata": {},
   "source": [
    "We can provide concrete argument values to this function a number of different ways.\n",
    "\n",
    "- By position\n",
    "- By paramter name\n",
    "- A mixture of the two"
   ]
  },
  {
   "cell_type": "markdown",
   "metadata": {},
   "source": [
    "The most common way to provide values to functions is via positional parameters. But when we get a larger number of parameters, or the ordering of the parameters isn’t obvious, we often want to provide the argument values using a the parameter name as a keyword\n",
    "\n",
    "When we assign arguments via their keywords, we can provide the arguments in any order.\n",
    "\n",
    "If we want, we can mix positional and keyword argument values. We must **provide the positional arguments first,** and they will be matched against the defined parameters in order. After the positional parameters, we can provide keywords"
   ]
  },
  {
   "cell_type": "code",
   "execution_count": 69,
   "metadata": {},
   "outputs": [
    {
     "name": "stdout",
     "output_type": "stream",
     "text": [
      "Customer 222: name is Steve, has $2000 income\n"
     ]
    }
   ],
   "source": [
    "print_customer_info(222#positional\n",
    "                    ,user=\"Steve\", income=2000)"
   ]
  },
  {
   "cell_type": "markdown",
   "metadata": {},
   "source": [
    "Python supports the use of optional parameters by allowing us to provide default values.\n",
    "\n",
    "**The default values for a parameter are denoted by an equals sign.** In this example, we provided a default value of each of the three parameters.\n",
    "\n",
    "When there’s a default value for a parameter, it means that an argument value is not required. The value given to each keyword argument in the function definition is a default value that is used if an actual argument value isn’t specified when the function is called."
   ]
  },
  {
   "cell_type": "code",
   "execution_count": 38,
   "metadata": {},
   "outputs": [],
   "source": [
    "def print_customer_info(id=111, user='ABC', income=1000):\n",
    "    print(\"Customer {0}: name is {1}, has ${2} income\".format(id, user, income))"
   ]
  },
  {
   "cell_type": "code",
   "execution_count": 40,
   "metadata": {},
   "outputs": [
    {
     "name": "stdout",
     "output_type": "stream",
     "text": [
      "Customer 111: name is ABC, has $2000 income\n"
     ]
    }
   ],
   "source": [
    "print_customer_info(income=2000)"
   ]
  },
  {
   "cell_type": "markdown",
   "metadata": {},
   "source": [
    "**Mandatory and optional parameters can be used in the same function,** but all mandatory parameters must come before any optional parameters"
   ]
  },
  {
   "cell_type": "code",
   "execution_count": 74,
   "metadata": {},
   "outputs": [],
   "source": [
    "def print_customer_info2(id, user='ABC', income=1000):\n",
    "    print(\"Customer {0}: name is {1}, has ${2} income\".format(id, user, income))"
   ]
  },
  {
   "cell_type": "code",
   "execution_count": 76,
   "metadata": {},
   "outputs": [
    {
     "name": "stdout",
     "output_type": "stream",
     "text": [
      "Customer 999: name is ABC, has $2000 income\n"
     ]
    }
   ],
   "source": [
    "print_customer_info2(id=999,income=2000)"
   ]
  },
  {
   "cell_type": "markdown",
   "metadata": {},
   "source": [
    "Another benefit of defining functions is that each function has its own scope. Broadly this means that **a variable defined inside a function, stays inside that function**\n",
    "\n",
    "This is hugely important because you’ll often define a function far away from the code that calls it (either somewhere else in the script, or even in another file entirely), and scoping ensures that you don’t have to worry about what variable names you choose"
   ]
  },
  {
   "cell_type": "code",
   "execution_count": 77,
   "metadata": {},
   "outputs": [],
   "source": [
    "def change_name():\n",
    "    name = \"Leo Li\"\n",
    "    print(name)"
   ]
  },
  {
   "cell_type": "code",
   "execution_count": 79,
   "metadata": {},
   "outputs": [
    {
     "name": "stdout",
     "output_type": "stream",
     "text": [
      "Ken\n"
     ]
    }
   ],
   "source": [
    "name = \"Ken\"\n",
    "print(name)"
   ]
  },
  {
   "cell_type": "code",
   "execution_count": 80,
   "metadata": {},
   "outputs": [
    {
     "name": "stdout",
     "output_type": "stream",
     "text": [
      "Leo Li\n"
     ]
    }
   ],
   "source": [
    "change_name()"
   ]
  },
  {
   "cell_type": "code",
   "execution_count": 81,
   "metadata": {},
   "outputs": [
    {
     "name": "stdout",
     "output_type": "stream",
     "text": [
      "Ken\n"
     ]
    }
   ],
   "source": [
    "print(name)"
   ]
  },
  {
   "cell_type": "markdown",
   "metadata": {},
   "source": [
    "## Lambda\n",
    "\n",
    "You can make a Lambda object instead of a function to do something pretty simple – something that’s essentially just an expression, not even a full line of code."
   ]
  },
  {
   "cell_type": "code",
   "execution_count": 82,
   "metadata": {},
   "outputs": [],
   "source": [
    "def math(x, y):\n",
    "    return x*y+x/y"
   ]
  },
  {
   "cell_type": "code",
   "execution_count": 83,
   "metadata": {},
   "outputs": [],
   "source": [
    "math_lambda = lambda x,y: x*y+x/y"
   ]
  },
  {
   "cell_type": "code",
   "execution_count": 84,
   "metadata": {},
   "outputs": [
    {
     "data": {
      "text/plain": [
       "26.666666666666668"
      ]
     },
     "execution_count": 84,
     "metadata": {},
     "output_type": "execute_result"
    }
   ],
   "source": [
    "math_lambda(8,3)"
   ]
  },
  {
   "cell_type": "markdown",
   "metadata": {},
   "source": [
    "The lambda object, lambda x,y: x*y+x/y is assigned to a variable named math_lambda. \n",
    "\n",
    "**A lambda object is effectively a function.** It’s a very small function with a body that’s no more complex than a single expression."
   ]
  },
  {
   "cell_type": "markdown",
   "metadata": {},
   "source": [
    "Notice the transformation from full function definition to lambda\n",
    "\n",
    "def name( args ): \n",
    "    return expression\n",
    "\n",
    "--> transformation-->\n",
    "\n",
    "lambda args: expression"
   ]
  },
  {
   "cell_type": "code",
   "execution_count": 85,
   "metadata": {},
   "outputs": [
    {
     "name": "stdout",
     "output_type": "stream",
     "text": [
      "[('BC', 99), ('ON', 12), ('QC', 36)]\n"
     ]
    }
   ],
   "source": [
    "data = [('ON', 12), ('QC', 36), ('BC', 99)]\n",
    "data.sort()\n",
    "print(data)"
   ]
  },
  {
   "cell_type": "code",
   "execution_count": 41,
   "metadata": {},
   "outputs": [
    {
     "name": "stdout",
     "output_type": "stream",
     "text": [
      "[('QC', 36), ('BC', 99), ('ON', 112)]\n"
     ]
    }
   ],
   "source": [
    "data = [('ON', 112), ('QC', 36), ('BC', 99)]\n",
    "data.sort(key=lambda item: item[1])\n",
    "print(data)"
   ]
  },
  {
   "cell_type": "markdown",
   "metadata": {},
   "source": [
    "The first example sorts a list using default comparison rules. This puts the items in order using the first item of each tuple.\n",
    "\n",
    "The second example sorts the list using a key function. The key function is a lambda object, lambda item: item[1]. This object has a very simple expression to pick the second item of each tuple for comparison."
   ]
  },
  {
   "cell_type": "markdown",
   "metadata": {},
   "source": [
    "To make your programs easier for others to understand, Python functions support explanatory text called **docstrings**, which you should almost always use:"
   ]
  },
  {
   "cell_type": "code",
   "execution_count": 44,
   "metadata": {},
   "outputs": [],
   "source": [
    "def docstring():\n",
    "    '''This is a docstring.\n",
    "    It describes what the function does.\n",
    "\n",
    "    Arguments:\n",
    "    None\n",
    "\n",
    "    Returns:\n",
    "    None\n",
    "    '''\n",
    "    return None"
   ]
  },
  {
   "cell_type": "markdown",
   "metadata": {},
   "source": [
    "Note that the docstring is a multiline string, denoted by three quotes '''. Note also that the docstring of a function is actually what **help()** displays, so by writing good docstrings you automatically make them accessible through the interpreter! You’ll see more examples of docstrings in the exercises for this section and in future sections – indeed, most of the exercises will have you coding functions from now on."
   ]
  },
  {
   "cell_type": "code",
   "execution_count": 45,
   "metadata": {},
   "outputs": [
    {
     "name": "stdout",
     "output_type": "stream",
     "text": [
      "Help on function docstring in module __main__:\n",
      "\n",
      "docstring()\n",
      "    This is a docstring.\n",
      "    It describes what the function does.\n",
      "    \n",
      "    Arguments:\n",
      "    None\n",
      "    \n",
      "    Returns:\n",
      "    None\n",
      "\n"
     ]
    }
   ],
   "source": [
    "help(docstring)"
   ]
  },
  {
   "cell_type": "markdown",
   "metadata": {},
   "source": [
    "**General guidelines for how to use functions:**\n",
    "\n",
    "- A function should do one thing and one thing only\n",
    "\n",
    "- A function should have fewer than ~20 lines of code\n",
    "\n",
    "- Most (if not all) of your program should be contained inside functions. This helps to increase the portability of your code"
   ]
  },
  {
   "cell_type": "code",
   "execution_count": 49,
   "metadata": {},
   "outputs": [],
   "source": [
    "def change_name():\n",
    "    \"\"\"this function is used to print name\n",
    "    \n",
    "    Arguments:\n",
    "    None\n",
    "    \n",
    "    Return:\n",
    "    None\n",
    "    \"\"\"\n",
    "    name = \"Leo Li\"\n",
    "    print(name)"
   ]
  },
  {
   "cell_type": "code",
   "execution_count": 50,
   "metadata": {},
   "outputs": [
    {
     "name": "stdout",
     "output_type": "stream",
     "text": [
      "Help on function change_name in module __main__:\n",
      "\n",
      "change_name()\n",
      "    this function is used to print name\n",
      "    \n",
      "    Arguments:\n",
      "    None\n",
      "    \n",
      "    Return:\n",
      "    None\n",
      "\n"
     ]
    }
   ],
   "source": [
    "help(change_name)"
   ]
  },
  {
   "cell_type": "markdown",
   "metadata": {},
   "source": [
    "## Use Packages - Numpy\n",
    "\n",
    "Numpy is an open-source, third party Python package. Its chief innovation is the implementation of the ndarray, a multidimensional array object (also simply called ‘Numpy arrays’). \n",
    "\n",
    "There are three really big advantages to using Numpy arrays:\n",
    "\n",
    "- They’re much easier to manage than lists when you need a 2+ dimensional array. For example, if you have a 2D Numpy array all the rows will have the same number of elements and all columns must have the same number of rows. Lists don’t guarantee this.\n",
    "- A Numpy array will hold data of a single type. This makes it much easier to predict the kind of data you’ll be analyzing. A list can’t guarantee this.\n",
    "- The underlying code provides very high computational speed when Numpy arrays are used properly."
   ]
  },
  {
   "cell_type": "code",
   "execution_count": 93,
   "metadata": {},
   "outputs": [],
   "source": [
    "#load Numpy\n",
    "import numpy as np\n",
    "# The as np bit defines an alias, which is a shorthand way of referencing the package\n",
    "# Some frequently used packages have standard aliases: np is the one for Numpy."
   ]
  },
  {
   "cell_type": "code",
   "execution_count": 95,
   "metadata": {},
   "outputs": [],
   "source": [
    "#create a Numpy array:\n",
    "np_array = np.array([1.,2.,3.])"
   ]
  },
  {
   "cell_type": "code",
   "execution_count": 96,
   "metadata": {},
   "outputs": [
    {
     "name": "stdout",
     "output_type": "stream",
     "text": [
      "[1. 2. 3.]\n"
     ]
    }
   ],
   "source": [
    "print(np_array)"
   ]
  },
  {
   "cell_type": "code",
   "execution_count": null,
   "metadata": {},
   "outputs": [],
   "source": [
    "print(type(np_array))\n",
    "# You can see that np_array is now a numpy.ndarray object, just as we wanted!"
   ]
  },
  {
   "cell_type": "markdown",
   "metadata": {},
   "source": [
    "A few other common ways to create Numpy arrays:"
   ]
  },
  {
   "cell_type": "code",
   "execution_count": 101,
   "metadata": {},
   "outputs": [
    {
     "data": {
      "text/plain": [
       "array([1, 2, 3, 4, 5, 6, 7, 8, 9])"
      ]
     },
     "execution_count": 101,
     "metadata": {},
     "output_type": "execute_result"
    }
   ],
   "source": [
    "range_array = np.arange(1,10)  # uniform range\n",
    "range_array"
   ]
  },
  {
   "cell_type": "code",
   "execution_count": 106,
   "metadata": {},
   "outputs": [
    {
     "data": {
      "text/plain": [
       "array([1., 2., 3., 4., 5., 6., 7., 8., 9.])"
      ]
     },
     "execution_count": 106,
     "metadata": {},
     "output_type": "execute_result"
    }
   ],
   "source": [
    "linspace_array = np.linspace(1,9,9)  # another uniform range\n",
    "linspace_array\n",
    "#numpy.linspace(start, stop, num=50, endpoint=True, retstep=False, dtype=None, axis=0)\n",
    "# Return evenly spaced numbers over a specified interval."
   ]
  },
  {
   "cell_type": "code",
   "execution_count": 103,
   "metadata": {},
   "outputs": [
    {
     "data": {
      "text/plain": [
       "array([0., 0., 0., 0., 0.])"
      ]
     },
     "execution_count": 103,
     "metadata": {},
     "output_type": "execute_result"
    }
   ],
   "source": [
    "zero_array = np.zeros(5)  # an array of zeros\n",
    "zero_array"
   ]
  },
  {
   "cell_type": "code",
   "execution_count": 107,
   "metadata": {},
   "outputs": [
    {
     "data": {
      "text/plain": [
       "array([1., 1., 1., 1., 1.])"
      ]
     },
     "execution_count": 107,
     "metadata": {},
     "output_type": "execute_result"
    }
   ],
   "source": [
    "one_array = np.ones(5)  # an array of ones\n",
    "one_array"
   ]
  },
  {
   "cell_type": "markdown",
   "metadata": {},
   "source": [
    "Two dimensional arrays:"
   ]
  },
  {
   "cell_type": "code",
   "execution_count": 110,
   "metadata": {},
   "outputs": [
    {
     "data": {
      "text/plain": [
       "array([[1, 2, 3],\n",
       "       [4, 5, 6]])"
      ]
     },
     "execution_count": 110,
     "metadata": {},
     "output_type": "execute_result"
    }
   ],
   "source": [
    "twod_array_fromlist = np.array([[1, 2, 3], [4, 5, 6]])\n",
    "twod_array_fromlist"
   ]
  },
  {
   "cell_type": "code",
   "execution_count": 111,
   "metadata": {},
   "outputs": [
    {
     "data": {
      "text/plain": [
       "array([[0., 0., 0., 0., 0.],\n",
       "       [0., 0., 0., 0., 0.],\n",
       "       [0., 0., 0., 0., 0.],\n",
       "       [0., 0., 0., 0., 0.],\n",
       "       [0., 0., 0., 0., 0.]])"
      ]
     },
     "execution_count": 111,
     "metadata": {},
     "output_type": "execute_result"
    }
   ],
   "source": [
    "twod_array_zeros = np.zeros((5, 5))\n",
    "twod_array_zeros"
   ]
  },
  {
   "cell_type": "markdown",
   "metadata": {},
   "source": [
    "Note that numpy arrays are implicitly in “row-major order”. The structure is a list of rows. Within each row is a list of column values.\n",
    "\n",
    "You can also reshape an existing array:"
   ]
  },
  {
   "cell_type": "code",
   "execution_count": 117,
   "metadata": {},
   "outputs": [
    {
     "data": {
      "text/plain": [
       "array([[1, 2],\n",
       "       [3, 4],\n",
       "       [5, 6]])"
      ]
     },
     "execution_count": 117,
     "metadata": {},
     "output_type": "execute_result"
    }
   ],
   "source": [
    "twod_array_fromlist.reshape(3,2)"
   ]
  },
  {
   "cell_type": "code",
   "execution_count": 120,
   "metadata": {},
   "outputs": [
    {
     "data": {
      "text/plain": [
       "array([ 0,  1,  2,  3,  4,  5,  6,  7,  8,  9, 10, 11, 12, 13, 14, 15, 16,\n",
       "       17, 18, 19, 20, 21, 22, 23, 24])"
      ]
     },
     "execution_count": 120,
     "metadata": {},
     "output_type": "execute_result"
    }
   ],
   "source": [
    "five_x_five = np.arange(25)\n",
    "five_x_five"
   ]
  },
  {
   "cell_type": "code",
   "execution_count": 121,
   "metadata": {},
   "outputs": [
    {
     "data": {
      "text/plain": [
       "array([[ 0,  1,  2,  3,  4],\n",
       "       [ 5,  6,  7,  8,  9],\n",
       "       [10, 11, 12, 13, 14],\n",
       "       [15, 16, 17, 18, 19],\n",
       "       [20, 21, 22, 23, 24]])"
      ]
     },
     "execution_count": 121,
     "metadata": {},
     "output_type": "execute_result"
    }
   ],
   "source": [
    "five_x_five.reshape(5,5)\n",
    "#The reshape(5, 5) turns a 25-element 1D array into a 2D array."
   ]
  },
  {
   "cell_type": "markdown",
   "metadata": {},
   "source": [
    "Some other useful attributes of numpy arrays:"
   ]
  },
  {
   "cell_type": "code",
   "execution_count": 122,
   "metadata": {},
   "outputs": [
    {
     "name": "stdout",
     "output_type": "stream",
     "text": [
      "[[0 1]\n",
      " [2 3]\n",
      " [4 5]\n",
      " [6 7]\n",
      " [8 9]]\n"
     ]
    }
   ],
   "source": [
    "test_array = np.arange(10).reshape(5,2)\n",
    "print(test_array)"
   ]
  },
  {
   "cell_type": "code",
   "execution_count": 123,
   "metadata": {},
   "outputs": [
    {
     "name": "stdout",
     "output_type": "stream",
     "text": [
      "2\n"
     ]
    }
   ],
   "source": [
    "print(test_array.ndim)"
   ]
  },
  {
   "cell_type": "code",
   "execution_count": 124,
   "metadata": {},
   "outputs": [
    {
     "name": "stdout",
     "output_type": "stream",
     "text": [
      "(5, 2)\n"
     ]
    }
   ],
   "source": [
    "print(test_array.shape)"
   ]
  },
  {
   "cell_type": "code",
   "execution_count": 125,
   "metadata": {},
   "outputs": [
    {
     "name": "stdout",
     "output_type": "stream",
     "text": [
      "10\n"
     ]
    }
   ],
   "source": [
    "print(test_array.size)"
   ]
  },
  {
   "cell_type": "code",
   "execution_count": 126,
   "metadata": {},
   "outputs": [
    {
     "name": "stdout",
     "output_type": "stream",
     "text": [
      "int64\n"
     ]
    }
   ],
   "source": [
    "print(test_array.dtype)"
   ]
  },
  {
   "cell_type": "markdown",
   "metadata": {},
   "source": [
    "The value of ndim attribute is the number of dimensions. This is also the length of the shape attribute. The size attribute is the product of the shape. The underlying data type is a 64-bit integer."
   ]
  },
  {
   "cell_type": "markdown",
   "metadata": {},
   "source": [
    "**Indexing and Slicing for Numpy array:**\n",
    "\n",
    "Indexing and slicing Numpy arrays works almost exactly the same as for other iterables:"
   ]
  },
  {
   "cell_type": "code",
   "execution_count": 127,
   "metadata": {},
   "outputs": [
    {
     "name": "stdout",
     "output_type": "stream",
     "text": [
      "[ 0  1  2  3  4  5  6  7  8  9 10 11 12 13 14 15 16 17 18 19]\n"
     ]
    }
   ],
   "source": [
    "test_array = np.arange(20)\n",
    "print(test_array)"
   ]
  },
  {
   "cell_type": "code",
   "execution_count": 128,
   "metadata": {},
   "outputs": [
    {
     "name": "stdout",
     "output_type": "stream",
     "text": [
      "5\n"
     ]
    }
   ],
   "source": [
    "print(test_array[5])"
   ]
  },
  {
   "cell_type": "code",
   "execution_count": 129,
   "metadata": {},
   "outputs": [
    {
     "name": "stdout",
     "output_type": "stream",
     "text": [
      "19\n"
     ]
    }
   ],
   "source": [
    "print(test_array[-1])"
   ]
  },
  {
   "cell_type": "code",
   "execution_count": 130,
   "metadata": {},
   "outputs": [
    {
     "name": "stdout",
     "output_type": "stream",
     "text": [
      "[3 4 5]\n"
     ]
    }
   ],
   "source": [
    "print(test_array[3:6]) #half-open end"
   ]
  },
  {
   "cell_type": "code",
   "execution_count": 131,
   "metadata": {},
   "outputs": [
    {
     "name": "stdout",
     "output_type": "stream",
     "text": [
      "[ 3  5  7  9 11 13 15 17 19]\n"
     ]
    }
   ],
   "source": [
    "print(test_array[3::2])"
   ]
  },
  {
   "cell_type": "markdown",
   "metadata": {},
   "source": [
    "We can also slice and dice a multidimensional array:"
   ]
  },
  {
   "cell_type": "code",
   "execution_count": 146,
   "metadata": {},
   "outputs": [
    {
     "data": {
      "text/plain": [
       "array([[1, 2, 3],\n",
       "       [4, 5, 6]])"
      ]
     },
     "execution_count": 146,
     "metadata": {},
     "output_type": "execute_result"
    }
   ],
   "source": [
    "list_of_lists = [ [1,2,3], [4, 5, 6] ]\n",
    "array_of_lists = np.array(list_of_lists)\n",
    "array_of_lists"
   ]
  },
  {
   "cell_type": "code",
   "execution_count": 148,
   "metadata": {},
   "outputs": [
    {
     "name": "stdout",
     "output_type": "stream",
     "text": [
      "6\n"
     ]
    }
   ],
   "source": [
    "print(list_of_lists[1][2]) # the third element in the second list"
   ]
  },
  {
   "cell_type": "code",
   "execution_count": 149,
   "metadata": {},
   "outputs": [
    {
     "name": "stdout",
     "output_type": "stream",
     "text": [
      "6\n"
     ]
    }
   ],
   "source": [
    "print(array_of_lists[1,2]) # the third element in the second row"
   ]
  },
  {
   "cell_type": "code",
   "execution_count": 150,
   "metadata": {},
   "outputs": [
    {
     "name": "stdout",
     "output_type": "stream",
     "text": [
      "6\n"
     ]
    }
   ],
   "source": [
    "print(array_of_lists[1][2])"
   ]
  },
  {
   "cell_type": "markdown",
   "metadata": {},
   "source": [
    "Note the use of the comma, instead of multiple square brackets. Both variations work when we’re using numpy. In pure Python, only the first version (using brackets) will work."
   ]
  },
  {
   "cell_type": "markdown",
   "metadata": {},
   "source": [
    "We mentioned that 2d arrays are in “row-major order”. Here’s what that means:"
   ]
  },
  {
   "cell_type": "code",
   "execution_count": 151,
   "metadata": {},
   "outputs": [
    {
     "data": {
      "text/plain": [
       "array([1, 2, 3])"
      ]
     },
     "execution_count": 151,
     "metadata": {},
     "output_type": "execute_result"
    }
   ],
   "source": [
    "array_of_lists[0]"
   ]
  },
  {
   "cell_type": "markdown",
   "metadata": {},
   "source": [
    "When we give a partial set of indices, we’re slicing one row from the the array.\n",
    "\n",
    "To slice a column from the array, we **need to explain which rows we want**"
   ]
  },
  {
   "cell_type": "code",
   "execution_count": 152,
   "metadata": {},
   "outputs": [
    {
     "data": {
      "text/plain": [
       "array([1, 4])"
      ]
     },
     "execution_count": 152,
     "metadata": {},
     "output_type": "execute_result"
    }
   ],
   "source": [
    "array_of_lists[:,0]\n",
    "# The : for the row index means “all”"
   ]
  },
  {
   "cell_type": "code",
   "execution_count": 161,
   "metadata": {},
   "outputs": [],
   "source": [
    "# a little complex manipulation:\n",
    "input = np.array([\n",
    "        [1, 6],\n",
    "        [2, 5],\n",
    "        [3, 7],\n",
    "        [4, 10]\n",
    "        ])"
   ]
  },
  {
   "cell_type": "code",
   "execution_count": 155,
   "metadata": {},
   "outputs": [
    {
     "data": {
      "text/plain": [
       "4"
      ]
     },
     "execution_count": 155,
     "metadata": {},
     "output_type": "execute_result"
    }
   ],
   "source": [
    "m = len(input)\n",
    "m"
   ]
  },
  {
   "cell_type": "code",
   "execution_count": 160,
   "metadata": {},
   "outputs": [
    {
     "data": {
      "text/plain": [
       "array([[1., 1.],\n",
       "       [1., 2.],\n",
       "       [1., 3.],\n",
       "       [1., 4.]])"
      ]
     },
     "execution_count": 160,
     "metadata": {},
     "output_type": "execute_result"
    }
   ],
   "source": [
    "x = np.array([np.ones(m), input[:, 0]]).T\n",
    "x"
   ]
  },
  {
   "cell_type": "markdown",
   "metadata": {},
   "source": [
    "Use np.ones(m) to produce a array of m one values.\n",
    "\n",
    "Use input[:, 0] to slice off the first column of the input.\n",
    "\n",
    "Put them to gether with np.array([np.ones(m), input[:, 0]]) we get two rows instead of two columnns\n",
    "\n",
    "The .T operator transposes (or “pivots”) two rows to become two columns."
   ]
  },
  {
   "cell_type": "markdown",
   "metadata": {},
   "source": [
    "You can use numpy arrays of **Boolean values to filter data,** which you can’t do with lists:"
   ]
  },
  {
   "cell_type": "code",
   "execution_count": 162,
   "metadata": {},
   "outputs": [
    {
     "ename": "TypeError",
     "evalue": "list indices must be integers or slices, not list",
     "output_type": "error",
     "traceback": [
      "\u001b[0;31m---------------------------------------------------------------------------\u001b[0m",
      "\u001b[0;31mTypeError\u001b[0m                                 Traceback (most recent call last)",
      "\u001b[0;32m<ipython-input-162-aca3cbb907c6>\u001b[0m in \u001b[0;36m<module>\u001b[0;34m\u001b[0m\n\u001b[1;32m      1\u001b[0m \u001b[0mbool_list\u001b[0m \u001b[0;34m=\u001b[0m \u001b[0;34m[\u001b[0m\u001b[0;32mTrue\u001b[0m\u001b[0;34m,\u001b[0m\u001b[0;32mTrue\u001b[0m\u001b[0;34m,\u001b[0m\u001b[0;32mFalse\u001b[0m\u001b[0;34m,\u001b[0m\u001b[0;32mTrue\u001b[0m\u001b[0;34m,\u001b[0m\u001b[0;32mTrue\u001b[0m\u001b[0;34m]\u001b[0m\u001b[0;34m\u001b[0m\u001b[0;34m\u001b[0m\u001b[0m\n\u001b[1;32m      2\u001b[0m \u001b[0mdata_list\u001b[0m \u001b[0;34m=\u001b[0m \u001b[0;34m[\u001b[0m\u001b[0;36m1\u001b[0m\u001b[0;34m,\u001b[0m\u001b[0;36m2\u001b[0m\u001b[0;34m,\u001b[0m\u001b[0;36m3\u001b[0m\u001b[0;34m,\u001b[0m\u001b[0;36m4\u001b[0m\u001b[0;34m,\u001b[0m\u001b[0;36m5\u001b[0m\u001b[0;34m]\u001b[0m\u001b[0;34m\u001b[0m\u001b[0;34m\u001b[0m\u001b[0m\n\u001b[0;32m----> 3\u001b[0;31m \u001b[0mdata_list\u001b[0m\u001b[0;34m[\u001b[0m\u001b[0mbool_list\u001b[0m\u001b[0;34m]\u001b[0m\u001b[0;34m\u001b[0m\u001b[0;34m\u001b[0m\u001b[0m\n\u001b[0m",
      "\u001b[0;31mTypeError\u001b[0m: list indices must be integers or slices, not list"
     ]
    }
   ],
   "source": [
    "bool_list = [True,True,False,True,True]\n",
    "data_list = [1,2,3,4,5]\n",
    "data_list[bool_list]"
   ]
  },
  {
   "cell_type": "code",
   "execution_count": 163,
   "metadata": {},
   "outputs": [
    {
     "name": "stdout",
     "output_type": "stream",
     "text": [
      "[1 2 4 5]\n"
     ]
    }
   ],
   "source": [
    "bool_array = np.array(bool_list)\n",
    "data_array = np.array(data_list)\n",
    "print(data_array[bool_array])"
   ]
  },
  {
   "cell_type": "code",
   "execution_count": 164,
   "metadata": {},
   "outputs": [
    {
     "name": "stdout",
     "output_type": "stream",
     "text": [
      "[6 7 8 9]\n"
     ]
    }
   ],
   "source": [
    "data_array = np.arange(10)\n",
    "print(data_array[data_array > 5])"
   ]
  },
  {
   "cell_type": "code",
   "execution_count": 166,
   "metadata": {},
   "outputs": [
    {
     "name": "stdout",
     "output_type": "stream",
     "text": [
      "[   0    1    2    3    4    5 -999 -999 -999 -999]\n"
     ]
    }
   ],
   "source": [
    "data_array[data_array > 5] = -999\n",
    "print(data_array)"
   ]
  },
  {
   "cell_type": "markdown",
   "metadata": {},
   "source": [
    "For Numpy, Use **& (and)** and **| (or)** for combining two logical predicates into a more complex logical value"
   ]
  },
  {
   "cell_type": "code",
   "execution_count": 170,
   "metadata": {},
   "outputs": [
    {
     "name": "stdout",
     "output_type": "stream",
     "text": [
      "[5 6 7 8]\n"
     ]
    }
   ],
   "source": [
    "data_array = np.arange(10)\n",
    "filtered_data_array_and = data_array[(data_array >= 5) & (data_array < 9)] # you can not use 'and'\n",
    "print(filtered_data_array_and)"
   ]
  },
  {
   "cell_type": "code",
   "execution_count": 169,
   "metadata": {},
   "outputs": [
    {
     "name": "stdout",
     "output_type": "stream",
     "text": [
      "[   0    1    2    3    4    5 -999 -999 -999 -999]\n"
     ]
    }
   ],
   "source": [
    "filtered_data_array_or = data_array[(data_array <= 5) | (data_array >= 9)]\n",
    "print(filtered_data_array_or)"
   ]
  },
  {
   "cell_type": "markdown",
   "metadata": {},
   "source": [
    "Math with Numpy Arrays"
   ]
  },
  {
   "cell_type": "code",
   "execution_count": 172,
   "metadata": {},
   "outputs": [
    {
     "name": "stdout",
     "output_type": "stream",
     "text": [
      "[ 0.    3.14  6.28  9.42 12.56 15.7  18.84 21.98 25.12 28.26]\n"
     ]
    }
   ],
   "source": [
    "x_array = np.arange(10)\n",
    "pi = 3.14\n",
    "print(x_array*pi)"
   ]
  },
  {
   "cell_type": "code",
   "execution_count": 173,
   "metadata": {},
   "outputs": [
    {
     "name": "stdout",
     "output_type": "stream",
     "text": [
      "[10 12 14 16 18 20 22 24 26 28]\n"
     ]
    }
   ],
   "source": [
    "y_array = np.arange(10,20)\n",
    "print(x_array+y_array)"
   ]
  },
  {
   "cell_type": "markdown",
   "metadata": {},
   "source": [
    "By default Numpy array math happens elementwise, which means that operations are performed on elements from each array that have the same index value.\n",
    "\n",
    "That makes sense when the two arrays have the same shape, but what happens if they don’t? We’ve actually already seen the answer in action when we printed x_array*pi – Numpy ‘scales up’ the pi variable to the size of x_array, then does the math.\n",
    "\n",
    "This process is called **broadcasting.** "
   ]
  },
  {
   "cell_type": "code",
   "execution_count": 176,
   "metadata": {},
   "outputs": [
    {
     "data": {
      "text/plain": [
       "array([ 3,  6,  9, 12, 15, 18, 21, 24, 27, 30])"
      ]
     },
     "execution_count": 176,
     "metadata": {},
     "output_type": "execute_result"
    }
   ],
   "source": [
    "some_data = np.arange(10)\n",
    "more_data = np.arange(3,33,3)\n",
    "more_data"
   ]
  },
  {
   "cell_type": "code",
   "execution_count": 178,
   "metadata": {},
   "outputs": [
    {
     "data": {
      "text/plain": [
       "array([ 3,  7, 11, 15, 19, 23, 27, 31, 35, 39])"
      ]
     },
     "execution_count": 178,
     "metadata": {},
     "output_type": "execute_result"
    }
   ],
   "source": [
    "some_data + more_data"
   ]
  },
  {
   "cell_type": "markdown",
   "metadata": {},
   "source": [
    "General Broadcasting Rules\n",
    "\n",
    "When operating on two arrays, NumPy compares their shapes element-wise. It starts with the trailing dimensions, and works its way forward. Two dimensions are compatible when\n",
    "\n",
    "- they are equal, or\n",
    "- one of them is 1\n",
    "\n",
    "If these conditions are not met, a ValueError: operands could not be broadcast together exception is thrown, indicating that the arrays have incompatible shapes"
   ]
  },
  {
   "cell_type": "code",
   "execution_count": 179,
   "metadata": {},
   "outputs": [],
   "source": [
    "x = np.arange(4)\n",
    "xx = x.reshape(4,1)\n",
    "y = np.ones(5)\n",
    "z = np.ones((3,4))\n"
   ]
  },
  {
   "cell_type": "code",
   "execution_count": 180,
   "metadata": {},
   "outputs": [
    {
     "data": {
      "text/plain": [
       "(4,)"
      ]
     },
     "execution_count": 180,
     "metadata": {},
     "output_type": "execute_result"
    }
   ],
   "source": [
    "x.shape"
   ]
  },
  {
   "cell_type": "code",
   "execution_count": 181,
   "metadata": {},
   "outputs": [
    {
     "data": {
      "text/plain": [
       "(5,)"
      ]
     },
     "execution_count": 181,
     "metadata": {},
     "output_type": "execute_result"
    }
   ],
   "source": [
    "y.shape"
   ]
  },
  {
   "cell_type": "code",
   "execution_count": 182,
   "metadata": {},
   "outputs": [
    {
     "ename": "ValueError",
     "evalue": "operands could not be broadcast together with shapes (4,) (5,) ",
     "output_type": "error",
     "traceback": [
      "\u001b[0;31m---------------------------------------------------------------------------\u001b[0m",
      "\u001b[0;31mValueError\u001b[0m                                Traceback (most recent call last)",
      "\u001b[0;32m<ipython-input-182-cd60f97aa77f>\u001b[0m in \u001b[0;36m<module>\u001b[0;34m\u001b[0m\n\u001b[0;32m----> 1\u001b[0;31m \u001b[0mx\u001b[0m \u001b[0;34m+\u001b[0m \u001b[0my\u001b[0m\u001b[0;34m\u001b[0m\u001b[0;34m\u001b[0m\u001b[0m\n\u001b[0m",
      "\u001b[0;31mValueError\u001b[0m: operands could not be broadcast together with shapes (4,) (5,) "
     ]
    }
   ],
   "source": [
    "x + y"
   ]
  },
  {
   "cell_type": "code",
   "execution_count": 183,
   "metadata": {},
   "outputs": [
    {
     "data": {
      "text/plain": [
       "(4, 1)"
      ]
     },
     "execution_count": 183,
     "metadata": {},
     "output_type": "execute_result"
    }
   ],
   "source": [
    "xx.shape"
   ]
  },
  {
   "cell_type": "code",
   "execution_count": 184,
   "metadata": {},
   "outputs": [
    {
     "data": {
      "text/plain": [
       "(5,)"
      ]
     },
     "execution_count": 184,
     "metadata": {},
     "output_type": "execute_result"
    }
   ],
   "source": [
    "y.shape"
   ]
  },
  {
   "cell_type": "code",
   "execution_count": 185,
   "metadata": {},
   "outputs": [
    {
     "data": {
      "text/plain": [
       "array([[0],\n",
       "       [1],\n",
       "       [2],\n",
       "       [3]])"
      ]
     },
     "execution_count": 185,
     "metadata": {},
     "output_type": "execute_result"
    }
   ],
   "source": [
    "xx"
   ]
  },
  {
   "cell_type": "code",
   "execution_count": 186,
   "metadata": {},
   "outputs": [
    {
     "data": {
      "text/plain": [
       "array([1., 1., 1., 1., 1.])"
      ]
     },
     "execution_count": 186,
     "metadata": {},
     "output_type": "execute_result"
    }
   ],
   "source": [
    "y"
   ]
  },
  {
   "cell_type": "code",
   "execution_count": 187,
   "metadata": {},
   "outputs": [
    {
     "data": {
      "text/plain": [
       "array([[1., 1., 1., 1., 1.],\n",
       "       [2., 2., 2., 2., 2.],\n",
       "       [3., 3., 3., 3., 3.],\n",
       "       [4., 4., 4., 4., 4.]])"
      ]
     },
     "execution_count": 187,
     "metadata": {},
     "output_type": "execute_result"
    }
   ],
   "source": [
    "xx + y"
   ]
  },
  {
   "cell_type": "code",
   "execution_count": 188,
   "metadata": {},
   "outputs": [
    {
     "data": {
      "text/plain": [
       "array([[1., 1., 1., 1.],\n",
       "       [1., 1., 1., 1.],\n",
       "       [1., 1., 1., 1.]])"
      ]
     },
     "execution_count": 188,
     "metadata": {},
     "output_type": "execute_result"
    }
   ],
   "source": [
    "z"
   ]
  },
  {
   "cell_type": "code",
   "execution_count": 189,
   "metadata": {},
   "outputs": [
    {
     "data": {
      "text/plain": [
       "array([[1., 2., 3., 4.],\n",
       "       [1., 2., 3., 4.],\n",
       "       [1., 2., 3., 4.]])"
      ]
     },
     "execution_count": 189,
     "metadata": {},
     "output_type": "execute_result"
    }
   ],
   "source": [
    "x + z"
   ]
  },
  {
   "cell_type": "markdown",
   "metadata": {},
   "source": [
    "Numpy also includes a wide variety of useful functions (fully optimized for speed, of course) :"
   ]
  },
  {
   "cell_type": "code",
   "execution_count": 193,
   "metadata": {},
   "outputs": [
    {
     "name": "stdout",
     "output_type": "stream",
     "text": [
      "[ 9 24 11 14 18 22 14  2 25  3]\n"
     ]
    }
   ],
   "source": [
    "np.random.seed(891)\n",
    "random_array = np.random.randint(0,30,10)\n",
    "print(random_array)"
   ]
  },
  {
   "cell_type": "code",
   "execution_count": 194,
   "metadata": {},
   "outputs": [
    {
     "name": "stdout",
     "output_type": "stream",
     "text": [
      "142\n"
     ]
    }
   ],
   "source": [
    "print(np.sum(random_array))"
   ]
  },
  {
   "cell_type": "code",
   "execution_count": 195,
   "metadata": {},
   "outputs": [
    {
     "name": "stdout",
     "output_type": "stream",
     "text": [
      "14.2\n"
     ]
    }
   ],
   "source": [
    "print(np.mean(random_array))"
   ]
  },
  {
   "cell_type": "code",
   "execution_count": 196,
   "metadata": {},
   "outputs": [
    {
     "name": "stdout",
     "output_type": "stream",
     "text": [
      "14.0\n"
     ]
    }
   ],
   "source": [
    "print(np.median(random_array))"
   ]
  },
  {
   "cell_type": "code",
   "execution_count": 197,
   "metadata": {},
   "outputs": [
    {
     "name": "stdout",
     "output_type": "stream",
     "text": [
      "7.743384273042375\n"
     ]
    }
   ],
   "source": [
    "print(np.std(random_array)) "
   ]
  },
  {
   "cell_type": "code",
   "execution_count": 198,
   "metadata": {},
   "outputs": [
    {
     "name": "stdout",
     "output_type": "stream",
     "text": [
      "25\n"
     ]
    }
   ],
   "source": [
    "print(np.max(random_array))"
   ]
  },
  {
   "cell_type": "code",
   "execution_count": 199,
   "metadata": {},
   "outputs": [
    {
     "name": "stdout",
     "output_type": "stream",
     "text": [
      "8\n"
     ]
    }
   ],
   "source": [
    "print(np.argmax(random_array))  # The index of the maximum element"
   ]
  },
  {
   "cell_type": "code",
   "execution_count": 200,
   "metadata": {},
   "outputs": [
    {
     "name": "stdout",
     "output_type": "stream",
     "text": [
      "2\n"
     ]
    }
   ],
   "source": [
    "print(np.min(random_array))"
   ]
  },
  {
   "cell_type": "code",
   "execution_count": 201,
   "metadata": {},
   "outputs": [
    {
     "name": "stdout",
     "output_type": "stream",
     "text": [
      "7\n"
     ]
    }
   ],
   "source": [
    "print(np.argmin(random_array))  # The index of the minimum element"
   ]
  },
  {
   "cell_type": "code",
   "execution_count": 202,
   "metadata": {},
   "outputs": [
    {
     "name": "stdout",
     "output_type": "stream",
     "text": [
      "[ 2  3  9 11 14 14 18 22 24 25]\n"
     ]
    }
   ],
   "source": [
    "print(np.sort(random_array))"
   ]
  },
  {
   "cell_type": "code",
   "execution_count": 204,
   "metadata": {},
   "outputs": [
    {
     "name": "stdout",
     "output_type": "stream",
     "text": [
      "[ 2  3  9 11 14 18 22 24 25]\n"
     ]
    }
   ],
   "source": [
    "print(np.unique(random_array))"
   ]
  },
  {
   "cell_type": "markdown",
   "metadata": {},
   "source": [
    "## Reading and Writing Files – the Basics\n",
    "In this module, you will learn how use the built in file object in python to read, write and append to files. This is the essence of persistent data."
   ]
  },
  {
   "cell_type": "markdown",
   "metadata": {},
   "source": [
    "To open create a simple **text file** object you can use:\n",
    "    \n",
    "    file = open(filename[, mode[, buffering]])\n",
    "\n",
    "- filename refers to the name of the file you want to open (as a string; this can be an existing file or a new file that you are creating)\n",
    "\n",
    "- mode is a string that refers to whether you are reading or writing:\n",
    "\n",
    "    ‘r’ is for reading.\n",
    "    \n",
    "    ‘w’ is for writing. This will remove previous contents\n",
    "    \n",
    "    ‘a’ is for append.\n",
    "    \n",
    "- Don’t worry about buffering, the defaults are often adequate\n",
    "\n",
    "You can use a combination of modes, also. For example file= open(hello.txt, 'rw') will allow you to read and write to the hello.txt file. This will create the file if it doesn’t exist. It will erase any previous contents if it does exist.\n",
    "\n",
    "Once we have a file object, we’ll use various methods of the object to read or write the text in the file.\n",
    "\n",
    "To actually read the file object you can use:\n",
    "    \n",
    "    file.read([size]) #if size is omitted, reads the entire file\n",
    "    \n",
    "    file.readline() #finds newline character and reads a single line\n",
    "    \n",
    "To write to the file object:\n",
    "\n",
    "    file.write(\"Hi\\n\") #Note the \\n, which is a newline character\n",
    "\n",
    "Here’s the way we close a file:    \n",
    "    \n",
    "    file.close()\n"
   ]
  },
  {
   "cell_type": "code",
   "execution_count": 205,
   "metadata": {},
   "outputs": [],
   "source": [
    "f=open('hello_world.txt', 'w')\n",
    "f.write('hello world\\n')\n",
    "f.close() #Don’t forget to close the file when you are done."
   ]
  },
  {
   "cell_type": "markdown",
   "metadata": {},
   "source": [
    "**With statement:**\n",
    "\n",
    "To be sure that a file is closed, we often use the with statement. With this, we no longer need to worry about closing them when you are done. It will close automatically"
   ]
  },
  {
   "cell_type": "code",
   "execution_count": 207,
   "metadata": {},
   "outputs": [],
   "source": [
    "with open(\"hello_world.txt\") as newFile:\n",
    "    a=newFile.readlines() #Reads each line of a file into a list"
   ]
  },
  {
   "cell_type": "code",
   "execution_count": 208,
   "metadata": {},
   "outputs": [
    {
     "data": {
      "text/plain": [
       "['hello world\\n']"
      ]
     },
     "execution_count": 208,
     "metadata": {},
     "output_type": "execute_result"
    }
   ],
   "source": [
    "a"
   ]
  },
  {
   "cell_type": "markdown",
   "metadata": {},
   "source": [
    "Files as Iterables:\n",
    "\n",
    "An input file is an iterable object. It behaves like a collection of lines. We can use a file object in a for statement to iterate through the lines of the file. It often looks like this:"
   ]
  },
  {
   "cell_type": "code",
   "execution_count": null,
   "metadata": {},
   "outputs": [],
   "source": [
    "count = 0\n",
    "with open('some_file.txt') as source:\n",
    "    for line in source:\n",
    "        if len(line.rstrip()) == 0: continue #rstrip() method returns a copy of the string with trailing characters removed \n",
    "        count += 1\n",
    "print( \"{0} non-blank lines\".format(count) )"
   ]
  },
  {
   "cell_type": "markdown",
   "metadata": {},
   "source": [
    "We’ve filtered the lines of the file by checking the length after stripping whitespace from the end of the line. A zero-length line would have no content, and we’ve used the continue statement to skip processing these empty lines and incremented a counter for the non-empty lines in the file."
   ]
  },
  {
   "cell_type": "markdown",
   "metadata": {},
   "source": [
    "**Read CSV Files:**\n",
    "\n",
    "To read .CSV files, we use the built-in csv library. We will “wrap” the raw file to create a csv.reader object."
   ]
  },
  {
   "cell_type": "code",
   "execution_count": 216,
   "metadata": {},
   "outputs": [
    {
     "name": "stdout",
     "output_type": "stream",
     "text": [
      "['date', 'count']\n",
      "['2017-01-01', '20']\n",
      "['2017-01-02', '21']\n",
      "['2017-01-03', '22']\n",
      "['2017-01-04', '23']\n",
      "['2017-01-05', '24']\n",
      "['2017-01-06', '25']\n",
      "['2017-01-07', '26']\n",
      "['2017-01-08', '27']\n",
      "['2017-01-09', '28']\n",
      "['2017-01-10', '29']\n",
      "['2017-01-11', '30']\n",
      "['2017-01-12', '31']\n",
      "['2017-01-13', '32']\n",
      "['2017-01-14', '33']\n",
      "['2017-01-15', '34']\n",
      "['2017-01-16', '35']\n",
      "['2017-01-17', '36']\n",
      "['2017-01-18', '37']\n",
      "['2017-01-19', '38']\n",
      "['2017-01-20', '39']\n",
      "['2017-01-21', '40']\n",
      "['2017-01-22', '41']\n",
      "['2017-01-23', '42']\n",
      "['2017-01-24', '43']\n",
      "['2017-01-25', '44']\n",
      "['2017-01-26', '45']\n"
     ]
    }
   ],
   "source": [
    "import csv\n",
    "with open(\"count.csv\",\"r\") as source:\n",
    "    reader = csv.reader(source)\n",
    "    for row in reader:\n",
    "        print(row)"
   ]
  },
  {
   "cell_type": "markdown",
   "metadata": {},
   "source": [
    "This will open the file in “read” mode. This is the default; we can actually omit the \"r\" option.\n",
    "\n",
    "We create a reader object using the csv.reader() function. This will handle all details of CSV file parsing. The reader object is an iterable; when we reference it in the for statement, we get a sequence of rows.\n",
    "\n",
    "Each row will be a list of column values. Remember that lists are indexed from 0, so spreadsheet column “A” will be item zero of the row.\n",
    "\n",
    "The values will be purely text. If we want to handle values as numbers, we’ll need to do explicit conversion. If column “C” is an integer, we need to convert using int(row[1])."
   ]
  },
  {
   "cell_type": "markdown",
   "metadata": {},
   "source": [
    "CSV with Pipes:\n",
    "\n",
    "A common variation on CSV files is to use a character like | as a delimiter. This is still – technically – a “comma” separated value file; the | is filling the role of the ,\n",
    "\n",
    "    reader = csv.reader( source, delimiter='|' )"
   ]
  },
  {
   "cell_type": "markdown",
   "metadata": {},
   "source": [
    "CSV with headings:\n",
    "\n",
    "Some CSV files will have a header line. We can use the header to build a dictionary from each line of input.\n",
    "\n",
    "It looks like this:"
   ]
  },
  {
   "cell_type": "code",
   "execution_count": 219,
   "metadata": {},
   "outputs": [
    {
     "name": "stdout",
     "output_type": "stream",
     "text": [
      "2017-01-01 20\n",
      "2017-01-02 21\n",
      "2017-01-03 22\n",
      "2017-01-04 23\n",
      "2017-01-05 24\n",
      "2017-01-06 25\n",
      "2017-01-07 26\n",
      "2017-01-08 27\n",
      "2017-01-09 28\n",
      "2017-01-10 29\n",
      "2017-01-11 30\n",
      "2017-01-12 31\n",
      "2017-01-13 32\n",
      "2017-01-14 33\n",
      "2017-01-15 34\n",
      "2017-01-16 35\n",
      "2017-01-17 36\n",
      "2017-01-18 37\n",
      "2017-01-19 38\n",
      "2017-01-20 39\n",
      "2017-01-21 40\n",
      "2017-01-22 41\n",
      "2017-01-23 42\n",
      "2017-01-24 43\n",
      "2017-01-25 44\n",
      "2017-01-26 45\n"
     ]
    }
   ],
   "source": [
    "import csv\n",
    "with open(\"count.csv\",\"r\") as source:\n",
    "    reader = csv.DictReader(source)\n",
    "    for row in reader:\n",
    "        print(row['date'], row['count'])"
   ]
  },
  {
   "cell_type": "markdown",
   "metadata": {},
   "source": [
    "Reading and Writing Columnar Data with Numpy:\n",
    "\n",
    "Numpy has functions to handle file I/O"
   ]
  },
  {
   "cell_type": "code",
   "execution_count": 220,
   "metadata": {},
   "outputs": [
    {
     "name": "stdout",
     "output_type": "stream",
     "text": [
      "[[ 0  1]\n",
      " [ 2  3]\n",
      " [ 4  5]\n",
      " [ 6  7]\n",
      " [ 8  9]\n",
      " [10 11]\n",
      " [12 13]\n",
      " [14 15]\n",
      " [16 17]\n",
      " [18 19]]\n"
     ]
    }
   ],
   "source": [
    "array_to_save = np.arange(20).reshape(10,2)\n",
    "print(array_to_save)"
   ]
  },
  {
   "cell_type": "code",
   "execution_count": 221,
   "metadata": {},
   "outputs": [],
   "source": [
    "np.savetxt('saved_file.csv',array_to_save,delimiter=',')"
   ]
  },
  {
   "cell_type": "code",
   "execution_count": 222,
   "metadata": {},
   "outputs": [
    {
     "name": "stdout",
     "output_type": "stream",
     "text": [
      "[[ 0.  1.]\n",
      " [ 2.  3.]\n",
      " [ 4.  5.]\n",
      " [ 6.  7.]\n",
      " [ 8.  9.]\n",
      " [10. 11.]\n",
      " [12. 13.]\n",
      " [14. 15.]\n",
      " [16. 17.]\n",
      " [18. 19.]]\n"
     ]
    }
   ],
   "source": [
    "loaded_array = np.loadtxt('saved_file.csv',delimiter=',')\n",
    "print(loaded_array)"
   ]
  },
  {
   "cell_type": "code",
   "execution_count": 234,
   "metadata": {},
   "outputs": [],
   "source": [
    "output_array_1 = np.arange(10)\n",
    "output_array_2 = np.arange(10,20)\n",
    "np.savetxt('file_2.txt', np.array([output_array_1,output_array_2]))"
   ]
  },
  {
   "cell_type": "code",
   "execution_count": 237,
   "metadata": {},
   "outputs": [],
   "source": [
    "output_array_1 = np.arange(10)\n",
    "output_array_2 = np.arange(10,20)\n",
    "np.savetxt('file_3.txt', np.transpose([output_array_1,output_array_2]))"
   ]
  },
  {
   "cell_type": "code",
   "execution_count": null,
   "metadata": {},
   "outputs": [],
   "source": [
    "Loading data into multiple 1D arrays is also easy:"
   ]
  },
  {
   "cell_type": "code",
   "execution_count": 239,
   "metadata": {},
   "outputs": [
    {
     "name": "stdout",
     "output_type": "stream",
     "text": [
      "[0. 1. 2. 3. 4. 5. 6. 7. 8. 9.]\n",
      "[10. 11. 12. 13. 14. 15. 16. 17. 18. 19.]\n"
     ]
    }
   ],
   "source": [
    "input_array_1,input_array_2 = np.loadtxt('file_3.txt',unpack=True)\n",
    "print(input_array_1)\n",
    "print(input_array_2)"
   ]
  },
  {
   "cell_type": "code",
   "execution_count": null,
   "metadata": {},
   "outputs": [],
   "source": []
  },
  {
   "cell_type": "code",
   "execution_count": null,
   "metadata": {},
   "outputs": [],
   "source": []
  },
  {
   "cell_type": "code",
   "execution_count": null,
   "metadata": {},
   "outputs": [],
   "source": []
  },
  {
   "cell_type": "code",
   "execution_count": null,
   "metadata": {},
   "outputs": [],
   "source": []
  }
 ],
 "metadata": {
  "kernelspec": {
   "display_name": "Python 3",
   "language": "python",
   "name": "python3"
  },
  "language_info": {
   "codemirror_mode": {
    "name": "ipython",
    "version": 3
   },
   "file_extension": ".py",
   "mimetype": "text/x-python",
   "name": "python",
   "nbconvert_exporter": "python",
   "pygments_lexer": "ipython3",
   "version": "3.6.5"
  }
 },
 "nbformat": 4,
 "nbformat_minor": 2
}
